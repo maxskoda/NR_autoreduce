{
  "nbformat": 4,
  "nbformat_minor": 0,
  "metadata": {
    "colab": {
      "name": "INTER_LiveData.ipynb",
      "provenance": [],
      "collapsed_sections": [],
      "authorship_tag": "ABX9TyN8rBNx1ItF8p4JblqQwlII",
      "include_colab_link": true
    },
    "kernelspec": {
      "name": "python3",
      "display_name": "Python 3"
    },
    "widgets": {
      "application/vnd.jupyter.widget-state+json": {
        "69f6c0022de545bf85085b124569bbd1": {
          "model_module": "@jupyter-widgets/controls",
          "model_name": "HBoxModel",
          "state": {
            "_view_name": "HBoxView",
            "_dom_classes": [],
            "_model_name": "HBoxModel",
            "_view_module": "@jupyter-widgets/controls",
            "_model_module_version": "1.5.0",
            "_view_count": null,
            "_view_module_version": "1.5.0",
            "box_style": "",
            "layout": "IPY_MODEL_21000d08ea824ba6a5c115c63d0dcb90",
            "_model_module": "@jupyter-widgets/controls",
            "children": [
              "IPY_MODEL_8d1991fcc3ba4c81ab94c8b56ff3e294"
            ]
          }
        },
        "21000d08ea824ba6a5c115c63d0dcb90": {
          "model_module": "@jupyter-widgets/base",
          "model_name": "LayoutModel",
          "state": {
            "_view_name": "LayoutView",
            "grid_template_rows": null,
            "right": null,
            "justify_content": null,
            "_view_module": "@jupyter-widgets/base",
            "overflow": null,
            "_model_module_version": "1.2.0",
            "_view_count": null,
            "flex_flow": null,
            "width": null,
            "min_width": null,
            "border": null,
            "align_items": null,
            "bottom": null,
            "_model_module": "@jupyter-widgets/base",
            "top": null,
            "grid_column": null,
            "overflow_y": null,
            "overflow_x": null,
            "grid_auto_flow": null,
            "grid_area": null,
            "grid_template_columns": null,
            "flex": null,
            "_model_name": "LayoutModel",
            "justify_items": null,
            "grid_row": null,
            "max_height": null,
            "align_content": null,
            "visibility": null,
            "align_self": null,
            "height": null,
            "min_height": null,
            "padding": null,
            "grid_auto_rows": null,
            "grid_gap": null,
            "max_width": null,
            "order": null,
            "_view_module_version": "1.2.0",
            "grid_template_areas": null,
            "object_position": null,
            "object_fit": null,
            "grid_auto_columns": null,
            "margin": null,
            "display": null,
            "left": null
          }
        },
        "8d1991fcc3ba4c81ab94c8b56ff3e294": {
          "model_module": "@jupyter-widgets/output",
          "model_name": "OutputModel",
          "state": {
            "_view_name": "OutputView",
            "msg_id": "",
            "_dom_classes": [],
            "_model_name": "OutputModel",
            "outputs": [
              {
                "output_type": "display_data",
                "metadata": {
                  "tags": []
                },
                "text/html": "<html>\n<head><meta charset=\"utf-8\" /></head>\n<body>\n    <div>\n            <script src=\"https://cdnjs.cloudflare.com/ajax/libs/mathjax/2.7.5/MathJax.js?config=TeX-AMS-MML_SVG\"></script><script type=\"text/javascript\">if (window.MathJax) {MathJax.Hub.Config({SVG: {font: \"STIX-Web\"}});}</script>\n                <script type=\"text/javascript\">window.PlotlyConfig = {MathJaxConfig: 'local'};</script>\n        <script src=\"https://cdn.plot.ly/plotly-latest.min.js\"></script>    \n            <div id=\"7cc85080-ff42-429d-98cb-10358f18c150\" class=\"plotly-graph-div\" style=\"height:500px; width:600px;\"></div>\n            <script type=\"text/javascript\">\n                \n                    window.PLOTLYENV=window.PLOTLYENV || {};\n                    \n                if (document.getElementById(\"7cc85080-ff42-429d-98cb-10358f18c150\")) {\n                    Plotly.newPlot(\n                        '7cc85080-ff42-429d-98cb-10358f18c150',\n                        [{\"error_y\": {\"array\": [0.044952195424277405, 0.03940887692256975, 0.03451452563776904, 0.0291343640241424, 0.025874816412108745, 0.023694568663560733, 0.02116590038035204, 0.019930176722864717, 0.01862116917103984, 0.016909116304409996, 0.015902207932344224, 0.014621699375725494, 0.01229759301245964, 0.008932118714683737, 0.007396722033308998, 0.005675652410615453, 0.004227237661828253, 0.003213689200716039, 0.002742399419099171, 0.002273718800892518, 0.0018188898622677402, 0.0015107061799133257, 0.0012939501137460723, 0.0011333355770360247, 0.0009345213191560291, 0.0007935712444395282, 0.0006919379539507512, 0.0005939401898218961, 0.0005107770257735976, 0.0004478182163531101, 0.00040315558117460663, 0.0003467039691334041, 0.00029606747898331824, 0.0002594416850548535, 0.00023277628889401306, 0.00020903907995172666, 0.00018187494406777534, 0.00016917402838189486, 0.00015883725693281462, 0.00014359629121503658, 0.00012641610002544774, 0.00011888749263158829, 0.00010953344296375239, 9.907376268525754e-05, 9.337225853171912e-05, 8.007033401678268e-05, 8.035181181023745e-05, 7.354124214450682e-05, 6.246922246516935e-05, 6.4110743898513e-05, 5.614801049837873e-05, 4.9846213778265926e-05, 4.540667504856903e-05, 5.3391192600281356e-05, 5.0590125479319855e-05, 4.3818710181520674e-05, 4.2008100888994175e-05, 4.9201327066235943e-05, 4.7965434505904346e-05, 5.2171121367714285e-05, 5.136521606292716e-05, 6.509054913524916e-05, 6.616886606741648e-05, 1.5584073472797015e-05, 2.397779359217183e-05, 4.891926103001565e-05, 2.723947793547697e-05, 6.278569939444842e-05, 0], \"type\": \"data\", \"visible\": true}, \"type\": \"scatter\", \"x\": [\"0.010963835000000002\", \"0.011347569225000001\", \"0.011744734147875002\", \"0.012155799843050628\", \"0.0125812528375574\", \"0.013021596686871908\", \"0.013477352570912425\", \"0.01394905991089436\", \"0.014437277007775662\", \"0.01494258170304781\", \"0.015465572062654484\", \"0.01600686708484739\", \"0.01656710743281705\", \"0.01714695619296565\", \"0.017747099659719445\", \"0.018368248147809626\", \"0.019011136832982962\", \"0.019676526622137366\", \"0.020365205053912174\", \"0.0210779872307991\", \"0.02181571678387707\", \"0.022579266871312766\", \"0.023369541211808714\", \"0.024187475154222017\", \"0.02503403678461979\", \"0.02591022807208148\", \"0.026817086054604332\", \"0.027755684066515483\", \"0.028727133008843525\", \"0.02973258266415305\", \"0.030773223057398404\", \"0.03185028586440735\", \"0.032965045869661605\", \"0.03411882247509976\", \"0.03531298126172825\", \"0.03654893560588874\", \"0.037828148352094845\", \"0.03915213354441816\", \"0.0405224582184728\", \"0.04194074425611935\", \"0.043408670305083524\", \"0.04492797376576145\", \"0.0465004528475631\", \"0.04812796869722781\", \"0.04981244760163078\", \"0.05155588326768786\", \"0.05336033918205694\", \"0.05522795105342893\", \"0.05716092934029895\", \"0.05916156186720941\", \"0.06123221653256174\", \"0.0633753441112014\", \"0.06559348115509345\", \"0.06788925299552172\", \"0.07026537685036498\", \"0.07272466504012776\", \"0.07527002831653223\", \"0.07790447930761087\", \"0.08063113608337724\", \"0.08345322584629544\", \"0.08637408875091579\", \"0.08939718185719785\", \"0.09252608322219977\", \"0.09576449613497676\", \"0.09911625349970095\", \"0.10258532237219048\", \"0.10617580865521714\", \"0.10989196195814974\", \"0.11373818062668498\"], \"y\": [1.313631476243331, 1.28735884734397, 1.2777289559469152, 1.1837250518626643, 1.1318678471436177, 1.155730115011886, 1.1119194882848402, 1.1339044206687021, 1.1595146610269143, 1.1297755863934371, 1.1467076218534626, 1.1243519374154907, 0.9314347130126747, 0.4913589371188874, 0.2838844272757463, 0.2073823066397687, 0.14854924593467816, 0.10812349454172765, 0.09128084726384507, 0.07018255065074988, 0.05294113526873492, 0.04239763619895157, 0.03551515354991067, 0.03058271319017252, 0.024127981623099818, 0.01942383393155143, 0.01704258519358066, 0.014045373675795898, 0.011754233336744102, 0.010114790494167991, 0.009074182442802876, 0.007465808757856791, 0.0059470830445571, 0.005127532690142012, 0.004444533357762421, 0.0037342150161354666, 0.0030406540932196046, 0.0027017590392529904, 0.002422090428668518, 0.002021707294141822, 0.0015997685623500976, 0.0014801337384844078, 0.0013398877394568628, 0.001136232894796075, 0.0010602085216025283, 0.0008055504249802898, 0.0008353484026772074, 0.0007238632060395992, 0.0005357491764363167, 0.0005593529409298993, 0.00042541689912132033, 0.00033776723537731686, 0.00027522464828520624, 0.000364433652071917, 0.00030219095133225714, 0.00019776925875610287, 0.0001581685704059951, 0.0001886910606127334, 0.00015468545771765732, 0.00016095025936402254, 0.00013574177756673457, 0.00019482619422917877, 0.00018685947470021725, 8.282167028847125e-06, 2.029274486504831e-05, 7.459757636098477e-05, 2.2219136293020234e-05, 0.00010863135691797774, 0]}],\n                        {\"height\": 500, \"margin\": {\"b\": 20, \"l\": 100, \"r\": 20, \"t\": 20}, \"modebar\": {\"orientation\": \"v\"}, \"template\": {\"data\": {\"bar\": [{\"error_x\": {\"color\": \"#2a3f5f\"}, \"error_y\": {\"color\": \"#2a3f5f\"}, \"marker\": {\"line\": {\"color\": \"#E5ECF6\", \"width\": 0.5}}, \"type\": \"bar\"}], \"barpolar\": [{\"marker\": {\"line\": {\"color\": \"#E5ECF6\", \"width\": 0.5}}, \"type\": \"barpolar\"}], \"carpet\": [{\"aaxis\": {\"endlinecolor\": \"#2a3f5f\", \"gridcolor\": \"white\", \"linecolor\": \"white\", \"minorgridcolor\": \"white\", \"startlinecolor\": \"#2a3f5f\"}, \"baxis\": {\"endlinecolor\": \"#2a3f5f\", \"gridcolor\": \"white\", \"linecolor\": \"white\", \"minorgridcolor\": \"white\", \"startlinecolor\": \"#2a3f5f\"}, \"type\": \"carpet\"}], \"choropleth\": [{\"colorbar\": {\"outlinewidth\": 0, \"ticks\": \"\"}, \"type\": \"choropleth\"}], \"contour\": [{\"colorbar\": {\"outlinewidth\": 0, \"ticks\": \"\"}, \"colorscale\": [[0.0, \"#0d0887\"], [0.1111111111111111, \"#46039f\"], [0.2222222222222222, \"#7201a8\"], [0.3333333333333333, \"#9c179e\"], [0.4444444444444444, \"#bd3786\"], [0.5555555555555556, \"#d8576b\"], [0.6666666666666666, \"#ed7953\"], [0.7777777777777778, \"#fb9f3a\"], [0.8888888888888888, \"#fdca26\"], [1.0, \"#f0f921\"]], \"type\": \"contour\"}], \"contourcarpet\": [{\"colorbar\": {\"outlinewidth\": 0, \"ticks\": \"\"}, \"type\": \"contourcarpet\"}], \"heatmap\": [{\"colorbar\": {\"outlinewidth\": 0, \"ticks\": \"\"}, \"colorscale\": [[0.0, \"#0d0887\"], [0.1111111111111111, \"#46039f\"], [0.2222222222222222, \"#7201a8\"], [0.3333333333333333, \"#9c179e\"], [0.4444444444444444, \"#bd3786\"], [0.5555555555555556, \"#d8576b\"], [0.6666666666666666, \"#ed7953\"], [0.7777777777777778, \"#fb9f3a\"], [0.8888888888888888, \"#fdca26\"], [1.0, \"#f0f921\"]], \"type\": \"heatmap\"}], \"heatmapgl\": [{\"colorbar\": {\"outlinewidth\": 0, \"ticks\": \"\"}, \"colorscale\": [[0.0, \"#0d0887\"], [0.1111111111111111, \"#46039f\"], [0.2222222222222222, \"#7201a8\"], [0.3333333333333333, \"#9c179e\"], [0.4444444444444444, \"#bd3786\"], [0.5555555555555556, \"#d8576b\"], [0.6666666666666666, \"#ed7953\"], [0.7777777777777778, \"#fb9f3a\"], [0.8888888888888888, \"#fdca26\"], [1.0, \"#f0f921\"]], \"type\": \"heatmapgl\"}], \"histogram\": [{\"marker\": {\"colorbar\": {\"outlinewidth\": 0, \"ticks\": \"\"}}, \"type\": \"histogram\"}], \"histogram2d\": [{\"colorbar\": {\"outlinewidth\": 0, \"ticks\": \"\"}, \"colorscale\": [[0.0, \"#0d0887\"], [0.1111111111111111, \"#46039f\"], [0.2222222222222222, \"#7201a8\"], [0.3333333333333333, \"#9c179e\"], [0.4444444444444444, \"#bd3786\"], [0.5555555555555556, \"#d8576b\"], [0.6666666666666666, \"#ed7953\"], [0.7777777777777778, \"#fb9f3a\"], [0.8888888888888888, \"#fdca26\"], [1.0, \"#f0f921\"]], \"type\": \"histogram2d\"}], \"histogram2dcontour\": [{\"colorbar\": {\"outlinewidth\": 0, \"ticks\": \"\"}, \"colorscale\": [[0.0, \"#0d0887\"], [0.1111111111111111, \"#46039f\"], [0.2222222222222222, \"#7201a8\"], [0.3333333333333333, \"#9c179e\"], [0.4444444444444444, \"#bd3786\"], [0.5555555555555556, \"#d8576b\"], [0.6666666666666666, \"#ed7953\"], [0.7777777777777778, \"#fb9f3a\"], [0.8888888888888888, \"#fdca26\"], [1.0, \"#f0f921\"]], \"type\": \"histogram2dcontour\"}], \"mesh3d\": [{\"colorbar\": {\"outlinewidth\": 0, \"ticks\": \"\"}, \"type\": \"mesh3d\"}], \"parcoords\": [{\"line\": {\"colorbar\": {\"outlinewidth\": 0, \"ticks\": \"\"}}, \"type\": \"parcoords\"}], \"pie\": [{\"automargin\": true, \"type\": \"pie\"}], \"scatter\": [{\"marker\": {\"colorbar\": {\"outlinewidth\": 0, \"ticks\": \"\"}}, \"type\": \"scatter\"}], \"scatter3d\": [{\"line\": {\"colorbar\": {\"outlinewidth\": 0, \"ticks\": \"\"}}, \"marker\": {\"colorbar\": {\"outlinewidth\": 0, \"ticks\": \"\"}}, \"type\": \"scatter3d\"}], \"scattercarpet\": [{\"marker\": {\"colorbar\": {\"outlinewidth\": 0, \"ticks\": \"\"}}, \"type\": \"scattercarpet\"}], \"scattergeo\": [{\"marker\": {\"colorbar\": {\"outlinewidth\": 0, \"ticks\": \"\"}}, \"type\": \"scattergeo\"}], \"scattergl\": [{\"marker\": {\"colorbar\": {\"outlinewidth\": 0, \"ticks\": \"\"}}, \"type\": \"scattergl\"}], \"scattermapbox\": [{\"marker\": {\"colorbar\": {\"outlinewidth\": 0, \"ticks\": \"\"}}, \"type\": \"scattermapbox\"}], \"scatterpolar\": [{\"marker\": {\"colorbar\": {\"outlinewidth\": 0, \"ticks\": \"\"}}, \"type\": \"scatterpolar\"}], \"scatterpolargl\": [{\"marker\": {\"colorbar\": {\"outlinewidth\": 0, \"ticks\": \"\"}}, \"type\": \"scatterpolargl\"}], \"scatterternary\": [{\"marker\": {\"colorbar\": {\"outlinewidth\": 0, \"ticks\": \"\"}}, \"type\": \"scatterternary\"}], \"surface\": [{\"colorbar\": {\"outlinewidth\": 0, \"ticks\": \"\"}, \"colorscale\": [[0.0, \"#0d0887\"], [0.1111111111111111, \"#46039f\"], [0.2222222222222222, \"#7201a8\"], [0.3333333333333333, \"#9c179e\"], [0.4444444444444444, \"#bd3786\"], [0.5555555555555556, \"#d8576b\"], [0.6666666666666666, \"#ed7953\"], [0.7777777777777778, \"#fb9f3a\"], [0.8888888888888888, \"#fdca26\"], [1.0, \"#f0f921\"]], \"type\": \"surface\"}], \"table\": [{\"cells\": {\"fill\": {\"color\": \"#EBF0F8\"}, \"line\": {\"color\": \"white\"}}, \"header\": {\"fill\": {\"color\": \"#C8D4E3\"}, \"line\": {\"color\": \"white\"}}, \"type\": \"table\"}]}, \"layout\": {\"annotationdefaults\": {\"arrowcolor\": \"#2a3f5f\", \"arrowhead\": 0, \"arrowwidth\": 1}, \"coloraxis\": {\"colorbar\": {\"outlinewidth\": 0, \"ticks\": \"\"}}, \"colorscale\": {\"diverging\": [[0, \"#8e0152\"], [0.1, \"#c51b7d\"], [0.2, \"#de77ae\"], [0.3, \"#f1b6da\"], [0.4, \"#fde0ef\"], [0.5, \"#f7f7f7\"], [0.6, \"#e6f5d0\"], [0.7, \"#b8e186\"], [0.8, \"#7fbc41\"], [0.9, \"#4d9221\"], [1, \"#276419\"]], \"sequential\": [[0.0, \"#0d0887\"], [0.1111111111111111, \"#46039f\"], [0.2222222222222222, \"#7201a8\"], [0.3333333333333333, \"#9c179e\"], [0.4444444444444444, \"#bd3786\"], [0.5555555555555556, \"#d8576b\"], [0.6666666666666666, \"#ed7953\"], [0.7777777777777778, \"#fb9f3a\"], [0.8888888888888888, \"#fdca26\"], [1.0, \"#f0f921\"]], \"sequentialminus\": [[0.0, \"#0d0887\"], [0.1111111111111111, \"#46039f\"], [0.2222222222222222, \"#7201a8\"], [0.3333333333333333, \"#9c179e\"], [0.4444444444444444, \"#bd3786\"], [0.5555555555555556, \"#d8576b\"], [0.6666666666666666, \"#ed7953\"], [0.7777777777777778, \"#fb9f3a\"], [0.8888888888888888, \"#fdca26\"], [1.0, \"#f0f921\"]]}, \"colorway\": [\"#636efa\", \"#EF553B\", \"#00cc96\", \"#ab63fa\", \"#FFA15A\", \"#19d3f3\", \"#FF6692\", \"#B6E880\", \"#FF97FF\", \"#FECB52\"], \"font\": {\"color\": \"#2a3f5f\"}, \"geo\": {\"bgcolor\": \"white\", \"lakecolor\": \"white\", \"landcolor\": \"#E5ECF6\", \"showlakes\": true, \"showland\": true, \"subunitcolor\": \"white\"}, \"hoverlabel\": {\"align\": \"left\"}, \"hovermode\": \"closest\", \"mapbox\": {\"style\": \"light\"}, \"paper_bgcolor\": \"white\", \"plot_bgcolor\": \"#E5ECF6\", \"polar\": {\"angularaxis\": {\"gridcolor\": \"white\", \"linecolor\": \"white\", \"ticks\": \"\"}, \"bgcolor\": \"#E5ECF6\", \"radialaxis\": {\"gridcolor\": \"white\", \"linecolor\": \"white\", \"ticks\": \"\"}}, \"scene\": {\"xaxis\": {\"backgroundcolor\": \"#E5ECF6\", \"gridcolor\": \"white\", \"gridwidth\": 2, \"linecolor\": \"white\", \"showbackground\": true, \"ticks\": \"\", \"zerolinecolor\": \"white\"}, \"yaxis\": {\"backgroundcolor\": \"#E5ECF6\", \"gridcolor\": \"white\", \"gridwidth\": 2, \"linecolor\": \"white\", \"showbackground\": true, \"ticks\": \"\", \"zerolinecolor\": \"white\"}, \"zaxis\": {\"backgroundcolor\": \"#E5ECF6\", \"gridcolor\": \"white\", \"gridwidth\": 2, \"linecolor\": \"white\", \"showbackground\": true, \"ticks\": \"\", \"zerolinecolor\": \"white\"}}, \"shapedefaults\": {\"line\": {\"color\": \"#2a3f5f\"}}, \"ternary\": {\"aaxis\": {\"gridcolor\": \"white\", \"linecolor\": \"white\", \"ticks\": \"\"}, \"baxis\": {\"gridcolor\": \"white\", \"linecolor\": \"white\", \"ticks\": \"\"}, \"bgcolor\": \"#E5ECF6\", \"caxis\": {\"gridcolor\": \"white\", \"linecolor\": \"white\", \"ticks\": \"\"}}, \"title\": {\"x\": 0.05}, \"xaxis\": {\"automargin\": true, \"gridcolor\": \"white\", \"linecolor\": \"white\", \"ticks\": \"\", \"title\": {\"standoff\": 15}, \"zerolinecolor\": \"white\", \"zerolinewidth\": 2}, \"yaxis\": {\"automargin\": true, \"gridcolor\": \"white\", \"linecolor\": \"white\", \"ticks\": \"\", \"title\": {\"standoff\": 15}, \"zerolinecolor\": \"white\", \"zerolinewidth\": 2}}}, \"width\": 600, \"xaxis\": {\"type\": \"log\"}, \"yaxis\": {\"exponentformat\": \"power\", \"type\": \"log\"}},\n                        {\"responsive\": true}\n                    ).then(function(){\n                            \nvar gd = document.getElementById('7cc85080-ff42-429d-98cb-10358f18c150');\nvar x = new MutationObserver(function (mutations, observer) {{\n        var display = window.getComputedStyle(gd).display;\n        if (!display || display === 'none') {{\n            console.log([gd, 'removed!']);\n            Plotly.purge(gd);\n            observer.disconnect();\n        }}\n}});\n\n// Listen for the removal of the full notebook cells\nvar notebookContainer = gd.closest('#notebook-container');\nif (notebookContainer) {{\n    x.observe(notebookContainer, {childList: true});\n}}\n\n// Listen for the clearing of the current output cell\nvar outputEl = gd.closest('.output');\nif (outputEl) {{\n    x.observe(outputEl, {childList: true});\n}}\n\n                        })\n                };\n                \n            </script>\n        </div>\n</body>\n</html>"
              }
            ],
            "_view_module": "@jupyter-widgets/output",
            "_model_module_version": "1.0.0",
            "_view_count": null,
            "_view_module_version": "1.0.0",
            "layout": "IPY_MODEL_1166e12fd9b44b8e890429d282d59039",
            "_model_module": "@jupyter-widgets/output"
          }
        },
        "1166e12fd9b44b8e890429d282d59039": {
          "model_module": "@jupyter-widgets/base",
          "model_name": "LayoutModel",
          "state": {
            "_view_name": "LayoutView",
            "grid_template_rows": null,
            "right": null,
            "justify_content": null,
            "_view_module": "@jupyter-widgets/base",
            "overflow": null,
            "_model_module_version": "1.2.0",
            "_view_count": null,
            "flex_flow": null,
            "width": null,
            "min_width": null,
            "border": null,
            "align_items": null,
            "bottom": null,
            "_model_module": "@jupyter-widgets/base",
            "top": null,
            "grid_column": null,
            "overflow_y": null,
            "overflow_x": null,
            "grid_auto_flow": null,
            "grid_area": null,
            "grid_template_columns": null,
            "flex": null,
            "_model_name": "LayoutModel",
            "justify_items": null,
            "grid_row": null,
            "max_height": null,
            "align_content": null,
            "visibility": null,
            "align_self": null,
            "height": null,
            "min_height": null,
            "padding": null,
            "grid_auto_rows": null,
            "grid_gap": null,
            "max_width": null,
            "order": null,
            "_view_module_version": "1.2.0",
            "grid_template_areas": null,
            "object_position": null,
            "object_fit": null,
            "grid_auto_columns": null,
            "margin": null,
            "display": null,
            "left": null
          }
        }
      }
    }
  },
  "cells": [
    {
      "cell_type": "markdown",
      "metadata": {
        "id": "view-in-github",
        "colab_type": "text"
      },
      "source": [
        "<a href=\"https://colab.research.google.com/github/maxskoda/NR_autoreduce/blob/master/INTER_LiveData.ipynb\" target=\"_parent\"><img src=\"https://colab.research.google.com/assets/colab-badge.svg\" alt=\"Open In Colab\"/></a>"
      ]
    },
    {
      "cell_type": "code",
      "metadata": {
        "id": "ZNjytiCACvw4",
        "colab": {
          "base_uri": "https://localhost:8080/"
        },
        "outputId": "5b412764-10d6-4335-9f1f-eeeb158ec3a3"
      },
      "source": [
        "!pip install dweepy"
      ],
      "execution_count": null,
      "outputs": [
        {
          "output_type": "stream",
          "text": [
            "Requirement already satisfied: dweepy in /usr/local/lib/python3.7/dist-packages (0.3.0)\n",
            "Requirement already satisfied: requests<3,>=2 in /usr/local/lib/python3.7/dist-packages (from dweepy) (2.23.0)\n",
            "Requirement already satisfied: certifi>=2017.4.17 in /usr/local/lib/python3.7/dist-packages (from requests<3,>=2->dweepy) (2020.12.5)\n",
            "Requirement already satisfied: urllib3!=1.25.0,!=1.25.1,<1.26,>=1.21.1 in /usr/local/lib/python3.7/dist-packages (from requests<3,>=2->dweepy) (1.24.3)\n",
            "Requirement already satisfied: idna<3,>=2.5 in /usr/local/lib/python3.7/dist-packages (from requests<3,>=2->dweepy) (2.10)\n",
            "Requirement already satisfied: chardet<4,>=3.0.2 in /usr/local/lib/python3.7/dist-packages (from requests<3,>=2->dweepy) (3.0.4)\n"
          ],
          "name": "stdout"
        }
      ]
    },
    {
      "cell_type": "code",
      "metadata": {
        "id": "7RHp2SDFpS__"
      },
      "source": [
        "import dweepy\n",
        "import plotly.express as px\n",
        "import time\n",
        "import ipywidgets as widgets\n",
        "import glob\n",
        "import os\n",
        "from ipywidgets import Layout\n",
        "# import chart_studio.plotly as py\n",
        "\n",
        "import matplotlib.pyplot as plt\n",
        "import numpy as np\n",
        "from plotly.offline import iplot\n",
        "import plotly.graph_objs as go\n",
        "import plotly.io as pio\n",
        "pio.renderers.default = \"colab\""
      ],
      "execution_count": 15,
      "outputs": []
    },
    {
      "cell_type": "code",
      "metadata": {
        "id": "7d1Uj57qph2f",
        "colab": {
          "base_uri": "https://localhost:8080/",
          "height": 517,
          "referenced_widgets": [
            "69f6c0022de545bf85085b124569bbd1",
            "21000d08ea824ba6a5c115c63d0dcb90",
            "8d1991fcc3ba4c81ab94c8b56ff3e294",
            "1166e12fd9b44b8e890429d282d59039"
          ]
        },
        "cellView": "form",
        "outputId": "942eda5d-cae4-4f8d-9d6d-c66063a24704"
      },
      "source": [
        "#@title INTER Live Data\n",
        "fig = go.Figure()\n",
        "fig.update_layout(\n",
        "    yaxis = {'exponentformat':'power'},\n",
        "    margin=dict(l=100, r=20, t=20, b=20),\n",
        "    modebar= {'orientation': 'v'},\n",
        "    width=1000, height=500)#, 'ticks':'inside'})\n",
        "\n",
        "output = widgets.Output()\n",
        "items = [output]\n",
        "box_layout = Layout(display='flex', flex_flow='row', \n",
        "                    justify_content='space-between', align_items='stretch',\n",
        "                    align_content='flex-end')\n",
        "\n",
        "display(widgets.HBox(items, leyout=box_layout))\n",
        "\n",
        "while True:\n",
        "  output.clear_output(wait=True)\n",
        "  fig.data = []\n",
        "  th=dweepy.get_latest_dweet_for('INTER_ISIS_live_data')\n",
        "  therr=dweepy.get_latest_dweet_for('INTER_ISIS_live_data_errors')\n",
        "  d = th[0].get('content')\n",
        "  derr = therr[0].get('content')\n",
        "\n",
        "  lists = sorted(d.items()) # sorted by key, return a list of tuples\n",
        "  lists_err = sorted(derr.items())\n",
        "\n",
        "  X, Y = zip(*lists) # unpack a list of pairs into two tuples\n",
        "  xerr, E = zip(*lists_err)\n",
        "  with output:\n",
        "    fig.add_trace(go.Scatter(\n",
        "            x=X,\n",
        "            y=Y,\n",
        "            error_y=dict(\n",
        "                type='data', # value of error bar given in data coordinates\n",
        "                array=E,\n",
        "                visible=True),          \n",
        "        ))\n",
        "\n",
        "    fig.update_xaxes(type=\"log\")\n",
        "    fig.update_yaxes(type=\"log\")\n",
        "    fig.update_layout(\n",
        "        yaxis = {'exponentformat':'power'},\n",
        "        margin=dict(l=100, r=20, t=20, b=20),\n",
        "        modebar= {'orientation': 'v'},\n",
        "        width=600, height=500)\n",
        "    fig.show()\n",
        "  time.sleep(5)"
      ],
      "execution_count": null,
      "outputs": [
        {
          "output_type": "display_data",
          "data": {
            "application/vnd.jupyter.widget-view+json": {
              "model_id": "69f6c0022de545bf85085b124569bbd1",
              "version_minor": 0,
              "version_major": 2
            },
            "text/plain": [
              "HBox(children=(Output(),))"
            ]
          },
          "metadata": {
            "tags": []
          }
        }
      ]
    }
  ]
}