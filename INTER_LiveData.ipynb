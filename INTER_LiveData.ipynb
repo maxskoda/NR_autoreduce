{
  "nbformat": 4,
  "nbformat_minor": 0,
  "metadata": {
    "colab": {
      "name": "INTER_LiveData.ipynb",
      "provenance": [],
      "collapsed_sections": [],
      "authorship_tag": "ABX9TyONbjMSgVZZMUuyMtWFpTch",
      "include_colab_link": true
    },
    "kernelspec": {
      "name": "python3",
      "display_name": "Python 3"
    }
  },
  "cells": [
    {
      "cell_type": "markdown",
      "metadata": {
        "id": "view-in-github",
        "colab_type": "text"
      },
      "source": [
        "<a href=\"https://colab.research.google.com/github/maxskoda/NR_autoreduce/blob/master/INTER_LiveData.ipynb\" target=\"_parent\"><img src=\"https://colab.research.google.com/assets/colab-badge.svg\" alt=\"Open In Colab\"/></a>"
      ]
    },
    {
      "cell_type": "code",
      "metadata": {
        "id": "ZNjytiCACvw4"
      },
      "source": [
        "!pip install dweepy"
      ],
      "execution_count": null,
      "outputs": []
    },
    {
      "cell_type": "code",
      "metadata": {
        "id": "7RHp2SDFpS__",
        "colab": {
          "base_uri": "https://localhost:8080/",
          "height": 361
        },
        "outputId": "292dc9ba-b3d3-4587-94ad-dfd056c66e01"
      },
      "source": [
        "import dweepy\n",
        "import matplotlib.pylab as plt\n",
        "import plotly.express as px\n",
        "import plotly.graph_objects as go"
      ],
      "execution_count": 1,
      "outputs": [
        {
          "output_type": "error",
          "ename": "ModuleNotFoundError",
          "evalue": "ignored",
          "traceback": [
            "\u001b[0;31m---------------------------------------------------------------------------\u001b[0m",
            "\u001b[0;31mModuleNotFoundError\u001b[0m                       Traceback (most recent call last)",
            "\u001b[0;32m<ipython-input-1-58d27195ecea>\u001b[0m in \u001b[0;36m<module>\u001b[0;34m()\u001b[0m\n\u001b[0;32m----> 1\u001b[0;31m \u001b[0;32mimport\u001b[0m \u001b[0mdweepy\u001b[0m\u001b[0;34m\u001b[0m\u001b[0;34m\u001b[0m\u001b[0m\n\u001b[0m\u001b[1;32m      2\u001b[0m \u001b[0;32mimport\u001b[0m \u001b[0mmatplotlib\u001b[0m\u001b[0;34m.\u001b[0m\u001b[0mpylab\u001b[0m \u001b[0;32mas\u001b[0m \u001b[0mplt\u001b[0m\u001b[0;34m\u001b[0m\u001b[0;34m\u001b[0m\u001b[0m\n\u001b[1;32m      3\u001b[0m \u001b[0;32mimport\u001b[0m \u001b[0mplotly\u001b[0m\u001b[0;34m.\u001b[0m\u001b[0mexpress\u001b[0m \u001b[0;32mas\u001b[0m \u001b[0mpx\u001b[0m\u001b[0;34m\u001b[0m\u001b[0;34m\u001b[0m\u001b[0m\n\u001b[1;32m      4\u001b[0m \u001b[0;32mimport\u001b[0m \u001b[0mplotly\u001b[0m\u001b[0;34m.\u001b[0m\u001b[0mgraph_objects\u001b[0m \u001b[0;32mas\u001b[0m \u001b[0mgo\u001b[0m\u001b[0;34m\u001b[0m\u001b[0;34m\u001b[0m\u001b[0m\n",
            "\u001b[0;31mModuleNotFoundError\u001b[0m: No module named 'dweepy'",
            "",
            "\u001b[0;31m---------------------------------------------------------------------------\u001b[0;32m\nNOTE: If your import is failing due to a missing package, you can\nmanually install dependencies using either !pip or !apt.\n\nTo view examples of installing some common dependencies, click the\n\"Open Examples\" button below.\n\u001b[0;31m---------------------------------------------------------------------------\u001b[0m\n"
          ]
        }
      ]
    },
    {
      "cell_type": "code",
      "metadata": {
        "id": "7d1Uj57qph2f",
        "colab": {
          "base_uri": "https://localhost:8080/",
          "height": 535
        },
        "outputId": "8425716a-bdfe-4e4e-b790-05a3aba9d27a"
      },
      "source": [
        "th=dweepy.get_latest_dweet_for('INTER_ISIS_live_data')\n",
        "therr=dweepy.get_latest_dweet_for('INTER_ISIS_live_data_errors')\n",
        "d = th[0].get('content')\n",
        "derr = therr[0].get('content')\n",
        "\n",
        "lists = sorted(d.items()) # sorted by key, return a list of tuples\n",
        "lists_err = sorted(derr.items())\n",
        "\n",
        "X, Y = zip(*lists) # unpack a list of pairs into two tuples\n",
        "xerr, E = zip(*lists_err)\n",
        "\n",
        "fig = go.Figure(data=go.Scatter(\n",
        "        x=X,\n",
        "        y=Y,\n",
        "        error_y=dict(\n",
        "            type='data', # value of error bar given in data coordinates\n",
        "            array=E,\n",
        "            visible=True),          \n",
        "    ))\n",
        "\n",
        "\n",
        "fig.update_xaxes(type=\"log\")\n",
        "fig.update_yaxes(type=\"log\")\n",
        "fig.update_layout(\n",
        "    yaxis = {'exponentformat':'power'},\n",
        "    margin=dict(l=100, r=20, t=20, b=20),\n",
        "    modebar= {'orientation': 'v'},\n",
        "    width=600, height=500)\n",
        "fig.show()"
      ],
      "execution_count": null,
      "outputs": [
        {
          "output_type": "stream",
          "text": [
            "69\n"
          ],
          "name": "stdout"
        },
        {
          "output_type": "display_data",
          "data": {
            "text/html": [
              "<html>\n",
              "<head><meta charset=\"utf-8\" /></head>\n",
              "<body>\n",
              "    <div>\n",
              "            <script src=\"https://cdnjs.cloudflare.com/ajax/libs/mathjax/2.7.5/MathJax.js?config=TeX-AMS-MML_SVG\"></script><script type=\"text/javascript\">if (window.MathJax) {MathJax.Hub.Config({SVG: {font: \"STIX-Web\"}});}</script>\n",
              "                <script type=\"text/javascript\">window.PlotlyConfig = {MathJaxConfig: 'local'};</script>\n",
              "        <script src=\"https://cdn.plot.ly/plotly-latest.min.js\"></script>    \n",
              "            <div id=\"d3133723-a8c4-4f87-87a5-f47586f664b5\" class=\"plotly-graph-div\" style=\"height:500px; width:600px;\"></div>\n",
              "            <script type=\"text/javascript\">\n",
              "                \n",
              "                    window.PLOTLYENV=window.PLOTLYENV || {};\n",
              "                    \n",
              "                if (document.getElementById(\"d3133723-a8c4-4f87-87a5-f47586f664b5\")) {\n",
              "                    Plotly.newPlot(\n",
              "                        'd3133723-a8c4-4f87-87a5-f47586f664b5',\n",
              "                        [{\"error_y\": {\"array\": [0.00029023661372190704, 0.00022199383499726168, 0.000171079266092196, 0.00014205173548461164, 0.0001190249730511155, 0.00010026646224623203, 7.991642985939288e-05, 6.919764348628571e-05, 6.139559055045668e-05, 5.256939507255746e-05, 4.497579488131784e-05, 4.092202961342791e-05, 3.36953549356293e-05, 3.0990919167524774e-05, 3.030115501705275e-05, 2.770961108353444e-05, 2.2608955741786603e-05, 1.9015178364074802e-05, 1.622129762307007e-05, 1.5063020150659363e-05, 1.3010905206184047e-05, 1.124096531245758e-05, 9.625344970420148e-06, 8.767979877766864e-06, 7.536105408822246e-06, 6.749406712538788e-06, 5.840793075334271e-06, 5.073300588659052e-06, 4.61145906477067e-06, 3.92781514584421e-06, 3.5283887512599437e-06, 3.0184859180814138e-06, 2.736354988282444e-06, 2.3092692174021303e-06, 2.2302883750814006e-06, 1.953211671193681e-06, 1.8296468566266375e-06, 1.5542559918921127e-06, 1.497747944723775e-06, 1.4401083638929681e-06, 1.2923804733983855e-06, 1.2755634779806129e-06, 1.0204641003468784e-06, 9.040058191051368e-07, 9.353375752212754e-07, 8.015584798466082e-07, 7.665117570724029e-07, 7.013660576923812e-07, 6.959834905601543e-07, 6.598504308539321e-07, 5.792613562287434e-07, 5.674898437667917e-07, 5.588245832536101e-07, 4.86857796521865e-07, 5.594474662203731e-07, 5.083954730209577e-07, 5.444788175641415e-07, 5.40557342792061e-07, 4.766003644068609e-07, 6.101316089565208e-07, 4.747434787788442e-07, 5.99660949813845e-07, 5.80841643153679e-07, 7.166636942066057e-07, 6.295306994774494e-07, 7.214730181435873e-07, 5.983111885574295e-07, 4.611100050505512e-07, 8.190258142047721e-07], \"type\": \"data\", \"visible\": true}, \"type\": \"scatter\", \"x\": [\"0.028177055950000002\", \"0.029163252908250004\", \"0.030183966760038754\", \"0.03124040559664011\", \"0.03233381979252251\", \"0.0334655034852608\", \"0.034636796107244926\", \"0.0358490839709985\", \"0.03710380190998345\", \"0.03840243497683287\", \"0.03974652020102202\", \"0.04113764840805779\", \"0.04257746610233981\", \"0.044067677415921706\", \"0.04561004612547897\", \"0.04720639773987073\", \"0.04885862166076621\", \"0.050568673418893026\", \"0.052338576988554285\", \"0.05417042718315369\", \"0.05606639213456407\", \"0.05802871585927381\", \"0.0600597209143484\", \"0.062161811146350596\", \"0.06433747453647287\", \"0.06658928614524942\", \"0.06891991116033315\", \"0.07133210805094481\", \"0.07382873183272788\", \"0.07641273744687335\", \"0.07908718325751392\", \"0.0818552346715269\", \"0.08472016788503034\", \"0.08768537376100641\", \"0.09075436184264163\", \"0.09393076450713408\", \"0.09721834126488378\", \"0.10062098320915472\", \"0.10414271762147513\", \"0.10778771273822677\", \"0.1115602826840647\", \"0.11546489257800698\", \"0.11950616381823723\", \"0.12368887955187553\", \"0.12801799033619118\", \"0.13249861999795787\", \"0.13713607169788639\", \"0.1419358342073124\", \"0.14690358840456832\", \"0.15204521399872822\", \"0.1573667964886837\", \"0.16287463436578764\", \"0.16857524656859021\", \"0.17447538019849088\", \"0.18058201850543806\", \"0.1869023891531284\", \"0.1934439727734879\", \"0.20021451182056\", \"0.2072220197342796\", \"0.21447479042497938\", \"0.22198140808985367\", \"0.22975075737299855\", \"0.2377920338810535\", \"0.24611475506689037\", \"0.25472877149423157\", \"0.26364427849652966\", \"0.2728718282439082\", \"0.282422342232445\", \"0.2923071242105806\"], \"y\": [0.007703346304478047, 0.006059556403818594, 0.004766978741338889, 0.0042044094331153276, 0.003624945759661213, 0.00316740985695692, 0.0024725890576226713, 0.0021633040846597597, 0.0019998402119502075, 0.0017316492983319564, 0.0014667338183452531, 0.0014031437850411837, 0.0010961082071311817, 0.0009530338071264907, 0.0008586769985112126, 0.0008047764417682463, 0.0006520496050277717, 0.0005537619810243992, 0.00046078682840817856, 0.0004305249312834702, 0.0003698989000751808, 0.0003159187125779576, 0.0002665792509765318, 0.00024628757647929435, 0.00021016672624275592, 0.00018822193302767045, 0.00016188759928304717, 0.00013678992682162754, 0.00012796281504774728, 0.0001043013593959599, 9.332355487391158e-05, 7.610893831393603e-05, 6.821337737956745e-05, 5.474532434241083e-05, 5.483691330687904e-05, 4.3933578945974556e-05, 4.138352462163192e-05, 3.081741429448764e-05, 2.912950936078727e-05, 2.7463637887233897e-05, 2.2584100066036162e-05, 2.29277934207585e-05, 1.571862526793971e-05, 1.2806259045342505e-05, 1.4360526129065004e-05, 1.0917087626811571e-05, 1.0297356139893822e-05, 8.907555038074711e-06, 8.988200148243778e-06, 8.023019081945873e-06, 6.108907798039495e-06, 5.920178152253626e-06, 5.667058571782718e-06, 4.0919359220846485e-06, 4.959875742763143e-06, 3.62291692662525e-06, 3.643759532570051e-06, 3.00196497651717e-06, 2.0931896807292017e-06, 2.9929320977072937e-06, 1.6057143306912496e-06, 2.2376250152878605e-06, 1.956810292464296e-06, 2.638260313013054e-06, 1.776848352836325e-06, 2.1898075890237204e-06, 1.4309285912064062e-06, 7.977750683855261e-07, 1.829111659804664e-06]}],\n",
              "                        {\"height\": 500, \"margin\": {\"b\": 20, \"l\": 100, \"r\": 20, \"t\": 20}, \"modebar\": {\"orientation\": \"v\"}, \"template\": {\"data\": {\"bar\": [{\"error_x\": {\"color\": \"#2a3f5f\"}, \"error_y\": {\"color\": \"#2a3f5f\"}, \"marker\": {\"line\": {\"color\": \"#E5ECF6\", \"width\": 0.5}}, \"type\": \"bar\"}], \"barpolar\": [{\"marker\": {\"line\": {\"color\": \"#E5ECF6\", \"width\": 0.5}}, \"type\": \"barpolar\"}], \"carpet\": [{\"aaxis\": {\"endlinecolor\": \"#2a3f5f\", \"gridcolor\": \"white\", \"linecolor\": \"white\", \"minorgridcolor\": \"white\", \"startlinecolor\": \"#2a3f5f\"}, \"baxis\": {\"endlinecolor\": \"#2a3f5f\", \"gridcolor\": \"white\", \"linecolor\": \"white\", \"minorgridcolor\": \"white\", \"startlinecolor\": \"#2a3f5f\"}, \"type\": \"carpet\"}], \"choropleth\": [{\"colorbar\": {\"outlinewidth\": 0, \"ticks\": \"\"}, \"type\": \"choropleth\"}], \"contour\": [{\"colorbar\": {\"outlinewidth\": 0, \"ticks\": \"\"}, \"colorscale\": [[0.0, \"#0d0887\"], [0.1111111111111111, \"#46039f\"], [0.2222222222222222, \"#7201a8\"], [0.3333333333333333, \"#9c179e\"], [0.4444444444444444, \"#bd3786\"], [0.5555555555555556, \"#d8576b\"], [0.6666666666666666, \"#ed7953\"], [0.7777777777777778, \"#fb9f3a\"], [0.8888888888888888, \"#fdca26\"], [1.0, \"#f0f921\"]], \"type\": \"contour\"}], \"contourcarpet\": [{\"colorbar\": {\"outlinewidth\": 0, \"ticks\": \"\"}, \"type\": \"contourcarpet\"}], \"heatmap\": [{\"colorbar\": {\"outlinewidth\": 0, \"ticks\": \"\"}, \"colorscale\": [[0.0, \"#0d0887\"], [0.1111111111111111, \"#46039f\"], [0.2222222222222222, \"#7201a8\"], [0.3333333333333333, \"#9c179e\"], [0.4444444444444444, \"#bd3786\"], [0.5555555555555556, \"#d8576b\"], [0.6666666666666666, \"#ed7953\"], [0.7777777777777778, \"#fb9f3a\"], [0.8888888888888888, \"#fdca26\"], [1.0, \"#f0f921\"]], \"type\": \"heatmap\"}], \"heatmapgl\": [{\"colorbar\": {\"outlinewidth\": 0, \"ticks\": \"\"}, \"colorscale\": [[0.0, \"#0d0887\"], [0.1111111111111111, \"#46039f\"], [0.2222222222222222, \"#7201a8\"], [0.3333333333333333, \"#9c179e\"], [0.4444444444444444, \"#bd3786\"], [0.5555555555555556, \"#d8576b\"], [0.6666666666666666, \"#ed7953\"], [0.7777777777777778, \"#fb9f3a\"], [0.8888888888888888, \"#fdca26\"], [1.0, \"#f0f921\"]], \"type\": \"heatmapgl\"}], \"histogram\": [{\"marker\": {\"colorbar\": {\"outlinewidth\": 0, \"ticks\": \"\"}}, \"type\": \"histogram\"}], \"histogram2d\": [{\"colorbar\": {\"outlinewidth\": 0, \"ticks\": \"\"}, \"colorscale\": [[0.0, \"#0d0887\"], [0.1111111111111111, \"#46039f\"], [0.2222222222222222, \"#7201a8\"], [0.3333333333333333, \"#9c179e\"], [0.4444444444444444, \"#bd3786\"], [0.5555555555555556, \"#d8576b\"], [0.6666666666666666, \"#ed7953\"], [0.7777777777777778, \"#fb9f3a\"], [0.8888888888888888, \"#fdca26\"], [1.0, \"#f0f921\"]], \"type\": \"histogram2d\"}], \"histogram2dcontour\": [{\"colorbar\": {\"outlinewidth\": 0, \"ticks\": \"\"}, \"colorscale\": [[0.0, \"#0d0887\"], [0.1111111111111111, \"#46039f\"], [0.2222222222222222, \"#7201a8\"], [0.3333333333333333, \"#9c179e\"], [0.4444444444444444, \"#bd3786\"], [0.5555555555555556, \"#d8576b\"], [0.6666666666666666, \"#ed7953\"], [0.7777777777777778, \"#fb9f3a\"], [0.8888888888888888, \"#fdca26\"], [1.0, \"#f0f921\"]], \"type\": \"histogram2dcontour\"}], \"mesh3d\": [{\"colorbar\": {\"outlinewidth\": 0, \"ticks\": \"\"}, \"type\": \"mesh3d\"}], \"parcoords\": [{\"line\": {\"colorbar\": {\"outlinewidth\": 0, \"ticks\": \"\"}}, \"type\": \"parcoords\"}], \"pie\": [{\"automargin\": true, \"type\": \"pie\"}], \"scatter\": [{\"marker\": {\"colorbar\": {\"outlinewidth\": 0, \"ticks\": \"\"}}, \"type\": \"scatter\"}], \"scatter3d\": [{\"line\": {\"colorbar\": {\"outlinewidth\": 0, \"ticks\": \"\"}}, \"marker\": {\"colorbar\": {\"outlinewidth\": 0, \"ticks\": \"\"}}, \"type\": \"scatter3d\"}], \"scattercarpet\": [{\"marker\": {\"colorbar\": {\"outlinewidth\": 0, \"ticks\": \"\"}}, \"type\": \"scattercarpet\"}], \"scattergeo\": [{\"marker\": {\"colorbar\": {\"outlinewidth\": 0, \"ticks\": \"\"}}, \"type\": \"scattergeo\"}], \"scattergl\": [{\"marker\": {\"colorbar\": {\"outlinewidth\": 0, \"ticks\": \"\"}}, \"type\": \"scattergl\"}], \"scattermapbox\": [{\"marker\": {\"colorbar\": {\"outlinewidth\": 0, \"ticks\": \"\"}}, \"type\": \"scattermapbox\"}], \"scatterpolar\": [{\"marker\": {\"colorbar\": {\"outlinewidth\": 0, \"ticks\": \"\"}}, \"type\": \"scatterpolar\"}], \"scatterpolargl\": [{\"marker\": {\"colorbar\": {\"outlinewidth\": 0, \"ticks\": \"\"}}, \"type\": \"scatterpolargl\"}], \"scatterternary\": [{\"marker\": {\"colorbar\": {\"outlinewidth\": 0, \"ticks\": \"\"}}, \"type\": \"scatterternary\"}], \"surface\": [{\"colorbar\": {\"outlinewidth\": 0, \"ticks\": \"\"}, \"colorscale\": [[0.0, \"#0d0887\"], [0.1111111111111111, \"#46039f\"], [0.2222222222222222, \"#7201a8\"], [0.3333333333333333, \"#9c179e\"], [0.4444444444444444, \"#bd3786\"], [0.5555555555555556, \"#d8576b\"], [0.6666666666666666, \"#ed7953\"], [0.7777777777777778, \"#fb9f3a\"], [0.8888888888888888, \"#fdca26\"], [1.0, \"#f0f921\"]], \"type\": \"surface\"}], \"table\": [{\"cells\": {\"fill\": {\"color\": \"#EBF0F8\"}, \"line\": {\"color\": \"white\"}}, \"header\": {\"fill\": {\"color\": \"#C8D4E3\"}, \"line\": {\"color\": \"white\"}}, \"type\": \"table\"}]}, \"layout\": {\"annotationdefaults\": {\"arrowcolor\": \"#2a3f5f\", \"arrowhead\": 0, \"arrowwidth\": 1}, \"coloraxis\": {\"colorbar\": {\"outlinewidth\": 0, \"ticks\": \"\"}}, \"colorscale\": {\"diverging\": [[0, \"#8e0152\"], [0.1, \"#c51b7d\"], [0.2, \"#de77ae\"], [0.3, \"#f1b6da\"], [0.4, \"#fde0ef\"], [0.5, \"#f7f7f7\"], [0.6, \"#e6f5d0\"], [0.7, \"#b8e186\"], [0.8, \"#7fbc41\"], [0.9, \"#4d9221\"], [1, \"#276419\"]], \"sequential\": [[0.0, \"#0d0887\"], [0.1111111111111111, \"#46039f\"], [0.2222222222222222, \"#7201a8\"], [0.3333333333333333, \"#9c179e\"], [0.4444444444444444, \"#bd3786\"], [0.5555555555555556, \"#d8576b\"], [0.6666666666666666, \"#ed7953\"], [0.7777777777777778, \"#fb9f3a\"], [0.8888888888888888, \"#fdca26\"], [1.0, \"#f0f921\"]], \"sequentialminus\": [[0.0, \"#0d0887\"], [0.1111111111111111, \"#46039f\"], [0.2222222222222222, \"#7201a8\"], [0.3333333333333333, \"#9c179e\"], [0.4444444444444444, \"#bd3786\"], [0.5555555555555556, \"#d8576b\"], [0.6666666666666666, \"#ed7953\"], [0.7777777777777778, \"#fb9f3a\"], [0.8888888888888888, \"#fdca26\"], [1.0, \"#f0f921\"]]}, \"colorway\": [\"#636efa\", \"#EF553B\", \"#00cc96\", \"#ab63fa\", \"#FFA15A\", \"#19d3f3\", \"#FF6692\", \"#B6E880\", \"#FF97FF\", \"#FECB52\"], \"font\": {\"color\": \"#2a3f5f\"}, \"geo\": {\"bgcolor\": \"white\", \"lakecolor\": \"white\", \"landcolor\": \"#E5ECF6\", \"showlakes\": true, \"showland\": true, \"subunitcolor\": \"white\"}, \"hoverlabel\": {\"align\": \"left\"}, \"hovermode\": \"closest\", \"mapbox\": {\"style\": \"light\"}, \"paper_bgcolor\": \"white\", \"plot_bgcolor\": \"#E5ECF6\", \"polar\": {\"angularaxis\": {\"gridcolor\": \"white\", \"linecolor\": \"white\", \"ticks\": \"\"}, \"bgcolor\": \"#E5ECF6\", \"radialaxis\": {\"gridcolor\": \"white\", \"linecolor\": \"white\", \"ticks\": \"\"}}, \"scene\": {\"xaxis\": {\"backgroundcolor\": \"#E5ECF6\", \"gridcolor\": \"white\", \"gridwidth\": 2, \"linecolor\": \"white\", \"showbackground\": true, \"ticks\": \"\", \"zerolinecolor\": \"white\"}, \"yaxis\": {\"backgroundcolor\": \"#E5ECF6\", \"gridcolor\": \"white\", \"gridwidth\": 2, \"linecolor\": \"white\", \"showbackground\": true, \"ticks\": \"\", \"zerolinecolor\": \"white\"}, \"zaxis\": {\"backgroundcolor\": \"#E5ECF6\", \"gridcolor\": \"white\", \"gridwidth\": 2, \"linecolor\": \"white\", \"showbackground\": true, \"ticks\": \"\", \"zerolinecolor\": \"white\"}}, \"shapedefaults\": {\"line\": {\"color\": \"#2a3f5f\"}}, \"ternary\": {\"aaxis\": {\"gridcolor\": \"white\", \"linecolor\": \"white\", \"ticks\": \"\"}, \"baxis\": {\"gridcolor\": \"white\", \"linecolor\": \"white\", \"ticks\": \"\"}, \"bgcolor\": \"#E5ECF6\", \"caxis\": {\"gridcolor\": \"white\", \"linecolor\": \"white\", \"ticks\": \"\"}}, \"title\": {\"x\": 0.05}, \"xaxis\": {\"automargin\": true, \"gridcolor\": \"white\", \"linecolor\": \"white\", \"ticks\": \"\", \"title\": {\"standoff\": 15}, \"zerolinecolor\": \"white\", \"zerolinewidth\": 2}, \"yaxis\": {\"automargin\": true, \"gridcolor\": \"white\", \"linecolor\": \"white\", \"ticks\": \"\", \"title\": {\"standoff\": 15}, \"zerolinecolor\": \"white\", \"zerolinewidth\": 2}}}, \"width\": 600, \"xaxis\": {\"type\": \"log\"}, \"yaxis\": {\"exponentformat\": \"power\", \"type\": \"log\"}},\n",
              "                        {\"responsive\": true}\n",
              "                    ).then(function(){\n",
              "                            \n",
              "var gd = document.getElementById('d3133723-a8c4-4f87-87a5-f47586f664b5');\n",
              "var x = new MutationObserver(function (mutations, observer) {{\n",
              "        var display = window.getComputedStyle(gd).display;\n",
              "        if (!display || display === 'none') {{\n",
              "            console.log([gd, 'removed!']);\n",
              "            Plotly.purge(gd);\n",
              "            observer.disconnect();\n",
              "        }}\n",
              "}});\n",
              "\n",
              "// Listen for the removal of the full notebook cells\n",
              "var notebookContainer = gd.closest('#notebook-container');\n",
              "if (notebookContainer) {{\n",
              "    x.observe(notebookContainer, {childList: true});\n",
              "}}\n",
              "\n",
              "// Listen for the clearing of the current output cell\n",
              "var outputEl = gd.closest('.output');\n",
              "if (outputEl) {{\n",
              "    x.observe(outputEl, {childList: true});\n",
              "}}\n",
              "\n",
              "                        })\n",
              "                };\n",
              "                \n",
              "            </script>\n",
              "        </div>\n",
              "</body>\n",
              "</html>"
            ]
          },
          "metadata": {
            "tags": []
          }
        }
      ]
    }
  ]
}