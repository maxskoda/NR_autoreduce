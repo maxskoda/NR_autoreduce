{
  "nbformat": 4,
  "nbformat_minor": 0,
  "metadata": {
    "colab": {
      "name": "INTER_LiveData.ipynb",
      "provenance": [],
      "collapsed_sections": [],
      "authorship_tag": "ABX9TyOz0YHXBE/wSVd8IBl2QF+i",
      "include_colab_link": true
    },
    "kernelspec": {
      "name": "python3",
      "display_name": "Python 3"
    },
    "widgets": {
      "application/vnd.jupyter.widget-state+json": {
        "f8cb3ff382db4499b2ebd4d0c02405f6": {
          "model_module": "@jupyter-widgets/controls",
          "model_name": "HBoxModel",
          "state": {
            "_view_name": "HBoxView",
            "_dom_classes": [],
            "_model_name": "HBoxModel",
            "_view_module": "@jupyter-widgets/controls",
            "_model_module_version": "1.5.0",
            "_view_count": null,
            "_view_module_version": "1.5.0",
            "box_style": "",
            "layout": "IPY_MODEL_c5bb90e3de954120a7ed33c8bc095f75",
            "_model_module": "@jupyter-widgets/controls",
            "children": [
              "IPY_MODEL_b9cba14f9bb64e5a80cc9fc73741a2db",
              "IPY_MODEL_a78885c9ce9d4b4dbcbe657bdc725d67"
            ]
          }
        },
        "c5bb90e3de954120a7ed33c8bc095f75": {
          "model_module": "@jupyter-widgets/base",
          "model_name": "LayoutModel",
          "state": {
            "_view_name": "LayoutView",
            "grid_template_rows": null,
            "right": null,
            "justify_content": null,
            "_view_module": "@jupyter-widgets/base",
            "overflow": null,
            "_model_module_version": "1.2.0",
            "_view_count": null,
            "flex_flow": null,
            "width": null,
            "min_width": null,
            "border": null,
            "align_items": null,
            "bottom": null,
            "_model_module": "@jupyter-widgets/base",
            "top": null,
            "grid_column": null,
            "overflow_y": null,
            "overflow_x": null,
            "grid_auto_flow": null,
            "grid_area": null,
            "grid_template_columns": null,
            "flex": null,
            "_model_name": "LayoutModel",
            "justify_items": null,
            "grid_row": null,
            "max_height": null,
            "align_content": null,
            "visibility": null,
            "align_self": null,
            "height": null,
            "min_height": null,
            "padding": null,
            "grid_auto_rows": null,
            "grid_gap": null,
            "max_width": null,
            "order": null,
            "_view_module_version": "1.2.0",
            "grid_template_areas": null,
            "object_position": null,
            "object_fit": null,
            "grid_auto_columns": null,
            "margin": null,
            "display": null,
            "left": null
          }
        },
        "b9cba14f9bb64e5a80cc9fc73741a2db": {
          "model_module": "@jupyter-widgets/controls",
          "model_name": "SelectMultipleModel",
          "state": {
            "_options_labels": [
              "IvsQ_61490_61491.txt",
              "IvsQ_61464+61468_61465.txt",
              "IvsQ_61533_61534.txt",
              "IvsQ_61517p61531_61518p61532.txt",
              "IvsQ_61494_61495.txt",
              "IvsQ_61472_61473.txt",
              "IvsQ_61482+61498_61483+61499.txt",
              "IvsQ_61527p61541_61528p61542.txt",
              "IvsQ_61496_61497.txt",
              "IvsQ_61541_61542.txt",
              "IvsQ_61482_61483.txt",
              "IvsQ_61519_61520.txt",
              "IvsQ_61529_61530.txt",
              "IvsQ_61537_61538.txt",
              "IvsQ_61521_61522.txt",
              "IvsQ_61525p61539_61526p61540.txt",
              "IvsQ_61474+61490_61475+61491.txt",
              "IvsQ_61484_61485.txt",
              "IvsQ_61523p61537_61524p61538.txt",
              "IvsQ_61478_61479.txt",
              "IvsQ_61525_61526.txt",
              "IvsQ_61042+61044_61045.txt",
              "IvsQ_61531_61532.txt",
              "IvsQ_61492_61493.txt",
              "IvsQ_61535_61536.txt",
              "IvsQ_61458_61459.txt",
              "IvsQ_61460_61461.txt",
              "IvsQ_61519p61533_61520p61534.txt",
              "IvsQ_61474_61475.txt",
              "IvsQ_61040+61048_61041+61049.txt",
              "IvsQ_61472+61488_61473+61489.txt",
              "IvsQ_61431_61432.txt",
              "IvsQ_61470_61471.txt",
              "IvsQ_61464+61468_61465+61469.txt",
              "IvsQ_61527_61528.txt",
              "IvsQ_61480_61481.txt",
              "IvsQ_61488_61489.txt",
              "IvsQ_61040+61048_61041.txt",
              "IvsQ_61476_61477.txt",
              "IvsQ_61515_61516.txt",
              "IvsQ_61515p61529_61516p61530.txt",
              "IvsQ_61517_61518.txt",
              "IvsQ_61466_61467.txt",
              "IvsQ_61476+61492_61477+61493.txt",
              "IvsQ_61478+61494_61479+61495.txt",
              "IvsQ_61498_61499.txt",
              "IvsQ_61523_61524.txt",
              "IvsQ_61521p61535_61522p61536.txt",
              "IvsQ_61480+61496_61481+61497.txt",
              "IvsQ_61539_61540.txt"
            ],
            "_view_name": "SelectMultipleView",
            "style": "IPY_MODEL_b89e8b849dae49a8b8d0f766e7ca39f9",
            "rows": 29,
            "_dom_classes": [],
            "description": "Workspaces",
            "_model_name": "SelectMultipleModel",
            "index": [
              0,
              4
            ],
            "_view_module": "@jupyter-widgets/controls",
            "_model_module_version": "1.5.0",
            "_view_count": null,
            "disabled": false,
            "_view_module_version": "1.5.0",
            "description_tooltip": null,
            "_model_module": "@jupyter-widgets/controls",
            "layout": "IPY_MODEL_0a9a768403e44ec8b82a650d958ad523"
          }
        },
        "a78885c9ce9d4b4dbcbe657bdc725d67": {
          "model_module": "@jupyter-widgets/output",
          "model_name": "OutputModel",
          "state": {
            "_view_name": "OutputView",
            "msg_id": "",
            "_dom_classes": [],
            "_model_name": "OutputModel",
            "outputs": [
              {
                "output_type": "display_data",
                "metadata": {
                  "tags": []
                },
                "text/html": "<html>\n<head><meta charset=\"utf-8\" /></head>\n<body>\n    <div>\n            <script src=\"https://cdnjs.cloudflare.com/ajax/libs/mathjax/2.7.5/MathJax.js?config=TeX-AMS-MML_SVG\"></script><script type=\"text/javascript\">if (window.MathJax) {MathJax.Hub.Config({SVG: {font: \"STIX-Web\"}});}</script>\n                <script type=\"text/javascript\">window.PlotlyConfig = {MathJaxConfig: 'local'};</script>\n        <script src=\"https://cdn.plot.ly/plotly-latest.min.js\"></script>    \n            <div id=\"6c75f5c2-766c-4db3-81e4-9e3ebd50c013\" class=\"plotly-graph-div\" style=\"height:500px; width:1000px;\"></div>\n            <script type=\"text/javascript\">\n                \n                    window.PLOTLYENV=window.PLOTLYENV || {};\n                    \n                if (document.getElementById(\"6c75f5c2-766c-4db3-81e4-9e3ebd50c013\")) {\n                    Plotly.newPlot(\n                        '6c75f5c2-766c-4db3-81e4-9e3ebd50c013',\n                        [{\"error_y\": {\"array\": [0.005765649303692758, 0.004996233602434509, 0.004401744290699176, 0.003925518416466689, 0.003471156333928149, 0.003127972594524586, 0.002795467189669949, 0.005539040126326823, 0.004772461478461195, 0.002204505170245907, 0.001304154057753374, 0.0008158677568594059, 0.0005713676958547389, 0.0003992081986746711, 0.0002746865148022168, 0.0002080749512035976, 0.0001602327136730235, 0.0001172245347522264, 9.264603844564225e-05, 7.28513861418302e-05, 5.707436806762326e-05, 3.830296471461019e-05, 3.076411629438935e-05, 2.507042990757704e-05, 2.054172449211506e-05, 1.659211141793763e-05, 1.322567393900629e-05, 1.115622009650406e-05, 9.87479271284875e-06, 8.04513414413327e-06, 6.34846383770202e-06, 5.080099161946711e-06, 4.006051928246253e-06, 3.212375726881622e-06, 2.646304628131353e-06, 2.217499691922707e-06, 1.700180308425518e-06, 1.350835140797117e-06, 1.03820295548003e-06, 8.255704773262723e-07, 6.599182709900087e-07, 5.500547550504506e-07, 4.568430335363094e-07, 4.158248778826935e-07, 3.891383191081547e-07, 3.496378592700317e-07, 3.193081363152004e-07, 3.167358720447638e-07, 2.910491676567148e-07, 2.839460373925441e-07, 2.846830413216916e-07, 2.853469921361755e-07, 2.825041272423327e-07, 2.923292275183612e-07, 2.926415016659211e-07, 3.370231975660112e-07, 3.66936617491099e-07, 3.985039943592173e-07, 4.161379458127305e-07, 4.716612858055824e-07, 5.05493648060865e-07, 4.963753957233881e-07, 5.106968541063172e-07, 6.747396302364851e-07], \"type\": \"data\", \"visible\": true}, \"name\": \"IvsQ_61490_61491.txt\", \"type\": \"scatter\", \"x\": [0.01201612906505516, 0.012667006728122, 0.01335314048156418, 0.01407644004202907, 0.01483891856978566, 0.01564269827195524, 0.01649001630925224, 0.01738323102267551, 0.01832482849748077, 0.01931742948270381, 0.02036379668549343, 0.02146684246055656, 0.02262963691611752, 0.02385541645895286, 0.02514759280228496, 0.02650976246160633, 0.02794571676486416, 0.02945945240486655, 0.03105518256328096, 0.03273734863718619, 0.03451063260081666, 0.0363799700369051, 0.03835056387389414, 0.04042789886725136, 0.04261775686519376, 0.04492623290131072, 0.04735975215887601, 0.04992508785406585, 0.05262938008785703, 0.05548015571907598, 0.05848534931391117, 0.06165332523019779, 0.06499290089794192, 0.06851337136088075, 0.07222453514738558, 0.076136721542714, 0.0802608193385182, 0.0846083071396277, 0.08919128531245991, 0.09402250966397993, 0.09911542694494874, 0.1044842122762758, 0.1101438086026448, 0.1161099682832243, 0.1223992969352217, 0.1290292996523118, 0.1360184297265786, 0.1433861400095782, 0.151152937055477, 0.159340438196961, 0.1679714317127758, 0.1770699402543617, 0.1866612877081198, 0.1967721696794055, 0.2074307277944298, 0.2186666280268707, 0.2305111432672022, 0.2429972403645568, 0.2561596718833837, 0.2700350728302909, 0.2846620626202893, 0.3000813525662425, 0.3163358591906982, 0.3301698367670812], \"y\": [1.035050423779366, 1.022814587131141, 1.024638330169939, 1.032823788431074, 1.021168801634613, 1.026251077883801, 1.007016932575441, 0.7709981097513433, 0.3421721836101271, 0.1723020800019059, 0.1070813534571545, 0.07007763827456098, 0.05031805276512354, 0.03564167982907791, 0.02542549392217126, 0.01922211808057005, 0.01476521084800116, 0.01070204955662159, 0.008294385346722721, 0.006368946170245619, 0.004767018881116421, 0.003755577269291267, 0.002871461572944165, 0.002231948273850064, 0.001722918789870467, 0.00131606092153277, 0.0009886654805866765, 0.0007706610170222184, 0.000611481120049742, 0.0004772740948396232, 0.0003570070061369879, 0.000267731953500206, 0.0002006667571056496, 0.000150766167983715, 0.000118564207512239, 8.817161980205963e-05, 6.464190484065274e-05, 4.902454467470327e-05, 3.507093998677883e-05, 2.644032140991863e-05, 1.975186561276104e-05, 1.569966432706551e-05, 1.178904968765456e-05, 1.039248399524463e-05, 9.364169198024693e-06, 7.975902249276572e-06, 7.222881985739213e-06, 7.637445180919015e-06, 6.905593689815409e-06, 6.883081770749417e-06, 7.143187270553643e-06, 7.127505010793783e-06, 7.053846836885938e-06, 7.218446525869579e-06, 6.413852276569247e-06, 6.965310348340641e-06, 6.559552013210485e-06, 6.419167823804781e-06, 5.921177021231203e-06, 6.458407631112091e-06, 6.232472491353242e-06, 5.430405539243355e-06, 5.117247082732039e-06, 5.050125518743093e-06]}, {\"error_y\": {\"array\": [0.005748740615743749, 0.00498754516036664, 0.004400457586285818, 0.003903681861729299, 0.003476136026738526, 0.003120930262897177, 0.002787398249091088, 0.005468994618450605, 0.004727891551481503, 0.002199465764401966, 0.001304861609178503, 0.0008107912542430617, 0.0005712011226437801, 0.0004046197430199535, 0.0002796505518960307, 0.0002117190125606575, 0.0001590061626649018, 0.0001188215903200969, 9.398115932350721e-05, 7.319609011664679e-05, 5.900807711162662e-05, 3.862444827609662e-05, 3.145684305617324e-05, 2.542464742849418e-05, 2.112000670035203e-05, 1.68766101366585e-05, 1.398078866787346e-05, 1.174297702632169e-05, 1.036095831846736e-05, 8.441667364649936e-06, 6.723175186187362e-06, 5.493590780004438e-06, 4.368268294108328e-06, 3.573636909710506e-06, 2.936529507786935e-06, 2.48019911165365e-06, 1.906166583878688e-06, 1.528065879085766e-06, 1.207443532094417e-06, 9.782073215990363e-07, 8.150785863067344e-07, 6.512884088983726e-07, 5.598278787284721e-07, 4.97221706059954e-07, 4.477073712468125e-07, 4.02181024220919e-07, 3.61687338203603e-07, 3.079809038503659e-07, 3.046975219505093e-07, 2.792620470130829e-07, 2.7284241237774e-07, 2.899756570020489e-07, 2.608597930290077e-07, 2.65278012768701e-07, 3.059553157386496e-07, 3.340229045718689e-07, 3.50584671993433e-07, 3.835037706077285e-07, 4.143096724208446e-07, 4.229828798093138e-07, 4.417240849590251e-07, 4.761533149729857e-07, 4.392216571074664e-07, 5.90659077088193e-07], \"type\": \"data\", \"visible\": true}, \"name\": \"IvsQ_61494_61495.txt\", \"type\": \"scatter\", \"x\": [0.01201612906505516, 0.012667006728122, 0.01335314048156418, 0.01407644004202907, 0.01483891856978566, 0.01564269827195524, 0.01649001630925224, 0.01738323102267551, 0.01832482849748077, 0.01931742948270381, 0.02036379668549343, 0.02146684246055656, 0.02262963691611752, 0.02385541645895286, 0.02514759280228496, 0.02650976246160633, 0.02794571676486416, 0.02945945240486655, 0.03105518256328096, 0.03273734863718619, 0.03451063260081666, 0.0363799700369051, 0.03835056387389414, 0.04042789886725136, 0.04261775686519376, 0.04492623290131072, 0.04735975215887601, 0.04992508785406585, 0.05262938008785703, 0.05548015571907598, 0.05848534931391117, 0.06165332523019779, 0.06499290089794192, 0.06851337136088075, 0.07222453514738558, 0.076136721542714, 0.0802608193385182, 0.0846083071396277, 0.08919128531245991, 0.09402250966397993, 0.09911542694494874, 0.1044842122762758, 0.1101438086026448, 0.1161099682832243, 0.1223992969352217, 0.1290292996523118, 0.1360184297265786, 0.1433861400095782, 0.151152937055477, 0.159340438196961, 0.1679714317127758, 0.1770699402543617, 0.1866612877081198, 0.1967721696794055, 0.2074307277944298, 0.2186666280268707, 0.2305111432672022, 0.2429972403645568, 0.2561596718833837, 0.2700350728302909, 0.2846620626202893, 0.3000813525662425, 0.3163358591906982, 0.3301698367670812], \"y\": [1.031095535924939, 1.020520489302565, 1.024831210354809, 1.024282872133821, 1.024330853527944, 1.023098043097328, 1.002491638643228, 0.7671364517517839, 0.3386161395852754, 0.1715279675556144, 0.1070636694592811, 0.06973189543918172, 0.05016591127658931, 0.0362517338461948, 0.02599790518944449, 0.019709585342386, 0.01462440656847347, 0.01094095599124492, 0.008487985490980501, 0.00642357388494989, 0.005051216487448591, 0.003825187584469105, 0.003005401324688801, 0.002306237888076258, 0.001825467235300407, 0.001370830777275449, 0.001103042290406114, 0.00084574376863673, 0.0006623679563316553, 0.0005202300233362518, 0.0003959360710746334, 0.0003075514286349237, 0.000234033219799224, 0.0001831319681155368, 0.0001435840705199117, 0.0001083392025171962, 8.031635868451001e-05, 6.184715445582509e-05, 4.682360836391688e-05, 3.655885859663668e-05, 2.959634344347726e-05, 2.180299265933918e-05, 1.75393046748446e-05, 1.477897131514295e-05, 1.240216496776041e-05, 1.057516867992028e-05, 9.309751239387235e-06, 7.324706817023068e-06, 7.633494736785777e-06, 6.744532069589342e-06, 6.66528883338021e-06, 7.460967452126758e-06, 6.130647529796942e-06, 6.070346934172787e-06, 7.038965267869147e-06, 6.894884202074573e-06, 6.117041384482831e-06, 6.074223062478559e-06, 5.905707315367974e-06, 5.303302407442894e-06, 4.883196978099824e-06, 5.010481224294563e-06, 3.846966410017709e-06, 3.898256549905918e-06]}],\n                        {\"height\": 500, \"margin\": {\"b\": 20, \"l\": 100, \"r\": 20, \"t\": 20}, \"modebar\": {\"orientation\": \"v\"}, \"template\": {\"data\": {\"bar\": [{\"error_x\": {\"color\": \"#2a3f5f\"}, \"error_y\": {\"color\": \"#2a3f5f\"}, \"marker\": {\"line\": {\"color\": \"#E5ECF6\", \"width\": 0.5}}, \"type\": \"bar\"}], \"barpolar\": [{\"marker\": {\"line\": {\"color\": \"#E5ECF6\", \"width\": 0.5}}, \"type\": \"barpolar\"}], \"carpet\": [{\"aaxis\": {\"endlinecolor\": \"#2a3f5f\", \"gridcolor\": \"white\", \"linecolor\": \"white\", \"minorgridcolor\": \"white\", \"startlinecolor\": \"#2a3f5f\"}, \"baxis\": {\"endlinecolor\": \"#2a3f5f\", \"gridcolor\": \"white\", \"linecolor\": \"white\", \"minorgridcolor\": \"white\", \"startlinecolor\": \"#2a3f5f\"}, \"type\": \"carpet\"}], \"choropleth\": [{\"colorbar\": {\"outlinewidth\": 0, \"ticks\": \"\"}, \"type\": \"choropleth\"}], \"contour\": [{\"colorbar\": {\"outlinewidth\": 0, \"ticks\": \"\"}, \"colorscale\": [[0.0, \"#0d0887\"], [0.1111111111111111, \"#46039f\"], [0.2222222222222222, \"#7201a8\"], [0.3333333333333333, \"#9c179e\"], [0.4444444444444444, \"#bd3786\"], [0.5555555555555556, \"#d8576b\"], [0.6666666666666666, \"#ed7953\"], [0.7777777777777778, \"#fb9f3a\"], [0.8888888888888888, \"#fdca26\"], [1.0, \"#f0f921\"]], \"type\": \"contour\"}], \"contourcarpet\": [{\"colorbar\": {\"outlinewidth\": 0, \"ticks\": \"\"}, \"type\": \"contourcarpet\"}], \"heatmap\": [{\"colorbar\": {\"outlinewidth\": 0, \"ticks\": \"\"}, \"colorscale\": [[0.0, \"#0d0887\"], [0.1111111111111111, \"#46039f\"], [0.2222222222222222, \"#7201a8\"], [0.3333333333333333, \"#9c179e\"], [0.4444444444444444, \"#bd3786\"], [0.5555555555555556, \"#d8576b\"], [0.6666666666666666, \"#ed7953\"], [0.7777777777777778, \"#fb9f3a\"], [0.8888888888888888, \"#fdca26\"], [1.0, \"#f0f921\"]], \"type\": \"heatmap\"}], \"heatmapgl\": [{\"colorbar\": {\"outlinewidth\": 0, \"ticks\": \"\"}, \"colorscale\": [[0.0, \"#0d0887\"], [0.1111111111111111, \"#46039f\"], [0.2222222222222222, \"#7201a8\"], [0.3333333333333333, \"#9c179e\"], [0.4444444444444444, \"#bd3786\"], [0.5555555555555556, \"#d8576b\"], [0.6666666666666666, \"#ed7953\"], [0.7777777777777778, \"#fb9f3a\"], [0.8888888888888888, \"#fdca26\"], [1.0, \"#f0f921\"]], \"type\": \"heatmapgl\"}], \"histogram\": [{\"marker\": {\"colorbar\": {\"outlinewidth\": 0, \"ticks\": \"\"}}, \"type\": \"histogram\"}], \"histogram2d\": [{\"colorbar\": {\"outlinewidth\": 0, \"ticks\": \"\"}, \"colorscale\": [[0.0, \"#0d0887\"], [0.1111111111111111, \"#46039f\"], [0.2222222222222222, \"#7201a8\"], [0.3333333333333333, \"#9c179e\"], [0.4444444444444444, \"#bd3786\"], [0.5555555555555556, \"#d8576b\"], [0.6666666666666666, \"#ed7953\"], [0.7777777777777778, \"#fb9f3a\"], [0.8888888888888888, \"#fdca26\"], [1.0, \"#f0f921\"]], \"type\": \"histogram2d\"}], \"histogram2dcontour\": [{\"colorbar\": {\"outlinewidth\": 0, \"ticks\": \"\"}, \"colorscale\": [[0.0, \"#0d0887\"], [0.1111111111111111, \"#46039f\"], [0.2222222222222222, \"#7201a8\"], [0.3333333333333333, \"#9c179e\"], [0.4444444444444444, \"#bd3786\"], [0.5555555555555556, \"#d8576b\"], [0.6666666666666666, \"#ed7953\"], [0.7777777777777778, \"#fb9f3a\"], [0.8888888888888888, \"#fdca26\"], [1.0, \"#f0f921\"]], \"type\": \"histogram2dcontour\"}], \"mesh3d\": [{\"colorbar\": {\"outlinewidth\": 0, \"ticks\": \"\"}, \"type\": \"mesh3d\"}], \"parcoords\": [{\"line\": {\"colorbar\": {\"outlinewidth\": 0, \"ticks\": \"\"}}, \"type\": \"parcoords\"}], \"pie\": [{\"automargin\": true, \"type\": \"pie\"}], \"scatter\": [{\"marker\": {\"colorbar\": {\"outlinewidth\": 0, \"ticks\": \"\"}}, \"type\": \"scatter\"}], \"scatter3d\": [{\"line\": {\"colorbar\": {\"outlinewidth\": 0, \"ticks\": \"\"}}, \"marker\": {\"colorbar\": {\"outlinewidth\": 0, \"ticks\": \"\"}}, \"type\": \"scatter3d\"}], \"scattercarpet\": [{\"marker\": {\"colorbar\": {\"outlinewidth\": 0, \"ticks\": \"\"}}, \"type\": \"scattercarpet\"}], \"scattergeo\": [{\"marker\": {\"colorbar\": {\"outlinewidth\": 0, \"ticks\": \"\"}}, \"type\": \"scattergeo\"}], \"scattergl\": [{\"marker\": {\"colorbar\": {\"outlinewidth\": 0, \"ticks\": \"\"}}, \"type\": \"scattergl\"}], \"scattermapbox\": [{\"marker\": {\"colorbar\": {\"outlinewidth\": 0, \"ticks\": \"\"}}, \"type\": \"scattermapbox\"}], \"scatterpolar\": [{\"marker\": {\"colorbar\": {\"outlinewidth\": 0, \"ticks\": \"\"}}, \"type\": \"scatterpolar\"}], \"scatterpolargl\": [{\"marker\": {\"colorbar\": {\"outlinewidth\": 0, \"ticks\": \"\"}}, \"type\": \"scatterpolargl\"}], \"scatterternary\": [{\"marker\": {\"colorbar\": {\"outlinewidth\": 0, \"ticks\": \"\"}}, \"type\": \"scatterternary\"}], \"surface\": [{\"colorbar\": {\"outlinewidth\": 0, \"ticks\": \"\"}, \"colorscale\": [[0.0, \"#0d0887\"], [0.1111111111111111, \"#46039f\"], [0.2222222222222222, \"#7201a8\"], [0.3333333333333333, \"#9c179e\"], [0.4444444444444444, \"#bd3786\"], [0.5555555555555556, \"#d8576b\"], [0.6666666666666666, \"#ed7953\"], [0.7777777777777778, \"#fb9f3a\"], [0.8888888888888888, \"#fdca26\"], [1.0, \"#f0f921\"]], \"type\": \"surface\"}], \"table\": [{\"cells\": {\"fill\": {\"color\": \"#EBF0F8\"}, \"line\": {\"color\": \"white\"}}, \"header\": {\"fill\": {\"color\": \"#C8D4E3\"}, \"line\": {\"color\": \"white\"}}, \"type\": \"table\"}]}, \"layout\": {\"annotationdefaults\": {\"arrowcolor\": \"#2a3f5f\", \"arrowhead\": 0, \"arrowwidth\": 1}, \"coloraxis\": {\"colorbar\": {\"outlinewidth\": 0, \"ticks\": \"\"}}, \"colorscale\": {\"diverging\": [[0, \"#8e0152\"], [0.1, \"#c51b7d\"], [0.2, \"#de77ae\"], [0.3, \"#f1b6da\"], [0.4, \"#fde0ef\"], [0.5, \"#f7f7f7\"], [0.6, \"#e6f5d0\"], [0.7, \"#b8e186\"], [0.8, \"#7fbc41\"], [0.9, \"#4d9221\"], [1, \"#276419\"]], \"sequential\": [[0.0, \"#0d0887\"], [0.1111111111111111, \"#46039f\"], [0.2222222222222222, \"#7201a8\"], [0.3333333333333333, \"#9c179e\"], [0.4444444444444444, \"#bd3786\"], [0.5555555555555556, \"#d8576b\"], [0.6666666666666666, \"#ed7953\"], [0.7777777777777778, \"#fb9f3a\"], [0.8888888888888888, \"#fdca26\"], [1.0, \"#f0f921\"]], \"sequentialminus\": [[0.0, \"#0d0887\"], [0.1111111111111111, \"#46039f\"], [0.2222222222222222, \"#7201a8\"], [0.3333333333333333, \"#9c179e\"], [0.4444444444444444, \"#bd3786\"], [0.5555555555555556, \"#d8576b\"], [0.6666666666666666, \"#ed7953\"], [0.7777777777777778, \"#fb9f3a\"], [0.8888888888888888, \"#fdca26\"], [1.0, \"#f0f921\"]]}, \"colorway\": [\"#636efa\", \"#EF553B\", \"#00cc96\", \"#ab63fa\", \"#FFA15A\", \"#19d3f3\", \"#FF6692\", \"#B6E880\", \"#FF97FF\", \"#FECB52\"], \"font\": {\"color\": \"#2a3f5f\"}, \"geo\": {\"bgcolor\": \"white\", \"lakecolor\": \"white\", \"landcolor\": \"#E5ECF6\", \"showlakes\": true, \"showland\": true, \"subunitcolor\": \"white\"}, \"hoverlabel\": {\"align\": \"left\"}, \"hovermode\": \"closest\", \"mapbox\": {\"style\": \"light\"}, \"paper_bgcolor\": \"white\", \"plot_bgcolor\": \"#E5ECF6\", \"polar\": {\"angularaxis\": {\"gridcolor\": \"white\", \"linecolor\": \"white\", \"ticks\": \"\"}, \"bgcolor\": \"#E5ECF6\", \"radialaxis\": {\"gridcolor\": \"white\", \"linecolor\": \"white\", \"ticks\": \"\"}}, \"scene\": {\"xaxis\": {\"backgroundcolor\": \"#E5ECF6\", \"gridcolor\": \"white\", \"gridwidth\": 2, \"linecolor\": \"white\", \"showbackground\": true, \"ticks\": \"\", \"zerolinecolor\": \"white\"}, \"yaxis\": {\"backgroundcolor\": \"#E5ECF6\", \"gridcolor\": \"white\", \"gridwidth\": 2, \"linecolor\": \"white\", \"showbackground\": true, \"ticks\": \"\", \"zerolinecolor\": \"white\"}, \"zaxis\": {\"backgroundcolor\": \"#E5ECF6\", \"gridcolor\": \"white\", \"gridwidth\": 2, \"linecolor\": \"white\", \"showbackground\": true, \"ticks\": \"\", \"zerolinecolor\": \"white\"}}, \"shapedefaults\": {\"line\": {\"color\": \"#2a3f5f\"}}, \"ternary\": {\"aaxis\": {\"gridcolor\": \"white\", \"linecolor\": \"white\", \"ticks\": \"\"}, \"baxis\": {\"gridcolor\": \"white\", \"linecolor\": \"white\", \"ticks\": \"\"}, \"bgcolor\": \"#E5ECF6\", \"caxis\": {\"gridcolor\": \"white\", \"linecolor\": \"white\", \"ticks\": \"\"}}, \"title\": {\"x\": 0.05}, \"xaxis\": {\"automargin\": true, \"gridcolor\": \"white\", \"linecolor\": \"white\", \"ticks\": \"\", \"title\": {\"standoff\": 15}, \"zerolinecolor\": \"white\", \"zerolinewidth\": 2}, \"yaxis\": {\"automargin\": true, \"gridcolor\": \"white\", \"linecolor\": \"white\", \"ticks\": \"\", \"title\": {\"standoff\": 15}, \"zerolinecolor\": \"white\", \"zerolinewidth\": 2}}}, \"width\": 1000, \"xaxis\": {\"type\": \"log\"}, \"yaxis\": {\"exponentformat\": \"power\", \"type\": \"log\"}},\n                        {\"responsive\": true}\n                    ).then(function(){\n                            \nvar gd = document.getElementById('6c75f5c2-766c-4db3-81e4-9e3ebd50c013');\nvar x = new MutationObserver(function (mutations, observer) {{\n        var display = window.getComputedStyle(gd).display;\n        if (!display || display === 'none') {{\n            console.log([gd, 'removed!']);\n            Plotly.purge(gd);\n            observer.disconnect();\n        }}\n}});\n\n// Listen for the removal of the full notebook cells\nvar notebookContainer = gd.closest('#notebook-container');\nif (notebookContainer) {{\n    x.observe(notebookContainer, {childList: true});\n}}\n\n// Listen for the clearing of the current output cell\nvar outputEl = gd.closest('.output');\nif (outputEl) {{\n    x.observe(outputEl, {childList: true});\n}}\n\n                        })\n                };\n                \n            </script>\n        </div>\n</body>\n</html>"
              }
            ],
            "_view_module": "@jupyter-widgets/output",
            "_model_module_version": "1.0.0",
            "_view_count": null,
            "_view_module_version": "1.0.0",
            "layout": "IPY_MODEL_dd4bdc093ec1454083400d03aa6287d4",
            "_model_module": "@jupyter-widgets/output"
          }
        },
        "b89e8b849dae49a8b8d0f766e7ca39f9": {
          "model_module": "@jupyter-widgets/controls",
          "model_name": "DescriptionStyleModel",
          "state": {
            "_view_name": "StyleView",
            "_model_name": "DescriptionStyleModel",
            "description_width": "",
            "_view_module": "@jupyter-widgets/base",
            "_model_module_version": "1.5.0",
            "_view_count": null,
            "_view_module_version": "1.2.0",
            "_model_module": "@jupyter-widgets/controls"
          }
        },
        "0a9a768403e44ec8b82a650d958ad523": {
          "model_module": "@jupyter-widgets/base",
          "model_name": "LayoutModel",
          "state": {
            "_view_name": "LayoutView",
            "grid_template_rows": null,
            "right": null,
            "justify_content": null,
            "_view_module": "@jupyter-widgets/base",
            "overflow": null,
            "_model_module_version": "1.2.0",
            "_view_count": null,
            "flex_flow": null,
            "width": null,
            "min_width": null,
            "border": null,
            "align_items": null,
            "bottom": null,
            "_model_module": "@jupyter-widgets/base",
            "top": null,
            "grid_column": null,
            "overflow_y": null,
            "overflow_x": null,
            "grid_auto_flow": null,
            "grid_area": null,
            "grid_template_columns": null,
            "flex": null,
            "_model_name": "LayoutModel",
            "justify_items": null,
            "grid_row": null,
            "max_height": null,
            "align_content": null,
            "visibility": null,
            "align_self": null,
            "height": null,
            "min_height": null,
            "padding": null,
            "grid_auto_rows": null,
            "grid_gap": null,
            "max_width": null,
            "order": null,
            "_view_module_version": "1.2.0",
            "grid_template_areas": null,
            "object_position": null,
            "object_fit": null,
            "grid_auto_columns": null,
            "margin": null,
            "display": null,
            "left": null
          }
        },
        "dd4bdc093ec1454083400d03aa6287d4": {
          "model_module": "@jupyter-widgets/base",
          "model_name": "LayoutModel",
          "state": {
            "_view_name": "LayoutView",
            "grid_template_rows": null,
            "right": null,
            "justify_content": null,
            "_view_module": "@jupyter-widgets/base",
            "overflow": null,
            "_model_module_version": "1.2.0",
            "_view_count": null,
            "flex_flow": null,
            "width": null,
            "min_width": null,
            "border": null,
            "align_items": null,
            "bottom": null,
            "_model_module": "@jupyter-widgets/base",
            "top": null,
            "grid_column": null,
            "overflow_y": null,
            "overflow_x": null,
            "grid_auto_flow": null,
            "grid_area": null,
            "grid_template_columns": null,
            "flex": null,
            "_model_name": "LayoutModel",
            "justify_items": null,
            "grid_row": null,
            "max_height": null,
            "align_content": null,
            "visibility": null,
            "align_self": null,
            "height": null,
            "min_height": null,
            "padding": null,
            "grid_auto_rows": null,
            "grid_gap": null,
            "max_width": null,
            "order": null,
            "_view_module_version": "1.2.0",
            "grid_template_areas": null,
            "object_position": null,
            "object_fit": null,
            "grid_auto_columns": null,
            "margin": null,
            "display": null,
            "left": null
          }
        }
      }
    }
  },
  "cells": [
    {
      "cell_type": "markdown",
      "metadata": {
        "id": "view-in-github",
        "colab_type": "text"
      },
      "source": [
        "<a href=\"https://colab.research.google.com/github/maxskoda/NR_autoreduce/blob/master/INTER_LiveData.ipynb\" target=\"_parent\"><img src=\"https://colab.research.google.com/assets/colab-badge.svg\" alt=\"Open In Colab\"/></a>"
      ]
    },
    {
      "cell_type": "code",
      "metadata": {
        "colab": {
          "base_uri": "https://localhost:8080/"
        },
        "id": "VzzlYdi7KVsP",
        "outputId": "a6f13c88-deed-4589-ac62-651912abb219"
      },
      "source": [
        "! git clone 'https://github.com/maxskoda/NR_autoreduce/'"
      ],
      "execution_count": null,
      "outputs": [
        {
          "output_type": "stream",
          "text": [
            "Cloning into 'NR_autoreduce'...\n",
            "remote: Enumerating objects: 66, done.\u001b[K\n",
            "remote: Counting objects: 100% (66/66), done.\u001b[K\n",
            "remote: Compressing objects: 100% (55/55), done.\u001b[K\n",
            "remote: Total 66 (delta 15), reused 56 (delta 10), pack-reused 0\u001b[K\n",
            "Unpacking objects: 100% (66/66), done.\n"
          ],
          "name": "stdout"
        }
      ]
    },
    {
      "cell_type": "code",
      "metadata": {
        "id": "NszH1XRt4qq3",
        "colab": {
          "base_uri": "https://localhost:8080/"
        },
        "outputId": "4ce45c43-f9f6-400e-8f30-e98729317f32"
      },
      "source": [
        "from google.colab import drive\n",
        "drive.mount('/content/drive')"
      ],
      "execution_count": null,
      "outputs": [
        {
          "output_type": "stream",
          "text": [
            "Mounted at /content/drive\n"
          ],
          "name": "stdout"
        }
      ]
    },
    {
      "cell_type": "code",
      "metadata": {
        "id": "OcjylQ-75H2u",
        "colab": {
          "base_uri": "https://localhost:8080/",
          "height": 417
        },
        "outputId": "bd2eebba-6f75-4698-815c-65a25c551f80"
      },
      "source": [
        "from IPython.display import Image\n",
        "Image('/content/drive/MyDrive/livedata.png', width=400, height=400)"
      ],
      "execution_count": null,
      "outputs": [
        {
          "output_type": "execute_result",
          "data": {
            "image/png": "[encoded data removed]",
            "text/plain": [
              "<IPython.core.display.Image object>"
            ]
          },
          "metadata": {
            "tags": [],
            "image/png": {
              "width": 400,
              "height": 400
            }
          },
          "execution_count": 5
        }
      ]
    },
    {
      "cell_type": "code",
      "metadata": {
        "id": "RWraT0Bw3gWj"
      },
      "source": [
        "import ipywidgets as widgets\n",
        "import glob\n",
        "import os\n",
        "from ipywidgets import Layout\n",
        "# import chart_studio.plotly as py\n",
        "\n",
        "import matplotlib.pyplot as plt\n",
        "import numpy as np\n",
        "from plotly.offline import iplot\n",
        "import plotly.graph_objs as go\n",
        "import plotly.io as pio\n",
        "pio.renderers.default = \"colab\""
      ],
      "execution_count": null,
      "outputs": []
    },
    {
      "cell_type": "code",
      "metadata": {
        "colab": {
          "base_uri": "https://localhost:8080/",
          "height": 534,
          "referenced_widgets": [
            "f8cb3ff382db4499b2ebd4d0c02405f6",
            "c5bb90e3de954120a7ed33c8bc095f75",
            "b9cba14f9bb64e5a80cc9fc73741a2db",
            "a78885c9ce9d4b4dbcbe657bdc725d67",
            "b89e8b849dae49a8b8d0f766e7ca39f9",
            "0a9a768403e44ec8b82a650d958ad523",
            "dd4bdc093ec1454083400d03aa6287d4"
          ]
        },
        "id": "zpsKuPd1hftW",
        "outputId": "6836a6b1-7096-4a05-9705-0e89719649c0"
      },
      "source": [
        "def nr_plot(file_list):\n",
        "    choices = file_list['new']\n",
        "    output.clear_output(wait=True)\n",
        "    fig.data = [] # remove all traces\n",
        "    with output:\n",
        "        for f in choices:\n",
        "          X, Y, E = [], [], []\n",
        "          for line in open(\"NR_autoreduce/ASCII_Files/\"+f, 'r'):\n",
        "            values = [float(s) for s in line.split()]\n",
        "            X.append(values[0])\n",
        "            Y.append(values[1])\n",
        "            E.append(values[2])\n",
        "\n",
        "          fig.add_trace(\n",
        "                      go.Scatter(x=X,\n",
        "                  y=Y,\n",
        "                  error_y=dict(\n",
        "                      type='data', # value of error bar given in data coordinates\n",
        "                      array=E,\n",
        "                      visible=True),\n",
        "                  name=f)\n",
        "                  )\n",
        "        fig.update_xaxes(type=\"log\")\n",
        "        fig.update_yaxes(type=\"log\")\n",
        "        fig.show()\n",
        "\n",
        "\n",
        "ff = [os.path.basename(x) for x in glob.glob(\"NR_autoreduce/ASCII_Files/*.txt\")]\n",
        "\n",
        "selector = widgets.SelectMultiple(\n",
        "options=ff,\n",
        "# value=[ff[0]],\n",
        "rows=29,\n",
        "description='Workspaces',\n",
        "disabled=False,\n",
        "layout=Layout(valign='bottom')\n",
        ")\n",
        "\n",
        "fig = go.Figure()\n",
        "fig.update_layout(\n",
        "    yaxis = {'exponentformat':'power'},\n",
        "    margin=dict(l=100, r=20, t=20, b=20),\n",
        "    modebar= {'orientation': 'v'},\n",
        "    width=1000, height=500)#, 'ticks':'inside'})\n",
        "\n",
        "output = widgets.Output()\n",
        "\n",
        "items = [selector, output]\n",
        "box_layout = Layout(display='flex', flex_flow='row', \n",
        "                    justify_content='space-between', align_items='stretch',\n",
        "                    align_content='flex-end')\n",
        "\n",
        "display(widgets.HBox(items, leyout=box_layout))\n",
        "# display(selector)\n",
        "# display(output)\n",
        "\n",
        "\n",
        "selector.observe(nr_plot, names='value')"
      ],
      "execution_count": null,
      "outputs": [
        {
          "output_type": "display_data",
          "data": {
            "application/vnd.jupyter.widget-view+json": {
              "model_id": "f8cb3ff382db4499b2ebd4d0c02405f6",
              "version_minor": 0,
              "version_major": 2
            },
            "text/plain": [
              "HBox(children=(SelectMultiple(description='Workspaces', options=('IvsQ_61490_61491.txt', 'IvsQ_61464+61468_614…"
            ]
          },
          "metadata": {
            "tags": []
          }
        }
      ]
    },
    {
      "cell_type": "code",
      "metadata": {
        "id": "7RHp2SDFpS__"
      },
      "source": [
        "import dweepy\n",
        "import matplotlib.pylab as plt"
      ],
      "execution_count": null,
      "outputs": []
    },
    {
      "cell_type": "code",
      "metadata": {
        "id": "zA8DB8v0pVke",
        "colab": {
          "base_uri": "https://localhost:8080/"
        },
        "outputId": "9a030737-8e37-41fd-af2b-6838a96f7980"
      },
      "source": [
        "vals = {'0.01': '1.0', '0.02': '0.5'}\n",
        "dweepy.dweet_for('INTER_ISIS', vals)"
      ],
      "execution_count": null,
      "outputs": [
        {
          "output_type": "execute_result",
          "data": {
            "text/plain": [
              "{'content': {'0.01': 1, '0.02': 0.5},\n",
              " 'created': '2021-04-27T14:57:18.287Z',\n",
              " 'thing': 'INTER_ISIS',\n",
              " 'transaction': '35cf13a1-a5c5-4f58-ab12-12dc8d867809'}"
            ]
          },
          "metadata": {
            "tags": []
          },
          "execution_count": 34
        }
      ]
    },
    {
      "cell_type": "code",
      "metadata": {
        "id": "7d1Uj57qph2f",
        "colab": {
          "base_uri": "https://localhost:8080/",
          "height": 535
        },
        "outputId": "8425716a-bdfe-4e4e-b790-05a3aba9d27a"
      },
      "source": [
        "import plotly.express as px\n",
        "import plotly.graph_objects as go\n",
        "\n",
        "th=dweepy.get_latest_dweet_for('INTER_ISIS_live_data')\n",
        "therr=dweepy.get_latest_dweet_for('INTER_ISIS_live_data_errors')\n",
        "d = th[0].get('content')\n",
        "derr = therr[0].get('content')\n",
        "\n",
        "lists = sorted(d.items()) # sorted by key, return a list of tuples\n",
        "lists_err = sorted(derr.items())\n",
        "\n",
        "X, Y = zip(*lists) # unpack a list of pairs into two tuples\n",
        "xerr, E = zip(*lists_err)\n",
        "\n",
        "fig = go.Figure(data=go.Scatter(\n",
        "        x=X,\n",
        "        y=Y,\n",
        "        error_y=dict(\n",
        "            type='data', # value of error bar given in data coordinates\n",
        "            array=E,\n",
        "            visible=True),          \n",
        "    ))\n",
        "\n",
        "\n",
        "fig.update_xaxes(type=\"log\")\n",
        "fig.update_yaxes(type=\"log\")\n",
        "fig.update_layout(\n",
        "    yaxis = {'exponentformat':'power'},\n",
        "    margin=dict(l=100, r=20, t=20, b=20),\n",
        "    modebar= {'orientation': 'v'},\n",
        "    width=600, height=500)\n",
        "fig.show()"
      ],
      "execution_count": null,
      "outputs": [
        {
          "output_type": "stream",
          "text": [
            "69\n"
          ],
          "name": "stdout"
        },
        {
          "output_type": "display_data",
          "data": {
            "text/html": [
              "<html>\n",
              "<head><meta charset=\"utf-8\" /></head>\n",
              "<body>\n",
              "    <div>\n",
              "            <script src=\"https://cdnjs.cloudflare.com/ajax/libs/mathjax/2.7.5/MathJax.js?config=TeX-AMS-MML_SVG\"></script><script type=\"text/javascript\">if (window.MathJax) {MathJax.Hub.Config({SVG: {font: \"STIX-Web\"}});}</script>\n",
              "                <script type=\"text/javascript\">window.PlotlyConfig = {MathJaxConfig: 'local'};</script>\n",
              "        <script src=\"https://cdn.plot.ly/plotly-latest.min.js\"></script>    \n",
              "            <div id=\"d3133723-a8c4-4f87-87a5-f47586f664b5\" class=\"plotly-graph-div\" style=\"height:500px; width:600px;\"></div>\n",
              "            <script type=\"text/javascript\">\n",
              "                \n",
              "                    window.PLOTLYENV=window.PLOTLYENV || {};\n",
              "                    \n",
              "                if (document.getElementById(\"d3133723-a8c4-4f87-87a5-f47586f664b5\")) {\n",
              "                    Plotly.newPlot(\n",
              "                        'd3133723-a8c4-4f87-87a5-f47586f664b5',\n",
              "                        [{\"error_y\": {\"array\": [0.00029023661372190704, 0.00022199383499726168, 0.000171079266092196, 0.00014205173548461164, 0.0001190249730511155, 0.00010026646224623203, 7.991642985939288e-05, 6.919764348628571e-05, 6.139559055045668e-05, 5.256939507255746e-05, 4.497579488131784e-05, 4.092202961342791e-05, 3.36953549356293e-05, 3.0990919167524774e-05, 3.030115501705275e-05, 2.770961108353444e-05, 2.2608955741786603e-05, 1.9015178364074802e-05, 1.622129762307007e-05, 1.5063020150659363e-05, 1.3010905206184047e-05, 1.124096531245758e-05, 9.625344970420148e-06, 8.767979877766864e-06, 7.536105408822246e-06, 6.749406712538788e-06, 5.840793075334271e-06, 5.073300588659052e-06, 4.61145906477067e-06, 3.92781514584421e-06, 3.5283887512599437e-06, 3.0184859180814138e-06, 2.736354988282444e-06, 2.3092692174021303e-06, 2.2302883750814006e-06, 1.953211671193681e-06, 1.8296468566266375e-06, 1.5542559918921127e-06, 1.497747944723775e-06, 1.4401083638929681e-06, 1.2923804733983855e-06, 1.2755634779806129e-06, 1.0204641003468784e-06, 9.040058191051368e-07, 9.353375752212754e-07, 8.015584798466082e-07, 7.665117570724029e-07, 7.013660576923812e-07, 6.959834905601543e-07, 6.598504308539321e-07, 5.792613562287434e-07, 5.674898437667917e-07, 5.588245832536101e-07, 4.86857796521865e-07, 5.594474662203731e-07, 5.083954730209577e-07, 5.444788175641415e-07, 5.40557342792061e-07, 4.766003644068609e-07, 6.101316089565208e-07, 4.747434787788442e-07, 5.99660949813845e-07, 5.80841643153679e-07, 7.166636942066057e-07, 6.295306994774494e-07, 7.214730181435873e-07, 5.983111885574295e-07, 4.611100050505512e-07, 8.190258142047721e-07], \"type\": \"data\", \"visible\": true}, \"type\": \"scatter\", \"x\": [\"0.028177055950000002\", \"0.029163252908250004\", \"0.030183966760038754\", \"0.03124040559664011\", \"0.03233381979252251\", \"0.0334655034852608\", \"0.034636796107244926\", \"0.0358490839709985\", \"0.03710380190998345\", \"0.03840243497683287\", \"0.03974652020102202\", \"0.04113764840805779\", \"0.04257746610233981\", \"0.044067677415921706\", \"0.04561004612547897\", \"0.04720639773987073\", \"0.04885862166076621\", \"0.050568673418893026\", \"0.052338576988554285\", \"0.05417042718315369\", \"0.05606639213456407\", \"0.05802871585927381\", \"0.0600597209143484\", \"0.062161811146350596\", \"0.06433747453647287\", \"0.06658928614524942\", \"0.06891991116033315\", \"0.07133210805094481\", \"0.07382873183272788\", \"0.07641273744687335\", \"0.07908718325751392\", \"0.0818552346715269\", \"0.08472016788503034\", \"0.08768537376100641\", \"0.09075436184264163\", \"0.09393076450713408\", \"0.09721834126488378\", \"0.10062098320915472\", \"0.10414271762147513\", \"0.10778771273822677\", \"0.1115602826840647\", \"0.11546489257800698\", \"0.11950616381823723\", \"0.12368887955187553\", \"0.12801799033619118\", \"0.13249861999795787\", \"0.13713607169788639\", \"0.1419358342073124\", \"0.14690358840456832\", \"0.15204521399872822\", \"0.1573667964886837\", \"0.16287463436578764\", \"0.16857524656859021\", \"0.17447538019849088\", \"0.18058201850543806\", \"0.1869023891531284\", \"0.1934439727734879\", \"0.20021451182056\", \"0.2072220197342796\", \"0.21447479042497938\", \"0.22198140808985367\", \"0.22975075737299855\", \"0.2377920338810535\", \"0.24611475506689037\", \"0.25472877149423157\", \"0.26364427849652966\", \"0.2728718282439082\", \"0.282422342232445\", \"0.2923071242105806\"], \"y\": [0.007703346304478047, 0.006059556403818594, 0.004766978741338889, 0.0042044094331153276, 0.003624945759661213, 0.00316740985695692, 0.0024725890576226713, 0.0021633040846597597, 0.0019998402119502075, 0.0017316492983319564, 0.0014667338183452531, 0.0014031437850411837, 0.0010961082071311817, 0.0009530338071264907, 0.0008586769985112126, 0.0008047764417682463, 0.0006520496050277717, 0.0005537619810243992, 0.00046078682840817856, 0.0004305249312834702, 0.0003698989000751808, 0.0003159187125779576, 0.0002665792509765318, 0.00024628757647929435, 0.00021016672624275592, 0.00018822193302767045, 0.00016188759928304717, 0.00013678992682162754, 0.00012796281504774728, 0.0001043013593959599, 9.332355487391158e-05, 7.610893831393603e-05, 6.821337737956745e-05, 5.474532434241083e-05, 5.483691330687904e-05, 4.3933578945974556e-05, 4.138352462163192e-05, 3.081741429448764e-05, 2.912950936078727e-05, 2.7463637887233897e-05, 2.2584100066036162e-05, 2.29277934207585e-05, 1.571862526793971e-05, 1.2806259045342505e-05, 1.4360526129065004e-05, 1.0917087626811571e-05, 1.0297356139893822e-05, 8.907555038074711e-06, 8.988200148243778e-06, 8.023019081945873e-06, 6.108907798039495e-06, 5.920178152253626e-06, 5.667058571782718e-06, 4.0919359220846485e-06, 4.959875742763143e-06, 3.62291692662525e-06, 3.643759532570051e-06, 3.00196497651717e-06, 2.0931896807292017e-06, 2.9929320977072937e-06, 1.6057143306912496e-06, 2.2376250152878605e-06, 1.956810292464296e-06, 2.638260313013054e-06, 1.776848352836325e-06, 2.1898075890237204e-06, 1.4309285912064062e-06, 7.977750683855261e-07, 1.829111659804664e-06]}],\n",
              "                        {\"height\": 500, \"margin\": {\"b\": 20, \"l\": 100, \"r\": 20, \"t\": 20}, \"modebar\": {\"orientation\": \"v\"}, \"template\": {\"data\": {\"bar\": [{\"error_x\": {\"color\": \"#2a3f5f\"}, \"error_y\": {\"color\": \"#2a3f5f\"}, \"marker\": {\"line\": {\"color\": \"#E5ECF6\", \"width\": 0.5}}, \"type\": \"bar\"}], \"barpolar\": [{\"marker\": {\"line\": {\"color\": \"#E5ECF6\", \"width\": 0.5}}, \"type\": \"barpolar\"}], \"carpet\": [{\"aaxis\": {\"endlinecolor\": \"#2a3f5f\", \"gridcolor\": \"white\", \"linecolor\": \"white\", \"minorgridcolor\": \"white\", \"startlinecolor\": \"#2a3f5f\"}, \"baxis\": {\"endlinecolor\": \"#2a3f5f\", \"gridcolor\": \"white\", \"linecolor\": \"white\", \"minorgridcolor\": \"white\", \"startlinecolor\": \"#2a3f5f\"}, \"type\": \"carpet\"}], \"choropleth\": [{\"colorbar\": {\"outlinewidth\": 0, \"ticks\": \"\"}, \"type\": \"choropleth\"}], \"contour\": [{\"colorbar\": {\"outlinewidth\": 0, \"ticks\": \"\"}, \"colorscale\": [[0.0, \"#0d0887\"], [0.1111111111111111, \"#46039f\"], [0.2222222222222222, \"#7201a8\"], [0.3333333333333333, \"#9c179e\"], [0.4444444444444444, \"#bd3786\"], [0.5555555555555556, \"#d8576b\"], [0.6666666666666666, \"#ed7953\"], [0.7777777777777778, \"#fb9f3a\"], [0.8888888888888888, \"#fdca26\"], [1.0, \"#f0f921\"]], \"type\": \"contour\"}], \"contourcarpet\": [{\"colorbar\": {\"outlinewidth\": 0, \"ticks\": \"\"}, \"type\": \"contourcarpet\"}], \"heatmap\": [{\"colorbar\": {\"outlinewidth\": 0, \"ticks\": \"\"}, \"colorscale\": [[0.0, \"#0d0887\"], [0.1111111111111111, \"#46039f\"], [0.2222222222222222, \"#7201a8\"], [0.3333333333333333, \"#9c179e\"], [0.4444444444444444, \"#bd3786\"], [0.5555555555555556, \"#d8576b\"], [0.6666666666666666, \"#ed7953\"], [0.7777777777777778, \"#fb9f3a\"], [0.8888888888888888, \"#fdca26\"], [1.0, \"#f0f921\"]], \"type\": \"heatmap\"}], \"heatmapgl\": [{\"colorbar\": {\"outlinewidth\": 0, \"ticks\": \"\"}, \"colorscale\": [[0.0, \"#0d0887\"], [0.1111111111111111, \"#46039f\"], [0.2222222222222222, \"#7201a8\"], [0.3333333333333333, \"#9c179e\"], [0.4444444444444444, \"#bd3786\"], [0.5555555555555556, \"#d8576b\"], [0.6666666666666666, \"#ed7953\"], [0.7777777777777778, \"#fb9f3a\"], [0.8888888888888888, \"#fdca26\"], [1.0, \"#f0f921\"]], \"type\": \"heatmapgl\"}], \"histogram\": [{\"marker\": {\"colorbar\": {\"outlinewidth\": 0, \"ticks\": \"\"}}, \"type\": \"histogram\"}], \"histogram2d\": [{\"colorbar\": {\"outlinewidth\": 0, \"ticks\": \"\"}, \"colorscale\": [[0.0, \"#0d0887\"], [0.1111111111111111, \"#46039f\"], [0.2222222222222222, \"#7201a8\"], [0.3333333333333333, \"#9c179e\"], [0.4444444444444444, \"#bd3786\"], [0.5555555555555556, \"#d8576b\"], [0.6666666666666666, \"#ed7953\"], [0.7777777777777778, \"#fb9f3a\"], [0.8888888888888888, \"#fdca26\"], [1.0, \"#f0f921\"]], \"type\": \"histogram2d\"}], \"histogram2dcontour\": [{\"colorbar\": {\"outlinewidth\": 0, \"ticks\": \"\"}, \"colorscale\": [[0.0, \"#0d0887\"], [0.1111111111111111, \"#46039f\"], [0.2222222222222222, \"#7201a8\"], [0.3333333333333333, \"#9c179e\"], [0.4444444444444444, \"#bd3786\"], [0.5555555555555556, \"#d8576b\"], [0.6666666666666666, \"#ed7953\"], [0.7777777777777778, \"#fb9f3a\"], [0.8888888888888888, \"#fdca26\"], [1.0, \"#f0f921\"]], \"type\": \"histogram2dcontour\"}], \"mesh3d\": [{\"colorbar\": {\"outlinewidth\": 0, \"ticks\": \"\"}, \"type\": \"mesh3d\"}], \"parcoords\": [{\"line\": {\"colorbar\": {\"outlinewidth\": 0, \"ticks\": \"\"}}, \"type\": \"parcoords\"}], \"pie\": [{\"automargin\": true, \"type\": \"pie\"}], \"scatter\": [{\"marker\": {\"colorbar\": {\"outlinewidth\": 0, \"ticks\": \"\"}}, \"type\": \"scatter\"}], \"scatter3d\": [{\"line\": {\"colorbar\": {\"outlinewidth\": 0, \"ticks\": \"\"}}, \"marker\": {\"colorbar\": {\"outlinewidth\": 0, \"ticks\": \"\"}}, \"type\": \"scatter3d\"}], \"scattercarpet\": [{\"marker\": {\"colorbar\": {\"outlinewidth\": 0, \"ticks\": \"\"}}, \"type\": \"scattercarpet\"}], \"scattergeo\": [{\"marker\": {\"colorbar\": {\"outlinewidth\": 0, \"ticks\": \"\"}}, \"type\": \"scattergeo\"}], \"scattergl\": [{\"marker\": {\"colorbar\": {\"outlinewidth\": 0, \"ticks\": \"\"}}, \"type\": \"scattergl\"}], \"scattermapbox\": [{\"marker\": {\"colorbar\": {\"outlinewidth\": 0, \"ticks\": \"\"}}, \"type\": \"scattermapbox\"}], \"scatterpolar\": [{\"marker\": {\"colorbar\": {\"outlinewidth\": 0, \"ticks\": \"\"}}, \"type\": \"scatterpolar\"}], \"scatterpolargl\": [{\"marker\": {\"colorbar\": {\"outlinewidth\": 0, \"ticks\": \"\"}}, \"type\": \"scatterpolargl\"}], \"scatterternary\": [{\"marker\": {\"colorbar\": {\"outlinewidth\": 0, \"ticks\": \"\"}}, \"type\": \"scatterternary\"}], \"surface\": [{\"colorbar\": {\"outlinewidth\": 0, \"ticks\": \"\"}, \"colorscale\": [[0.0, \"#0d0887\"], [0.1111111111111111, \"#46039f\"], [0.2222222222222222, \"#7201a8\"], [0.3333333333333333, \"#9c179e\"], [0.4444444444444444, \"#bd3786\"], [0.5555555555555556, \"#d8576b\"], [0.6666666666666666, \"#ed7953\"], [0.7777777777777778, \"#fb9f3a\"], [0.8888888888888888, \"#fdca26\"], [1.0, \"#f0f921\"]], \"type\": \"surface\"}], \"table\": [{\"cells\": {\"fill\": {\"color\": \"#EBF0F8\"}, \"line\": {\"color\": \"white\"}}, \"header\": {\"fill\": {\"color\": \"#C8D4E3\"}, \"line\": {\"color\": \"white\"}}, \"type\": \"table\"}]}, \"layout\": {\"annotationdefaults\": {\"arrowcolor\": \"#2a3f5f\", \"arrowhead\": 0, \"arrowwidth\": 1}, \"coloraxis\": {\"colorbar\": {\"outlinewidth\": 0, \"ticks\": \"\"}}, \"colorscale\": {\"diverging\": [[0, \"#8e0152\"], [0.1, \"#c51b7d\"], [0.2, \"#de77ae\"], [0.3, \"#f1b6da\"], [0.4, \"#fde0ef\"], [0.5, \"#f7f7f7\"], [0.6, \"#e6f5d0\"], [0.7, \"#b8e186\"], [0.8, \"#7fbc41\"], [0.9, \"#4d9221\"], [1, \"#276419\"]], \"sequential\": [[0.0, \"#0d0887\"], [0.1111111111111111, \"#46039f\"], [0.2222222222222222, \"#7201a8\"], [0.3333333333333333, \"#9c179e\"], [0.4444444444444444, \"#bd3786\"], [0.5555555555555556, \"#d8576b\"], [0.6666666666666666, \"#ed7953\"], [0.7777777777777778, \"#fb9f3a\"], [0.8888888888888888, \"#fdca26\"], [1.0, \"#f0f921\"]], \"sequentialminus\": [[0.0, \"#0d0887\"], [0.1111111111111111, \"#46039f\"], [0.2222222222222222, \"#7201a8\"], [0.3333333333333333, \"#9c179e\"], [0.4444444444444444, \"#bd3786\"], [0.5555555555555556, \"#d8576b\"], [0.6666666666666666, \"#ed7953\"], [0.7777777777777778, \"#fb9f3a\"], [0.8888888888888888, \"#fdca26\"], [1.0, \"#f0f921\"]]}, \"colorway\": [\"#636efa\", \"#EF553B\", \"#00cc96\", \"#ab63fa\", \"#FFA15A\", \"#19d3f3\", \"#FF6692\", \"#B6E880\", \"#FF97FF\", \"#FECB52\"], \"font\": {\"color\": \"#2a3f5f\"}, \"geo\": {\"bgcolor\": \"white\", \"lakecolor\": \"white\", \"landcolor\": \"#E5ECF6\", \"showlakes\": true, \"showland\": true, \"subunitcolor\": \"white\"}, \"hoverlabel\": {\"align\": \"left\"}, \"hovermode\": \"closest\", \"mapbox\": {\"style\": \"light\"}, \"paper_bgcolor\": \"white\", \"plot_bgcolor\": \"#E5ECF6\", \"polar\": {\"angularaxis\": {\"gridcolor\": \"white\", \"linecolor\": \"white\", \"ticks\": \"\"}, \"bgcolor\": \"#E5ECF6\", \"radialaxis\": {\"gridcolor\": \"white\", \"linecolor\": \"white\", \"ticks\": \"\"}}, \"scene\": {\"xaxis\": {\"backgroundcolor\": \"#E5ECF6\", \"gridcolor\": \"white\", \"gridwidth\": 2, \"linecolor\": \"white\", \"showbackground\": true, \"ticks\": \"\", \"zerolinecolor\": \"white\"}, \"yaxis\": {\"backgroundcolor\": \"#E5ECF6\", \"gridcolor\": \"white\", \"gridwidth\": 2, \"linecolor\": \"white\", \"showbackground\": true, \"ticks\": \"\", \"zerolinecolor\": \"white\"}, \"zaxis\": {\"backgroundcolor\": \"#E5ECF6\", \"gridcolor\": \"white\", \"gridwidth\": 2, \"linecolor\": \"white\", \"showbackground\": true, \"ticks\": \"\", \"zerolinecolor\": \"white\"}}, \"shapedefaults\": {\"line\": {\"color\": \"#2a3f5f\"}}, \"ternary\": {\"aaxis\": {\"gridcolor\": \"white\", \"linecolor\": \"white\", \"ticks\": \"\"}, \"baxis\": {\"gridcolor\": \"white\", \"linecolor\": \"white\", \"ticks\": \"\"}, \"bgcolor\": \"#E5ECF6\", \"caxis\": {\"gridcolor\": \"white\", \"linecolor\": \"white\", \"ticks\": \"\"}}, \"title\": {\"x\": 0.05}, \"xaxis\": {\"automargin\": true, \"gridcolor\": \"white\", \"linecolor\": \"white\", \"ticks\": \"\", \"title\": {\"standoff\": 15}, \"zerolinecolor\": \"white\", \"zerolinewidth\": 2}, \"yaxis\": {\"automargin\": true, \"gridcolor\": \"white\", \"linecolor\": \"white\", \"ticks\": \"\", \"title\": {\"standoff\": 15}, \"zerolinecolor\": \"white\", \"zerolinewidth\": 2}}}, \"width\": 600, \"xaxis\": {\"type\": \"log\"}, \"yaxis\": {\"exponentformat\": \"power\", \"type\": \"log\"}},\n",
              "                        {\"responsive\": true}\n",
              "                    ).then(function(){\n",
              "                            \n",
              "var gd = document.getElementById('d3133723-a8c4-4f87-87a5-f47586f664b5');\n",
              "var x = new MutationObserver(function (mutations, observer) {{\n",
              "        var display = window.getComputedStyle(gd).display;\n",
              "        if (!display || display === 'none') {{\n",
              "            console.log([gd, 'removed!']);\n",
              "            Plotly.purge(gd);\n",
              "            observer.disconnect();\n",
              "        }}\n",
              "}});\n",
              "\n",
              "// Listen for the removal of the full notebook cells\n",
              "var notebookContainer = gd.closest('#notebook-container');\n",
              "if (notebookContainer) {{\n",
              "    x.observe(notebookContainer, {childList: true});\n",
              "}}\n",
              "\n",
              "// Listen for the clearing of the current output cell\n",
              "var outputEl = gd.closest('.output');\n",
              "if (outputEl) {{\n",
              "    x.observe(outputEl, {childList: true});\n",
              "}}\n",
              "\n",
              "                        })\n",
              "                };\n",
              "                \n",
              "            </script>\n",
              "        </div>\n",
              "</body>\n",
              "</html>"
            ]
          },
          "metadata": {
            "tags": []
          }
        }
      ]
    },
    {
      "cell_type": "code",
      "metadata": {
        "id": "XpTW36cW6jc7",
        "colab": {
          "base_uri": "https://localhost:8080/",
          "height": 542
        },
        "outputId": "89fcdb1f-5295-4144-db49-44e94fc0504c"
      },
      "source": [
        "\n",
        "fig.show()"
      ],
      "execution_count": null,
      "outputs": [
        {
          "output_type": "display_data",
          "data": {
            "text/html": [
              "<html>\n",
              "<head><meta charset=\"utf-8\" /></head>\n",
              "<body>\n",
              "    <div>\n",
              "            <script src=\"https://cdnjs.cloudflare.com/ajax/libs/mathjax/2.7.5/MathJax.js?config=TeX-AMS-MML_SVG\"></script><script type=\"text/javascript\">if (window.MathJax) {MathJax.Hub.Config({SVG: {font: \"STIX-Web\"}});}</script>\n",
              "                <script type=\"text/javascript\">window.PlotlyConfig = {MathJaxConfig: 'local'};</script>\n",
              "        <script src=\"https://cdn.plot.ly/plotly-latest.min.js\"></script>    \n",
              "            <div id=\"d9991f93-fff1-412a-832c-1dd5b2e78c4d\" class=\"plotly-graph-div\" style=\"height:525px; width:100%;\"></div>\n",
              "            <script type=\"text/javascript\">\n",
              "                \n",
              "                    window.PLOTLYENV=window.PLOTLYENV || {};\n",
              "                    \n",
              "                if (document.getElementById(\"d9991f93-fff1-412a-832c-1dd5b2e78c4d\")) {\n",
              "                    Plotly.newPlot(\n",
              "                        'd9991f93-fff1-412a-832c-1dd5b2e78c4d',\n",
              "                        [{\"hoverlabel\": {\"namelength\": 0}, \"hovertemplate\": \"x=%{x}<br>y=%{y}\", \"legendgroup\": \"\", \"marker\": {\"color\": \"#636efa\", \"symbol\": \"circle\"}, \"mode\": \"markers\", \"name\": \"\", \"showlegend\": false, \"type\": \"scatter\", \"x\": [\"0.031521025625\", \"0.032624261521874996\", \"0.03376611067514062\", \"0.03494792454877054\", \"0.03617110190797751\", \"0.037437090474756726\", \"0.03874738864137321\", \"0.04010354724382127\", \"0.04150717139735502\", \"0.042959922396262444\", \"0.04446351968013163\", \"0.04601974286893624\", \"0.04763043386934901\", \"0.04929749905477623\", \"0.051022911521693394\", \"0.052808713424952664\", \"0.05465701839482601\", \"0.056570014038644915\", \"0.058549964529997486\", \"0.0605992132885474\", \"0.06272018575364656\", \"0.06491539225502418\", \"0.06718743098395002\", \"0.06953899106838828\", \"0.07197285575578187\", \"0.07449190570723424\", \"0.07709912240698744\", \"0.07979759169123199\", \"0.0825905074004251\", \"0.08548117515943998\", \"0.08847301629002038\", \"0.0915695718601711\", \"0.0947745068752771\", \"0.09809161461591179\", \"0.1015248211274687\", \"0.10507818986693011\", \"0.10875592651227267\", \"0.11256238394020221\", \"0.11650206737810928\", \"0.1205796397363431\", \"0.12479992712711512\", \"0.12916792457656415\", \"0.1336888019367439\", \"0.13836791000452994\", \"0.1432107868546885\", \"0.1482231643946026\", \"0.15341097514841368\", \"0.15878035927860815\", \"0.16433767185335943\", \"0.17008949036822701\", \"0.17604262253111497\", \"0.18220411431970399\", \"0.18858125832089362\", \"0.1951816023621249\", \"0.20201295844479927\", \"0.20908341199036726\", \"0.21640133141003012\", \"0.22397537800938117\", \"0.2318145162397095\", \"0.23992802430809934\", \"0.24832550515888283\", \"0.2570168978394437\", \"0.26601248926382426\", \"0.2753229263880581\", \"0.28495922881164015\", \"0.29493280182004755\", \"0.3052554498837492\", \"0.3159393906296804\", \"0.32699726930171924\"], \"xaxis\": \"x\", \"y\": [0.007551799680334124, 0.006083219657539876, 0.004807932110715679, 0.004146391927011732, 0.003681283698281137, 0.003243587906857787, 0.0024454886563559466, 0.002202447504896318, 0.0019352998359353077, 0.0016552336499920204, 0.0014343496450179316, 0.0013909465548460182, 0.001087419277737265, 0.0009654013345485738, 0.0008629525213595271, 0.0007882725563890672, 0.000682870170614197, 0.0005443389105731376, 0.00046467790259079267, 0.0004324521020899541, 0.00035122627135059586, 0.0003337977819916395, 0.0002718371936716245, 0.00025192368534893394, 0.00021245953190801115, 0.00019184815800435452, 0.0001591588621105577, 0.0001394315014133903, 0.00013295789133199428, 9.809422109113998e-05, 9.353565193673846e-05, 7.467228959274137e-05, 6.754347744392909e-05, 5.427026343353093e-05, 5.448688625240459e-05, 4.192616290152765e-05, 4.1360816286904516e-05, 3.0592093515958663e-05, 3.254981545626864e-05, 2.8388059511113234e-05, 2.2368602260806405e-05, 2.304248099749378e-05, 1.6628885353216322e-05, 1.1956821066787268e-05, 1.4602569640349727e-05, 1.1121792139361623e-05, 1.02038861820989e-05, 9.133434345147241e-06, 8.993141534325672e-06, 8.124147651227052e-06, 6.17610630967892e-06, 5.159987693719204e-06, 5.333779406152193e-06, 3.442438771685693e-06, 5.149488121745331e-06, 3.299135015152483e-06, 3.7264273828529334e-06, 2.8650366451614334e-06, 3.044242480353971e-06, 2.7993188752113788e-06, 1.8156193898046959e-06, 1.8833461862559292e-06, 1.1720787835636968e-06, 2.6838286425047884e-06, 1.1277932873838687e-06, 1.3752064783735167e-06, 2.040891490354708e-06, 9.241553076349632e-07, 2.5147927294623307e-06], \"yaxis\": \"y\"}],\n",
              "                        {\"legend\": {\"tracegroupgap\": 0}, \"margin\": {\"t\": 60}, \"template\": {\"data\": {\"bar\": [{\"error_x\": {\"color\": \"#2a3f5f\"}, \"error_y\": {\"color\": \"#2a3f5f\"}, \"marker\": {\"line\": {\"color\": \"#E5ECF6\", \"width\": 0.5}}, \"type\": \"bar\"}], \"barpolar\": [{\"marker\": {\"line\": {\"color\": \"#E5ECF6\", \"width\": 0.5}}, \"type\": \"barpolar\"}], \"carpet\": [{\"aaxis\": {\"endlinecolor\": \"#2a3f5f\", \"gridcolor\": \"white\", \"linecolor\": \"white\", \"minorgridcolor\": \"white\", \"startlinecolor\": \"#2a3f5f\"}, \"baxis\": {\"endlinecolor\": \"#2a3f5f\", \"gridcolor\": \"white\", \"linecolor\": \"white\", \"minorgridcolor\": \"white\", \"startlinecolor\": \"#2a3f5f\"}, \"type\": \"carpet\"}], \"choropleth\": [{\"colorbar\": {\"outlinewidth\": 0, \"ticks\": \"\"}, \"type\": \"choropleth\"}], \"contour\": [{\"colorbar\": {\"outlinewidth\": 0, \"ticks\": \"\"}, \"colorscale\": [[0.0, \"#0d0887\"], [0.1111111111111111, \"#46039f\"], [0.2222222222222222, \"#7201a8\"], [0.3333333333333333, \"#9c179e\"], [0.4444444444444444, \"#bd3786\"], [0.5555555555555556, \"#d8576b\"], [0.6666666666666666, \"#ed7953\"], [0.7777777777777778, \"#fb9f3a\"], [0.8888888888888888, \"#fdca26\"], [1.0, \"#f0f921\"]], \"type\": \"contour\"}], \"contourcarpet\": [{\"colorbar\": {\"outlinewidth\": 0, \"ticks\": \"\"}, \"type\": \"contourcarpet\"}], \"heatmap\": [{\"colorbar\": {\"outlinewidth\": 0, \"ticks\": \"\"}, \"colorscale\": [[0.0, \"#0d0887\"], [0.1111111111111111, \"#46039f\"], [0.2222222222222222, \"#7201a8\"], [0.3333333333333333, \"#9c179e\"], [0.4444444444444444, \"#bd3786\"], [0.5555555555555556, \"#d8576b\"], [0.6666666666666666, \"#ed7953\"], [0.7777777777777778, \"#fb9f3a\"], [0.8888888888888888, \"#fdca26\"], [1.0, \"#f0f921\"]], \"type\": \"heatmap\"}], \"heatmapgl\": [{\"colorbar\": {\"outlinewidth\": 0, \"ticks\": \"\"}, \"colorscale\": [[0.0, \"#0d0887\"], [0.1111111111111111, \"#46039f\"], [0.2222222222222222, \"#7201a8\"], [0.3333333333333333, \"#9c179e\"], [0.4444444444444444, \"#bd3786\"], [0.5555555555555556, \"#d8576b\"], [0.6666666666666666, \"#ed7953\"], [0.7777777777777778, \"#fb9f3a\"], [0.8888888888888888, \"#fdca26\"], [1.0, \"#f0f921\"]], \"type\": \"heatmapgl\"}], \"histogram\": [{\"marker\": {\"colorbar\": {\"outlinewidth\": 0, \"ticks\": \"\"}}, \"type\": \"histogram\"}], \"histogram2d\": [{\"colorbar\": {\"outlinewidth\": 0, \"ticks\": \"\"}, \"colorscale\": [[0.0, \"#0d0887\"], [0.1111111111111111, \"#46039f\"], [0.2222222222222222, \"#7201a8\"], [0.3333333333333333, \"#9c179e\"], [0.4444444444444444, \"#bd3786\"], [0.5555555555555556, \"#d8576b\"], [0.6666666666666666, \"#ed7953\"], [0.7777777777777778, \"#fb9f3a\"], [0.8888888888888888, \"#fdca26\"], [1.0, \"#f0f921\"]], \"type\": \"histogram2d\"}], \"histogram2dcontour\": [{\"colorbar\": {\"outlinewidth\": 0, \"ticks\": \"\"}, \"colorscale\": [[0.0, \"#0d0887\"], [0.1111111111111111, \"#46039f\"], [0.2222222222222222, \"#7201a8\"], [0.3333333333333333, \"#9c179e\"], [0.4444444444444444, \"#bd3786\"], [0.5555555555555556, \"#d8576b\"], [0.6666666666666666, \"#ed7953\"], [0.7777777777777778, \"#fb9f3a\"], [0.8888888888888888, \"#fdca26\"], [1.0, \"#f0f921\"]], \"type\": \"histogram2dcontour\"}], \"mesh3d\": [{\"colorbar\": {\"outlinewidth\": 0, \"ticks\": \"\"}, \"type\": \"mesh3d\"}], \"parcoords\": [{\"line\": {\"colorbar\": {\"outlinewidth\": 0, \"ticks\": \"\"}}, \"type\": \"parcoords\"}], \"pie\": [{\"automargin\": true, \"type\": \"pie\"}], \"scatter\": [{\"marker\": {\"colorbar\": {\"outlinewidth\": 0, \"ticks\": \"\"}}, \"type\": \"scatter\"}], \"scatter3d\": [{\"line\": {\"colorbar\": {\"outlinewidth\": 0, \"ticks\": \"\"}}, \"marker\": {\"colorbar\": {\"outlinewidth\": 0, \"ticks\": \"\"}}, \"type\": \"scatter3d\"}], \"scattercarpet\": [{\"marker\": {\"colorbar\": {\"outlinewidth\": 0, \"ticks\": \"\"}}, \"type\": \"scattercarpet\"}], \"scattergeo\": [{\"marker\": {\"colorbar\": {\"outlinewidth\": 0, \"ticks\": \"\"}}, \"type\": \"scattergeo\"}], \"scattergl\": [{\"marker\": {\"colorbar\": {\"outlinewidth\": 0, \"ticks\": \"\"}}, \"type\": \"scattergl\"}], \"scattermapbox\": [{\"marker\": {\"colorbar\": {\"outlinewidth\": 0, \"ticks\": \"\"}}, \"type\": \"scattermapbox\"}], \"scatterpolar\": [{\"marker\": {\"colorbar\": {\"outlinewidth\": 0, \"ticks\": \"\"}}, \"type\": \"scatterpolar\"}], \"scatterpolargl\": [{\"marker\": {\"colorbar\": {\"outlinewidth\": 0, \"ticks\": \"\"}}, \"type\": \"scatterpolargl\"}], \"scatterternary\": [{\"marker\": {\"colorbar\": {\"outlinewidth\": 0, \"ticks\": \"\"}}, \"type\": \"scatterternary\"}], \"surface\": [{\"colorbar\": {\"outlinewidth\": 0, \"ticks\": \"\"}, \"colorscale\": [[0.0, \"#0d0887\"], [0.1111111111111111, \"#46039f\"], [0.2222222222222222, \"#7201a8\"], [0.3333333333333333, \"#9c179e\"], [0.4444444444444444, \"#bd3786\"], [0.5555555555555556, \"#d8576b\"], [0.6666666666666666, \"#ed7953\"], [0.7777777777777778, \"#fb9f3a\"], [0.8888888888888888, \"#fdca26\"], [1.0, \"#f0f921\"]], \"type\": \"surface\"}], \"table\": [{\"cells\": {\"fill\": {\"color\": \"#EBF0F8\"}, \"line\": {\"color\": \"white\"}}, \"header\": {\"fill\": {\"color\": \"#C8D4E3\"}, \"line\": {\"color\": \"white\"}}, \"type\": \"table\"}]}, \"layout\": {\"annotationdefaults\": {\"arrowcolor\": \"#2a3f5f\", \"arrowhead\": 0, \"arrowwidth\": 1}, \"coloraxis\": {\"colorbar\": {\"outlinewidth\": 0, \"ticks\": \"\"}}, \"colorscale\": {\"diverging\": [[0, \"#8e0152\"], [0.1, \"#c51b7d\"], [0.2, \"#de77ae\"], [0.3, \"#f1b6da\"], [0.4, \"#fde0ef\"], [0.5, \"#f7f7f7\"], [0.6, \"#e6f5d0\"], [0.7, \"#b8e186\"], [0.8, \"#7fbc41\"], [0.9, \"#4d9221\"], [1, \"#276419\"]], \"sequential\": [[0.0, \"#0d0887\"], [0.1111111111111111, \"#46039f\"], [0.2222222222222222, \"#7201a8\"], [0.3333333333333333, \"#9c179e\"], [0.4444444444444444, \"#bd3786\"], [0.5555555555555556, \"#d8576b\"], [0.6666666666666666, \"#ed7953\"], [0.7777777777777778, \"#fb9f3a\"], [0.8888888888888888, \"#fdca26\"], [1.0, \"#f0f921\"]], \"sequentialminus\": [[0.0, \"#0d0887\"], [0.1111111111111111, \"#46039f\"], [0.2222222222222222, \"#7201a8\"], [0.3333333333333333, \"#9c179e\"], [0.4444444444444444, \"#bd3786\"], [0.5555555555555556, \"#d8576b\"], [0.6666666666666666, \"#ed7953\"], [0.7777777777777778, \"#fb9f3a\"], [0.8888888888888888, \"#fdca26\"], [1.0, \"#f0f921\"]]}, \"colorway\": [\"#636efa\", \"#EF553B\", \"#00cc96\", \"#ab63fa\", \"#FFA15A\", \"#19d3f3\", \"#FF6692\", \"#B6E880\", \"#FF97FF\", \"#FECB52\"], \"font\": {\"color\": \"#2a3f5f\"}, \"geo\": {\"bgcolor\": \"white\", \"lakecolor\": \"white\", \"landcolor\": \"#E5ECF6\", \"showlakes\": true, \"showland\": true, \"subunitcolor\": \"white\"}, \"hoverlabel\": {\"align\": \"left\"}, \"hovermode\": \"closest\", \"mapbox\": {\"style\": \"light\"}, \"paper_bgcolor\": \"white\", \"plot_bgcolor\": \"#E5ECF6\", \"polar\": {\"angularaxis\": {\"gridcolor\": \"white\", \"linecolor\": \"white\", \"ticks\": \"\"}, \"bgcolor\": \"#E5ECF6\", \"radialaxis\": {\"gridcolor\": \"white\", \"linecolor\": \"white\", \"ticks\": \"\"}}, \"scene\": {\"xaxis\": {\"backgroundcolor\": \"#E5ECF6\", \"gridcolor\": \"white\", \"gridwidth\": 2, \"linecolor\": \"white\", \"showbackground\": true, \"ticks\": \"\", \"zerolinecolor\": \"white\"}, \"yaxis\": {\"backgroundcolor\": \"#E5ECF6\", \"gridcolor\": \"white\", \"gridwidth\": 2, \"linecolor\": \"white\", \"showbackground\": true, \"ticks\": \"\", \"zerolinecolor\": \"white\"}, \"zaxis\": {\"backgroundcolor\": \"#E5ECF6\", \"gridcolor\": \"white\", \"gridwidth\": 2, \"linecolor\": \"white\", \"showbackground\": true, \"ticks\": \"\", \"zerolinecolor\": \"white\"}}, \"shapedefaults\": {\"line\": {\"color\": \"#2a3f5f\"}}, \"ternary\": {\"aaxis\": {\"gridcolor\": \"white\", \"linecolor\": \"white\", \"ticks\": \"\"}, \"baxis\": {\"gridcolor\": \"white\", \"linecolor\": \"white\", \"ticks\": \"\"}, \"bgcolor\": \"#E5ECF6\", \"caxis\": {\"gridcolor\": \"white\", \"linecolor\": \"white\", \"ticks\": \"\"}}, \"title\": {\"x\": 0.05}, \"xaxis\": {\"automargin\": true, \"gridcolor\": \"white\", \"linecolor\": \"white\", \"ticks\": \"\", \"title\": {\"standoff\": 15}, \"zerolinecolor\": \"white\", \"zerolinewidth\": 2}, \"yaxis\": {\"automargin\": true, \"gridcolor\": \"white\", \"linecolor\": \"white\", \"ticks\": \"\", \"title\": {\"standoff\": 15}, \"zerolinecolor\": \"white\", \"zerolinewidth\": 2}}}, \"xaxis\": {\"anchor\": \"y\", \"domain\": [0.0, 1.0], \"title\": {\"text\": \"x\"}}, \"yaxis\": {\"anchor\": \"x\", \"domain\": [0.0, 1.0], \"title\": {\"text\": \"y\"}}},\n",
              "                        {\"responsive\": true}\n",
              "                    ).then(function(){\n",
              "                            \n",
              "var gd = document.getElementById('d9991f93-fff1-412a-832c-1dd5b2e78c4d');\n",
              "var x = new MutationObserver(function (mutations, observer) {{\n",
              "        var display = window.getComputedStyle(gd).display;\n",
              "        if (!display || display === 'none') {{\n",
              "            console.log([gd, 'removed!']);\n",
              "            Plotly.purge(gd);\n",
              "            observer.disconnect();\n",
              "        }}\n",
              "}});\n",
              "\n",
              "// Listen for the removal of the full notebook cells\n",
              "var notebookContainer = gd.closest('#notebook-container');\n",
              "if (notebookContainer) {{\n",
              "    x.observe(notebookContainer, {childList: true});\n",
              "}}\n",
              "\n",
              "// Listen for the clearing of the current output cell\n",
              "var outputEl = gd.closest('.output');\n",
              "if (outputEl) {{\n",
              "    x.observe(outputEl, {childList: true});\n",
              "}}\n",
              "\n",
              "                        })\n",
              "                };\n",
              "                \n",
              "            </script>\n",
              "        </div>\n",
              "</body>\n",
              "</html>"
            ]
          },
          "metadata": {
            "tags": []
          }
        }
      ]
    },
    {
      "cell_type": "code",
      "metadata": {
        "id": "QbG-1H__rkfi",
        "colab": {
          "base_uri": "https://localhost:8080/",
          "height": 361
        },
        "outputId": "c0f5a306-5397-4db7-9bc1-24554ecabd41"
      },
      "source": [
        "import urllib\n",
        "import re\n",
        "import time\n",
        "import dweepy\n",
        "\n",
        "try:\n",
        "    while True:\n",
        "        sock = urllib.request.urlopen(\"http://dataweb.isis.rl.ac.uk/SeciWeb/default.aspx?Instrument=inter\")\n",
        "        htmlSource = sock.read()\n",
        "        sock.close()\n",
        "        titl=re.search('(?<=<li>Title:)(.*?)(?=</li>)',htmlSource)\n",
        "        titl=titl.group(0)\n",
        "        rno=re.search('(?<=<li>Run Number:)(.*?)(?=</li>)',htmlSource)\n",
        "        rno=int(rno.group(0))\n",
        "        status=re.search('(?<=<li>Run Status: )(.*?)(?=</li>)',htmlSource)\n",
        "        status=status.group(0)\n",
        "        beamcurr=re.search('(?<=TS2_Beam: )(.*)(?= uA)',htmlSource)\n",
        "        TS2Beam=beamcurr.group(0)\n",
        "        theta=re.search('(?<=Theta: ).*(?= deg.*Supermirror)',htmlSource)\n",
        "        theta_in=abs(float(theta.group(0)))\n",
        "        phi=re.search('(?<=PHI: ).*(?= deg.*PSI)',htmlSource)\n",
        "        phi=abs(float(phi.group(0)))\n",
        "        shutter=re.search('(?<=Shutter Status: ).*(?=(?:<\\/li><li>Conf))',htmlSource)\n",
        "        shutter=shutter.group(0)\n",
        "        sv1=re.search('(?<=S1_VG: ).*(?=mm.*S2_VG)',htmlSource)\n",
        "        sv1=sv1.group(0)\n",
        "        sv2=re.search('(?<=S2_VG: ).*(?=mm.*S3_VG)',htmlSource)\n",
        "        sv2=sv2.group(0)\n",
        "        sv3=re.search('(?<=S3_VG: ).*(?=mm.*S4_VG)',htmlSource)\n",
        "        sv3=sv3.group(0)\n",
        "        sv4=re.search('(?<=S4_VG: ).*(?=mm.*S2_height)',htmlSource)\n",
        "        sv4=sv4.group(0)\n",
        "        # HPLC\n",
        "        concA=re.search('(?<=<li>concA:)(.*?)(?=\\[Setpoint)',htmlSource)\n",
        "        concA=concA.group(0)\n",
        "        concB=re.search('(?<=<li>concB:)(.*?)(?=\\[Setpoint)',htmlSource)\n",
        "        concB=concB.group(0)\n",
        "        concC=re.search('(?<=<li>concC:)(.*?)(?=\\[Setpoint)',htmlSource)\n",
        "        concC=concC.group(0)\n",
        "        concD=re.search('(?<=<li>concD:)(.*?)(?=\\[Setpoint)',htmlSource)\n",
        "        concD=concD.group(0)\n",
        "        Knauer=re.search('(?<=<li>knauer:)(.*?)(?=\\[Setpoint)',htmlSource)\n",
        "        Knauer=Knauer.group(0)\n",
        "        # NIMA\n",
        "        #area=re.search('(?<=<li>Nima_Area:)(.*?)(?=cm2.*</li>)',htmlSource)\n",
        "        #area=area.group(0)\n",
        "        #pressure=re.search('(?<=<li>Nima_Pressure:)(.*?)(?=mN/m.*</li>)',htmlSource)\n",
        "        #pressure=pressure.group(0)\n",
        "        #atTarget=re.search('(?<=<li>Nima_At_Target:)(.*?)(?=</li>)',htmlSource)\n",
        "        #atTarget=atTarget.group(0)\n",
        "        #\n",
        "        dweepy.dweet_for('ISIS_INTER_DashValues',{'Title':str(titl),'Run number':str(rno),\\\n",
        "                                        'Run Status':str(status),'TS2 Beam': str(TS2Beam), 'Theta':str(theta_in), 'Phi':str(phi),\\\n",
        "                                    'SHUTTER':shutter, 'sv1':str(sv1), 'sv2':str(sv2), 'sv3':str(sv3), 'sv4':str(sv4),\\\n",
        "                                    'concA':str(concA),'concB':str(concB),'concC':str(concC),'concD':str(concD),'Channel:':str(Knauer)})\n",
        "        time.sleep(5)\n",
        "except KeyboardInterrupt:\n",
        "    pass"
      ],
      "execution_count": null,
      "outputs": [
        {
          "output_type": "error",
          "ename": "TypeError",
          "evalue": "ignored",
          "traceback": [
            "\u001b[0;31m---------------------------------------------------------------------------\u001b[0m",
            "\u001b[0;31mTypeError\u001b[0m                                 Traceback (most recent call last)",
            "\u001b[0;32m<ipython-input-18-661c57eeb9ea>\u001b[0m in \u001b[0;36m<module>\u001b[0;34m()\u001b[0m\n\u001b[1;32m      9\u001b[0m         \u001b[0mhtmlSource\u001b[0m \u001b[0;34m=\u001b[0m \u001b[0msock\u001b[0m\u001b[0;34m.\u001b[0m\u001b[0mread\u001b[0m\u001b[0;34m(\u001b[0m\u001b[0;34m)\u001b[0m\u001b[0;34m\u001b[0m\u001b[0;34m\u001b[0m\u001b[0m\n\u001b[1;32m     10\u001b[0m         \u001b[0msock\u001b[0m\u001b[0;34m.\u001b[0m\u001b[0mclose\u001b[0m\u001b[0;34m(\u001b[0m\u001b[0;34m)\u001b[0m\u001b[0;34m\u001b[0m\u001b[0;34m\u001b[0m\u001b[0m\n\u001b[0;32m---> 11\u001b[0;31m         \u001b[0mtitl\u001b[0m\u001b[0;34m=\u001b[0m\u001b[0mre\u001b[0m\u001b[0;34m.\u001b[0m\u001b[0msearch\u001b[0m\u001b[0;34m(\u001b[0m\u001b[0;34m'(?<=<li>Title:)(.*?)(?=</li>)'\u001b[0m\u001b[0;34m,\u001b[0m\u001b[0mhtmlSource\u001b[0m\u001b[0;34m)\u001b[0m\u001b[0;34m\u001b[0m\u001b[0;34m\u001b[0m\u001b[0m\n\u001b[0m\u001b[1;32m     12\u001b[0m         \u001b[0mtitl\u001b[0m\u001b[0;34m=\u001b[0m\u001b[0mtitl\u001b[0m\u001b[0;34m.\u001b[0m\u001b[0mgroup\u001b[0m\u001b[0;34m(\u001b[0m\u001b[0;36m0\u001b[0m\u001b[0;34m)\u001b[0m\u001b[0;34m\u001b[0m\u001b[0;34m\u001b[0m\u001b[0m\n\u001b[1;32m     13\u001b[0m         \u001b[0mrno\u001b[0m\u001b[0;34m=\u001b[0m\u001b[0mre\u001b[0m\u001b[0;34m.\u001b[0m\u001b[0msearch\u001b[0m\u001b[0;34m(\u001b[0m\u001b[0;34m'(?<=<li>Run Number:)(.*?)(?=</li>)'\u001b[0m\u001b[0;34m,\u001b[0m\u001b[0mhtmlSource\u001b[0m\u001b[0;34m)\u001b[0m\u001b[0;34m\u001b[0m\u001b[0;34m\u001b[0m\u001b[0m\n",
            "\u001b[0;32m/usr/lib/python3.7/re.py\u001b[0m in \u001b[0;36msearch\u001b[0;34m(pattern, string, flags)\u001b[0m\n\u001b[1;32m    183\u001b[0m     \"\"\"Scan through string looking for a match to the pattern, returning\n\u001b[1;32m    184\u001b[0m     a Match object, or None if no match was found.\"\"\"\n\u001b[0;32m--> 185\u001b[0;31m     \u001b[0;32mreturn\u001b[0m \u001b[0m_compile\u001b[0m\u001b[0;34m(\u001b[0m\u001b[0mpattern\u001b[0m\u001b[0;34m,\u001b[0m \u001b[0mflags\u001b[0m\u001b[0;34m)\u001b[0m\u001b[0;34m.\u001b[0m\u001b[0msearch\u001b[0m\u001b[0;34m(\u001b[0m\u001b[0mstring\u001b[0m\u001b[0;34m)\u001b[0m\u001b[0;34m\u001b[0m\u001b[0;34m\u001b[0m\u001b[0m\n\u001b[0m\u001b[1;32m    186\u001b[0m \u001b[0;34m\u001b[0m\u001b[0m\n\u001b[1;32m    187\u001b[0m \u001b[0;32mdef\u001b[0m \u001b[0msub\u001b[0m\u001b[0;34m(\u001b[0m\u001b[0mpattern\u001b[0m\u001b[0;34m,\u001b[0m \u001b[0mrepl\u001b[0m\u001b[0;34m,\u001b[0m \u001b[0mstring\u001b[0m\u001b[0;34m,\u001b[0m \u001b[0mcount\u001b[0m\u001b[0;34m=\u001b[0m\u001b[0;36m0\u001b[0m\u001b[0;34m,\u001b[0m \u001b[0mflags\u001b[0m\u001b[0;34m=\u001b[0m\u001b[0;36m0\u001b[0m\u001b[0;34m)\u001b[0m\u001b[0;34m:\u001b[0m\u001b[0;34m\u001b[0m\u001b[0;34m\u001b[0m\u001b[0m\n",
            "\u001b[0;31mTypeError\u001b[0m: cannot use a string pattern on a bytes-like object"
          ]
        }
      ]
    },
    {
      "cell_type": "code",
      "metadata": {
        "id": "qtgj6Zo9r_6v",
        "colab": {
          "base_uri": "https://localhost:8080/"
        },
        "outputId": "dcd189a0-f6e2-42e7-acfa-fa3277877d1a"
      },
      "source": [
        "sock = urllib.request.urlopen(\"http://dataweb.isis.rl.ac.uk/SeciWeb/DefaultImplement.aspx?Instrument=inter\")\n",
        "htmlSource = sock.read().decode(\"utf-8\")\n",
        "sock.close()\n",
        "# print(htmlSource)\n",
        "titl=re.search('(?<=<li>Title:)(.*?)(?=</li>)',htmlSource)\n",
        "titl=titl.group(0)\n",
        "print(titl)"
      ],
      "execution_count": null,
      "outputs": [
        {
          "output_type": "stream",
          "text": [
            " Sapphire air lindet th=1.0\n"
          ],
          "name": "stdout"
        }
      ]
    }
  ]
}