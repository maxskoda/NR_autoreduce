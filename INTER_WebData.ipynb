{
  "nbformat": 4,
  "nbformat_minor": 0,
  "metadata": {
    "colab": {
      "name": "INTER_WebData.ipynb",
      "provenance": [],
      "collapsed_sections": [],
      "authorship_tag": "ABX9TyNU4wtzJRYjPDVB6uC8EAGl",
      "include_colab_link": true
    },
    "kernelspec": {
      "name": "python3",
      "display_name": "Python 3"
    },
    "widgets": {
      "application/vnd.jupyter.widget-state+json": {
        "0bc69e4a06f2443d8362d571753a3279": {
          "model_module": "@jupyter-widgets/controls",
          "model_name": "HBoxModel",
          "state": {
            "_view_name": "HBoxView",
            "_dom_classes": [],
            "_model_name": "HBoxModel",
            "_view_module": "@jupyter-widgets/controls",
            "_model_module_version": "1.5.0",
            "_view_count": null,
            "_view_module_version": "1.5.0",
            "box_style": "",
            "layout": "IPY_MODEL_ef2f2a1027d049c9a14c30da6ce6becb",
            "_model_module": "@jupyter-widgets/controls",
            "children": [
              "IPY_MODEL_2e8834fab08549d2abacf619d227c442",
              "IPY_MODEL_ab6b0f90c2e84be18bfb3a3ef06a5c7e"
            ]
          }
        },
        "ef2f2a1027d049c9a14c30da6ce6becb": {
          "model_module": "@jupyter-widgets/base",
          "model_name": "LayoutModel",
          "state": {
            "_view_name": "LayoutView",
            "grid_template_rows": null,
            "right": null,
            "justify_content": null,
            "_view_module": "@jupyter-widgets/base",
            "overflow": null,
            "_model_module_version": "1.2.0",
            "_view_count": null,
            "flex_flow": null,
            "width": null,
            "min_width": null,
            "border": null,
            "align_items": null,
            "bottom": null,
            "_model_module": "@jupyter-widgets/base",
            "top": null,
            "grid_column": null,
            "overflow_y": null,
            "overflow_x": null,
            "grid_auto_flow": null,
            "grid_area": null,
            "grid_template_columns": null,
            "flex": null,
            "_model_name": "LayoutModel",
            "justify_items": null,
            "grid_row": null,
            "max_height": null,
            "align_content": null,
            "visibility": null,
            "align_self": null,
            "height": null,
            "min_height": null,
            "padding": null,
            "grid_auto_rows": null,
            "grid_gap": null,
            "max_width": null,
            "order": null,
            "_view_module_version": "1.2.0",
            "grid_template_areas": null,
            "object_position": null,
            "object_fit": null,
            "grid_auto_columns": null,
            "margin": null,
            "display": null,
            "left": null
          }
        },
        "2e8834fab08549d2abacf619d227c442": {
          "model_module": "@jupyter-widgets/controls",
          "model_name": "SelectMultipleModel",
          "state": {
            "_options_labels": [
              "IvsQ_61458_61459.txt",
              "IvsQ_61460_61461.txt",
              "IvsQ_61431_61432.txt",
              "IvsQ_61474_61475.txt",
              "IvsQ_61480_61481.txt",
              "IvsQ_61478_61479.txt",
              "IvsQ_61472_61473.txt",
              "IvsQ_61476_61477.txt",
              "IvsQ_61470_61471.txt",
              "IvsQ_61482_61483.txt",
              "IvsQ_61484_61485.txt",
              "IvsQ_61496_61497.txt",
              "IvsQ_61492_61493.txt",
              "IvsQ_61488_61489.txt",
              "IvsQ_61494_61495.txt",
              "IvsQ_61490_61491.txt",
              "IvsQ_61498_61499.txt",
              "IvsQ_61466_61467.txt",
              "IvsQ_61482+61498_61483+61499.txt",
              "IvsQ_61042+61044_61045.txt",
              "IvsQ_61040+61048_61041.txt",
              "IvsQ_61480+61496_61481+61497.txt",
              "IvsQ_61476+61492_61477+61493.txt",
              "IvsQ_61478+61494_61479+61495.txt",
              "IvsQ_61472+61488_61473+61489.txt",
              "IvsQ_61464+61468_61465+61469.txt",
              "IvsQ_61474+61490_61475+61491.txt",
              "IvsQ_61040+61048_61041+61049.txt",
              "IvsQ_61464+61468_61465.txt",
              "IvsQ_61525_61526.txt",
              "IvsQ_61517_61518.txt",
              "IvsQ_61529_61530.txt",
              "IvsQ_61531_61532.txt",
              "IvsQ_61537_61538.txt",
              "IvsQ_61515_61516.txt",
              "IvsQ_61533_61534.txt",
              "IvsQ_61519_61520.txt",
              "IvsQ_61541_61542.txt",
              "IvsQ_61521_61522.txt",
              "IvsQ_61539_61540.txt",
              "IvsQ_61527_61528.txt",
              "IvsQ_61535_61536.txt",
              "IvsQ_61523_61524.txt",
              "IvsQ_61515p61529_61516p61530.txt",
              "IvsQ_61523p61537_61524p61538.txt",
              "IvsQ_61517p61531_61518p61532.txt",
              "IvsQ_61521p61535_61522p61536.txt",
              "IvsQ_61519p61533_61520p61534.txt",
              "IvsQ_61525p61539_61526p61540.txt",
              "IvsQ_61527p61541_61528p61542.txt"
            ],
            "_view_name": "SelectMultipleView",
            "style": "IPY_MODEL_fde91e4efe224c71bf2f8de4ca14b4e5",
            "rows": 29,
            "_dom_classes": [],
            "description": "Workspaces",
            "_model_name": "SelectMultipleModel",
            "index": [],
            "_view_module": "@jupyter-widgets/controls",
            "_model_module_version": "1.5.0",
            "_view_count": null,
            "disabled": false,
            "_view_module_version": "1.5.0",
            "description_tooltip": null,
            "_model_module": "@jupyter-widgets/controls",
            "layout": "IPY_MODEL_307c141f28f64d3199c0da14711324c1"
          }
        },
        "ab6b0f90c2e84be18bfb3a3ef06a5c7e": {
          "model_module": "@jupyter-widgets/output",
          "model_name": "OutputModel",
          "state": {
            "_view_name": "OutputView",
            "msg_id": "",
            "_dom_classes": [],
            "_model_name": "OutputModel",
            "outputs": [],
            "_view_module": "@jupyter-widgets/output",
            "_model_module_version": "1.0.0",
            "_view_count": null,
            "_view_module_version": "1.0.0",
            "layout": "IPY_MODEL_732a1af7b3ae458496d2ed1402b7e339",
            "_model_module": "@jupyter-widgets/output"
          }
        },
        "fde91e4efe224c71bf2f8de4ca14b4e5": {
          "model_module": "@jupyter-widgets/controls",
          "model_name": "DescriptionStyleModel",
          "state": {
            "_view_name": "StyleView",
            "_model_name": "DescriptionStyleModel",
            "description_width": "",
            "_view_module": "@jupyter-widgets/base",
            "_model_module_version": "1.5.0",
            "_view_count": null,
            "_view_module_version": "1.2.0",
            "_model_module": "@jupyter-widgets/controls"
          }
        },
        "307c141f28f64d3199c0da14711324c1": {
          "model_module": "@jupyter-widgets/base",
          "model_name": "LayoutModel",
          "state": {
            "_view_name": "LayoutView",
            "grid_template_rows": null,
            "right": null,
            "justify_content": null,
            "_view_module": "@jupyter-widgets/base",
            "overflow": null,
            "_model_module_version": "1.2.0",
            "_view_count": null,
            "flex_flow": null,
            "width": null,
            "min_width": null,
            "border": null,
            "align_items": null,
            "bottom": null,
            "_model_module": "@jupyter-widgets/base",
            "top": null,
            "grid_column": null,
            "overflow_y": null,
            "overflow_x": null,
            "grid_auto_flow": null,
            "grid_area": null,
            "grid_template_columns": null,
            "flex": null,
            "_model_name": "LayoutModel",
            "justify_items": null,
            "grid_row": null,
            "max_height": null,
            "align_content": null,
            "visibility": null,
            "align_self": null,
            "height": null,
            "min_height": null,
            "padding": null,
            "grid_auto_rows": null,
            "grid_gap": null,
            "max_width": null,
            "order": null,
            "_view_module_version": "1.2.0",
            "grid_template_areas": null,
            "object_position": null,
            "object_fit": null,
            "grid_auto_columns": null,
            "margin": null,
            "display": null,
            "left": null
          }
        },
        "732a1af7b3ae458496d2ed1402b7e339": {
          "model_module": "@jupyter-widgets/base",
          "model_name": "LayoutModel",
          "state": {
            "_view_name": "LayoutView",
            "grid_template_rows": null,
            "right": null,
            "justify_content": null,
            "_view_module": "@jupyter-widgets/base",
            "overflow": null,
            "_model_module_version": "1.2.0",
            "_view_count": null,
            "flex_flow": null,
            "width": null,
            "min_width": null,
            "border": null,
            "align_items": null,
            "bottom": null,
            "_model_module": "@jupyter-widgets/base",
            "top": null,
            "grid_column": null,
            "overflow_y": null,
            "overflow_x": null,
            "grid_auto_flow": null,
            "grid_area": null,
            "grid_template_columns": null,
            "flex": null,
            "_model_name": "LayoutModel",
            "justify_items": null,
            "grid_row": null,
            "max_height": null,
            "align_content": null,
            "visibility": null,
            "align_self": null,
            "height": null,
            "min_height": null,
            "padding": null,
            "grid_auto_rows": null,
            "grid_gap": null,
            "max_width": null,
            "order": null,
            "_view_module_version": "1.2.0",
            "grid_template_areas": null,
            "object_position": null,
            "object_fit": null,
            "grid_auto_columns": null,
            "margin": null,
            "display": null,
            "left": null
          }
        }
      }
    }
  },
  "cells": [
    {
      "cell_type": "markdown",
      "metadata": {
        "id": "view-in-github",
        "colab_type": "text"
      },
      "source": [
        "<a href=\"https://colab.research.google.com/github/maxskoda/NR_autoreduce/blob/master/INTER_WebData.ipynb\" target=\"_parent\"><img src=\"https://colab.research.google.com/assets/colab-badge.svg\" alt=\"Open In Colab\"/></a>"
      ]
    },
    {
      "cell_type": "code",
      "metadata": {
        "id": "cvTb74JI098K",
        "colab": {
          "base_uri": "https://localhost:8080/"
        },
        "outputId": "39ffc968-ef95-41cd-f433-de47fe1ec8f4"
      },
      "source": [
        "from google.colab import drive\n",
        "drive.mount('/content/drive')\n",
        "# drive.flush_and_unmount()"
      ],
      "execution_count": 2,
      "outputs": [
        {
          "output_type": "stream",
          "text": [
            "Mounted at /content/drive\n"
          ],
          "name": "stdout"
        }
      ]
    },
    {
      "cell_type": "code",
      "metadata": {
        "id": "RWraT0Bw3gWj"
      },
      "source": [
        "import ipywidgets as widgets\n",
        "import glob\n",
        "import os\n",
        "from ipywidgets import Layout\n",
        "# import chart_studio.plotly as py\n",
        "\n",
        "import matplotlib.pyplot as plt\n",
        "import numpy as np\n",
        "from plotly.offline import iplot\n",
        "import plotly.graph_objs as go\n",
        "import plotly.io as pio\n",
        "pio.renderers.default = \"colab\""
      ],
      "execution_count": 3,
      "outputs": []
    },
    {
      "cell_type": "code",
      "metadata": {
        "colab": {
          "base_uri": "https://localhost:8080/",
          "height": 509,
          "referenced_widgets": [
            "0bc69e4a06f2443d8362d571753a3279",
            "ef2f2a1027d049c9a14c30da6ce6becb",
            "2e8834fab08549d2abacf619d227c442",
            "ab6b0f90c2e84be18bfb3a3ef06a5c7e",
            "fde91e4efe224c71bf2f8de4ca14b4e5",
            "307c141f28f64d3199c0da14711324c1",
            "732a1af7b3ae458496d2ed1402b7e339"
          ]
        },
        "id": "zpsKuPd1hftW",
        "outputId": "447a67ea-a375-47a9-9acf-4c731ac9e65f"
      },
      "source": [
        "def nr_plot(file_list):\n",
        "    choices = file_list['new']\n",
        "    output.clear_output(wait=True)\n",
        "    fig.data = [] # remove all traces\n",
        "    with output:\n",
        "        for f in choices:\n",
        "          X, Y, E = [], [], []\n",
        "          for line in open(\"NR_autoreduce/ASCII_Files/\"+f, 'r'):\n",
        "            values = [float(s) for s in line.split()]\n",
        "            X.append(values[0])\n",
        "            Y.append(values[1])\n",
        "            E.append(values[2])\n",
        "\n",
        "          fig.add_trace(\n",
        "                      go.Scatter(x=X,\n",
        "                  y=Y,\n",
        "                  error_y=dict(\n",
        "                      type='data', # value of error bar given in data coordinates\n",
        "                      array=E,\n",
        "                      visible=True),\n",
        "                  name=f)\n",
        "                  )\n",
        "        fig.update_xaxes(type=\"log\")\n",
        "        fig.update_yaxes(type=\"log\")\n",
        "        fig.show()\n",
        "\n",
        "\n",
        "ff = [os.path.basename(x) for x in glob.glob(\"NR_autoreduce/ASCII_Files/*.txt\")]\n",
        "\n",
        "selector = widgets.SelectMultiple(\n",
        "options=ff,\n",
        "# value=[opts[1]],\n",
        "rows=29,\n",
        "description='Workspaces',\n",
        "disabled=False,\n",
        "layout=Layout(valign='bottom')\n",
        ")\n",
        "\n",
        "fig = go.Figure()\n",
        "fig.update_layout(\n",
        "    yaxis = {'exponentformat':'power'},\n",
        "    margin=dict(l=100, r=20, t=20, b=20),\n",
        "    modebar= {'orientation': 'v'},\n",
        "    width=1000, height=500)#, 'ticks':'inside'})\n",
        "\n",
        "output = widgets.Output()\n",
        "\n",
        "items = [selector, output]\n",
        "box_layout = Layout(display='flex', flex_flow='row', \n",
        "                    justify_content='space-between', align_items='stretch',\n",
        "                    align_content='flex-end')\n",
        "\n",
        "display(widgets.HBox(items, leyout=box_layout))\n",
        "# display(selector)\n",
        "# display(output)\n",
        "\n",
        "\n",
        "selector.observe(nr_plot, names='value')"
      ],
      "execution_count": 9,
      "outputs": [
        {
          "output_type": "display_data",
          "data": {
            "application/vnd.jupyter.widget-view+json": {
              "model_id": "0bc69e4a06f2443d8362d571753a3279",
              "version_minor": 0,
              "version_major": 2
            },
            "text/plain": [
              "HBox(children=(SelectMultiple(description='Workspaces', options=('IvsQ_61458_61459.txt', 'IvsQ_61460_61461.txt…"
            ]
          },
          "metadata": {
            "tags": []
          }
        }
      ]
    }
  ]
}
