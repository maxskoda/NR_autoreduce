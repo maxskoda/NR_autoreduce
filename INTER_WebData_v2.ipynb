{
  "nbformat": 4,
  "nbformat_minor": 0,
  "metadata": {
    "colab": {
      "name": "INTER_WebData.ipynb",
      "provenance": [],
      "collapsed_sections": [],
      "authorship_tag": "ABX9TyO83LmDOat7wW6nRw0gLn7B",
      "include_colab_link": true
    },
    "kernelspec": {
      "name": "python3",
      "display_name": "Python 3"
    },
    "widgets": {
      "application/vnd.jupyter.widget-state+json": {
        "4ac1e1877c144e8ab4785da4210db414": {
          "model_module": "@jupyter-widgets/controls",
          "model_name": "HBoxModel",
          "state": {
            "_view_name": "HBoxView",
            "_dom_classes": [],
            "_model_name": "HBoxModel",
            "_view_module": "@jupyter-widgets/controls",
            "_model_module_version": "1.5.0",
            "_view_count": null,
            "_view_module_version": "1.5.0",
            "box_style": "",
            "layout": "IPY_MODEL_1d88ee0bdebc4097b96ec18e0b914862",
            "_model_module": "@jupyter-widgets/controls",
            "children": [
              "IPY_MODEL_88f5d67dac4a41f28fda2b208b70813e",
              "IPY_MODEL_b8f5e3ec15504aabac169a9d29c92220"
            ]
          }
        },
        "1d88ee0bdebc4097b96ec18e0b914862": {
          "model_module": "@jupyter-widgets/base",
          "model_name": "LayoutModel",
          "state": {
            "_view_name": "LayoutView",
            "grid_template_rows": null,
            "right": null,
            "justify_content": null,
            "_view_module": "@jupyter-widgets/base",
            "overflow": null,
            "_model_module_version": "1.2.0",
            "_view_count": null,
            "flex_flow": null,
            "width": null,
            "min_width": null,
            "border": null,
            "align_items": null,
            "bottom": null,
            "_model_module": "@jupyter-widgets/base",
            "top": null,
            "grid_column": null,
            "overflow_y": null,
            "overflow_x": null,
            "grid_auto_flow": null,
            "grid_area": null,
            "grid_template_columns": null,
            "flex": null,
            "_model_name": "LayoutModel",
            "justify_items": null,
            "grid_row": null,
            "max_height": null,
            "align_content": null,
            "visibility": null,
            "align_self": null,
            "height": null,
            "min_height": null,
            "padding": null,
            "grid_auto_rows": null,
            "grid_gap": null,
            "max_width": null,
            "order": null,
            "_view_module_version": "1.2.0",
            "grid_template_areas": null,
            "object_position": null,
            "object_fit": null,
            "grid_auto_columns": null,
            "margin": null,
            "display": null,
            "left": null
          }
        },
        "88f5d67dac4a41f28fda2b208b70813e": {
          "model_module": "@jupyter-widgets/controls",
          "model_name": "SelectMultipleModel",
          "state": {
            "_options_labels": [
              "IvsQ_61541_61542.txt",
              "IvsQ_61539_61540.txt",
              "IvsQ_61537_61538.txt",
              "IvsQ_61535_61536.txt",
              "IvsQ_61533_61534.txt",
              "IvsQ_61531_61532.txt",
              "IvsQ_61529_61530.txt",
              "IvsQ_61527p61541_61528p61542.txt",
              "IvsQ_61527_61528.txt",
              "IvsQ_61525p61539_61526p61540.txt",
              "IvsQ_61525_61526.txt",
              "IvsQ_61523p61537_61524p61538.txt",
              "IvsQ_61523_61524.txt",
              "IvsQ_61521p61535_61522p61536.txt",
              "IvsQ_61521_61522.txt",
              "IvsQ_61519p61533_61520p61534.txt",
              "IvsQ_61519_61520.txt",
              "IvsQ_61517p61531_61518p61532.txt",
              "IvsQ_61517_61518.txt",
              "IvsQ_61515p61529_61516p61530.txt",
              "IvsQ_61515_61516.txt",
              "IvsQ_61498_61499.txt",
              "IvsQ_61496_61497.txt",
              "IvsQ_61494_61495.txt",
              "IvsQ_61492_61493.txt",
              "IvsQ_61490_61491.txt",
              "IvsQ_61488_61489.txt",
              "IvsQ_61484_61485.txt",
              "IvsQ_61482_61483.txt",
              "IvsQ_61482+61498_61483+61499.txt",
              "IvsQ_61480_61481.txt",
              "IvsQ_61480+61496_61481+61497.txt",
              "IvsQ_61478_61479.txt",
              "IvsQ_61478+61494_61479+61495.txt",
              "IvsQ_61476_61477.txt",
              "IvsQ_61476+61492_61477+61493.txt",
              "IvsQ_61474_61475.txt",
              "IvsQ_61474+61490_61475+61491.txt",
              "IvsQ_61472_61473.txt",
              "IvsQ_61472+61488_61473+61489.txt",
              "IvsQ_61470_61471.txt",
              "IvsQ_61466_61467.txt",
              "IvsQ_61464+61468_61465.txt",
              "IvsQ_61464+61468_61465+61469.txt",
              "IvsQ_61460_61461.txt",
              "IvsQ_61458_61459.txt",
              "IvsQ_61431_61432.txt",
              "IvsQ_61042+61044_61045.txt",
              "IvsQ_61040+61048_61041.txt",
              "IvsQ_61040+61048_61041+61049.txt"
            ],
            "_view_name": "SelectMultipleView",
            "style": "IPY_MODEL_566b2174c4b84cd0827e7a8361d17125",
            "rows": 29,
            "_dom_classes": [],
            "description": "Workspaces",
            "_model_name": "SelectMultipleModel",
            "index": [
              4,
              5,
              6
            ],
            "_view_module": "@jupyter-widgets/controls",
            "_model_module_version": "1.5.0",
            "_view_count": null,
            "disabled": false,
            "_view_module_version": "1.5.0",
            "description_tooltip": null,
            "_model_module": "@jupyter-widgets/controls",
            "layout": "IPY_MODEL_91d14667409a4d1aa11fd065f720cb39"
          }
        },
        "b8f5e3ec15504aabac169a9d29c92220": {
          "model_module": "@jupyter-widgets/output",
          "model_name": "OutputModel",
          "state": {
            "_view_name": "OutputView",
            "msg_id": "",
            "_dom_classes": [],
            "_model_name": "OutputModel",
            "outputs": [
              {
                "output_type": "display_data",
                "metadata": {
                  "tags": []
                },
                "text/html": "<html>\n<head><meta charset=\"utf-8\" /></head>\n<body>\n    <div>\n            <script src=\"https://cdnjs.cloudflare.com/ajax/libs/mathjax/2.7.5/MathJax.js?config=TeX-AMS-MML_SVG\"></script><script type=\"text/javascript\">if (window.MathJax) {MathJax.Hub.Config({SVG: {font: \"STIX-Web\"}});}</script>\n                <script type=\"text/javascript\">window.PlotlyConfig = {MathJaxConfig: 'local'};</script>\n        <script src=\"https://cdn.plot.ly/plotly-latest.min.js\"></script>    \n            <div id=\"0a25099c-34c6-48a3-8196-dc7f4139f8c7\" class=\"plotly-graph-div\" style=\"height:500px; width:1000px;\"></div>\n            <script type=\"text/javascript\">\n                \n                    window.PLOTLYENV=window.PLOTLYENV || {};\n                    \n                if (document.getElementById(\"0a25099c-34c6-48a3-8196-dc7f4139f8c7\")) {\n                    Plotly.newPlot(\n                        '0a25099c-34c6-48a3-8196-dc7f4139f8c7',\n                        [{\"error_y\": {\"array\": [0.007984591568035163, 0.006843765493031219, 0.00586248647588532, 0.005103151349032662, 0.004473998275143167, 0.003959444938741486, 0.003516424305908981, 0.003130573168969089, 0.002822718813355954, 0.002425602973630051, 0.004936732692307725, 0.002142500212440824, 0.001224817968725002, 0.0007683582933921361, 0.0005302505760994967, 0.0003814215064243195, 0.0002719611389761023, 0.0002035801268637634, 0.0001589209831931061, 0.0001218920688147555, 9.556389682575912e-05, 6.407661633965949e-05, 5.006479647830456e-05, 3.985925606213176e-05, 3.2384496647517e-05, 2.632331073232231e-05, 2.161896485476118e-05, 1.794009328756221e-05, 1.447038228070765e-05, 1.170527017755875e-05, 1.015752656366593e-05, 8.30295130979808e-06, 6.64464795046016e-06, 5.42839421131464e-06, 4.339296870937654e-06, 3.518614040711984e-06, 2.821670095406844e-06, 2.393426973899023e-06, 1.877290520320102e-06, 1.513814761805347e-06, 1.154973779199869e-06, 9.343535089010342e-07, 7.516031572509903e-07, 6.129286156797883e-07, 5.25827490821388e-07, 4.554581390236156e-07, 3.843899348863598e-07, 3.668432013977384e-07, 3.177354449752143e-07, 3.033573135061503e-07, 2.844208205714207e-07, 2.77757488253052e-07, 2.766323377406432e-07, 2.719365415451568e-07, 2.61111570228139e-07, 2.582674571058935e-07, 2.821698734590236e-07, 2.966128678733516e-07, 3.349734275938202e-07, 3.646392027204273e-07, 3.906943023400268e-07, 3.988616516018807e-07, 4.284827478175862e-07, 4.368944000172872e-07, 4.84697953780982e-07, 4.602057448706991e-07], \"type\": \"data\", \"visible\": true}, \"name\": \"IvsQ_61533_61534.txt\", \"type\": \"scatter\", \"x\": [0.01060221630602687, 0.01117650655667543, 0.01178190438733087, 0.01242009480227942, 0.01309285407743449, 0.01380205470424688, 0.01454967060141183, 0.0153377826088785, 0.01616858427945362, 0.01704438798411879, 0.01796763134805455, 0.01894088403528462, 0.01996685490082388, 0.02104839953023681, 0.02218852818759114, 0.02339041419392839, 0.02465740275957091, 0.02599302029484859, 0.02740098422515965, 0.02888521333768387, 0.0304498386885462, 0.03209921510078868, 0.0338379332851531, 0.03567083261740998, 0.03760301460779723, 0.03963985710005778, 0.04178702923959661, 0.04405050725241784, 0.04643659107875956, 0.04895192190772273, 0.05160350066169835, 0.05439870748204056, 0.05734532227022025, 0.06045154634163127, 0.06372602525231842, 0.06717787286216076, 0.07081669670148541, 0.07465262471171477, 0.07869633343447421, 0.08295907772761937, 0.08745272209089133, 0.09218977368838865, 0.0971834171597676, 0.1024475513170607, 0.107996827829252, 0.113846692002279, 0.1200134257679665, 0.1265141930015399, 0.1333670872938544, 0.1405911823113006, 0.1482065848835568, 0.1562344909669444, 0.1646972446391509, 0.1736184002895197, 0.1830227881780022, 0.19293658354524, 0.203387379466135, 0.2144042636496772, 0.2260178993987892, 0.2382606109555234, 0.2511664734691513, 0.2647714078375548, 0.2791132806858916, 0.2942320097608043, 0.3101696750335178, 0.3270054456273042], \"y\": [1.039527765049739, 1.045743839085969, 1.038543760582284, 1.035010752413096, 1.035091719844307, 1.035415352439736, 1.030214876339443, 1.021535251048137, 1.020685815080799, 0.9225186884328493, 0.5073181455898247, 0.22282690943681, 0.1310769538336844, 0.08422885485911777, 0.05807675124583932, 0.04153136837746611, 0.02946389250806888, 0.02182687107010309, 0.01662052725855178, 0.01254435549879428, 0.009459095841817053, 0.007172043217046951, 0.005435334938988875, 0.00420501072300269, 0.003263902438692821, 0.002525637558345584, 0.001948138911783423, 0.001538505817948856, 0.001182587080647811, 0.0009073445257179871, 0.0007054035784086429, 0.000547315982063729, 0.0004176262031137539, 0.0003219695898283694, 0.0002420372848010381, 0.0001850486628024586, 0.0001379816185687962, 0.0001032649937227853, 7.770461775475589e-05, 6.067423302694733e-05, 4.309485686030601e-05, 3.320749628217845e-05, 2.531904959208863e-05, 1.939599370311019e-05, 1.572323399169427e-05, 1.2763449652238e-05, 9.523315989753295e-06, 8.869231394598507e-06, 7.214683928903058e-06, 7.160096193535912e-06, 6.666120120722042e-06, 6.723300737208925e-06, 6.929431666038149e-06, 6.783990043674543e-06, 6.257907580767296e-06, 6.016400737576559e-06, 6.512201742450228e-06, 5.997608474087118e-06, 6.209275989554823e-06, 5.979144855890019e-06, 5.762210039121925e-06, 4.980727096256488e-06, 4.925406161735173e-06, 4.559778351138939e-06, 4.855041216668833e-06, 3.913207611066134e-06]}, {\"error_y\": {\"array\": [0.0002173286527755673, 0.0001758297311603548, 0.0001325080494420273, 0.0001101754820220397, 9.806299065973432e-05, 7.892380896012206e-05, 6.921302526252745e-05, 5.823135616583909e-05, 5.280044788744831e-05, 4.425563025379661e-05, 3.879265661744322e-05, 3.280394218848721e-05, 2.854291279978045e-05, 2.453653173139049e-05, 2.165547946779586e-05, 1.897653097065412e-05, 1.601081704741378e-05, 1.409020303831013e-05, 1.245818312694719e-05, 1.068532931913941e-05, 8.662780216321605e-06, 7.72424954978381e-06, 6.646635321975833e-06, 5.760888394252713e-06, 5.25246154007111e-06, 4.633040812298414e-06, 4.311641664255112e-06, 3.848974650496001e-06, 3.46252991602136e-06, 3.11391436592276e-06, 2.861366739944973e-06, 2.566531415840475e-06, 2.347021670973907e-06, 2.166796868858881e-06, 1.950019298191309e-06, 1.752959513594476e-06, 1.645214073528197e-06, 1.847241029721291e-06, 1.630475116318957e-06, 1.383100072098231e-06, 1.20709620262554e-06, 1.096013079715156e-06, 9.99722637677524e-07, 8.916011498339109e-07, 8.056281829310811e-07, 7.419105630386939e-07, 7.020213518194161e-07, 6.697078989009172e-07, 5.870060770656406e-07, 5.598171047229903e-07, 5.250920044871562e-07, 4.9364001169065e-07, 4.548114999996871e-07, 4.39476798191291e-07, 4.400812687177884e-07, 4.186716483684982e-07, 4.571286289733988e-07, 4.527999256831794e-07, 5.01417413866957e-07, 5.332473077790759e-07, 5.557141620982792e-07, 5.775962369468376e-07, 6.382874971220154e-07, 6.7334831661321e-07, 6.926897216189045e-07, 6.74633786023402e-07], \"type\": \"data\", \"visible\": true}, \"name\": \"IvsQ_61531_61532.txt\", \"type\": \"scatter\", \"x\": [0.01060241243624395, 0.01117711620235056, 0.01178297178609897, 0.01242166777176446, 0.01309498427333295, 0.01380479789586897, 0.01455308696581454, 0.01534193704479652, 0.01617354674230972, 0.01705023384347661, 0.01797444176896226, 0.01894874638504886, 0.01997586318285044, 0.02105865484667685, 0.02220013923264097, 0.02340349777974627, 0.02467208437689742, 0.02600943471054714, 0.02741927611903235, 0.0289055379810645, 0.03047236266732809, 0.03212411708571061, 0.03386540485234156, 0.03570107912236273, 0.0376362561161904, 0.03967632937896851, 0.04182698481295549, 0.04409421652474174, 0.04648434353146537, 0.04900402737258845, 0.05166029067631961, 0.05446053673242952, 0.05741257012601086, 0.06052461848969128, 0.06380535543492499, 0.0672639247262751, 0.07090996576606284, 0.07475364046041227, 0.07880566154156893, 0.08307732242542966, 0.08758052868750008, 0.09232783124500601, 0.09733246133764156, 0.1026083674044484, 0.1081702539596065, 0.114033622575487, 0.1202148150871913, 0.1267310591389925, 0.1336005161996216, 0.1408423321802221, 0.148476690796051, 0.1565248698206509, 0.1650093003892793, 0.1739536295168802, 0.1833827860048427, 0.1933230499202352, 0.2038021258411616, 0.2148492200723817, 0.2264951220464052, 0.2387722901369305, 0.2517149421238029, 0.2653591505616236, 0.2797429433178164, 0.2949064095603586, 0.3108918114905779, 0.3273788346937306], \"y\": [0.002751363054890562, 0.002450370669828861, 0.001896924014047551, 0.001716850576347334, 0.001766677667884926, 0.001458438468008709, 0.001421549666964891, 0.001249572564447417, 0.001272938823813928, 0.00107765798448203, 0.0009633875204028636, 0.0008370687494607554, 0.0007481145400069264, 0.0006732959942907188, 0.0006088258637757515, 0.0005487206015658829, 0.0004787828782115613, 0.00044145218001548, 0.0004048434673974131, 0.0003584952090358188, 0.000311138487488679, 0.0002951590159363413, 0.0002580721625907107, 0.0002251989993786684, 0.0002089265430189072, 0.0001805096882284681, 0.0001677053309001158, 0.0001443086548031463, 0.0001308869928965573, 0.000116828050399673, 0.0001078980593818424, 9.561184953581237e-05, 8.736180775344282e-05, 8.031387017444249e-05, 7.059444524529779e-05, 6.147868752865572e-05, 5.697395123812956e-05, 5.282959455631864e-05, 4.838969304846354e-05, 4.134506544929563e-05, 3.709559720124392e-05, 3.482595665094687e-05, 3.289392577442701e-05, 2.965132121873516e-05, 2.662541412715903e-05, 2.439716669514415e-05, 2.283651675218091e-05, 2.148855086827479e-05, 1.827111345369119e-05, 1.781468841530614e-05, 1.665219099002528e-05, 1.561562214259304e-05, 1.404752099212624e-05, 1.338875220865176e-05, 1.340749266135087e-05, 1.224200083007397e-05, 1.320657646415818e-05, 1.147336066092442e-05, 1.170712711691075e-05, 1.112429548515816e-05, 1.032416861978555e-05, 9.555935935191776e-06, 9.993405161586985e-06, 9.864851112443389e-06, 9.322908751357056e-06, 7.578043483790058e-06]}, {\"error_y\": {\"array\": [9.547866169922179e-05, 7.635733035164696e-05, 6.708654272775606e-05, 5.413247544828541e-05, 4.529099511324667e-05, 3.350553139357627e-05, 2.788683999896595e-05, 2.389050330920692e-05, 2.154389065511061e-05, 1.736166772914838e-05, 1.607126561005878e-05, 1.284995058956851e-05, 1.106466711822863e-05, 9.567982397788793e-06, 9.264251226111098e-06, 7.388744477935727e-06, 6.88839641337282e-06, 5.868921045351347e-06, 5.313041822968859e-06, 4.575608919632996e-06, 3.686698297998716e-06, 3.240134399339313e-06, 2.808753742056719e-06, 2.254892073728541e-06, 2.137337685598717e-06, 2.043667115326049e-06, 1.907473152545375e-06, 1.759968112405991e-06, 1.562953027355485e-06, 1.360341107588482e-06, 1.271532651086292e-06, 1.25031123414353e-06, 1.052811666110918e-06, 1.033675473659208e-06, 9.37527790743662e-07, 8.632553217058991e-07, 8.456936675532701e-07, 9.308567233001834e-07, 8.790034649475913e-07, 7.835746210008296e-07, 6.807793588476866e-07, 6.660303233502952e-07, 6.11346418265968e-07, 5.853154204582091e-07, 5.652447294005481e-07, 5.357683644216459e-07, 5.234518736076036e-07, 5.031051426651198e-07, 4.927408943712788e-07, 4.601208037191963e-07, 4.49918597863071e-07, 4.269486376671826e-07, 4.191943364377572e-07, 4.436629174113466e-07, 4.229678005609717e-07, 4.192438099988545e-07, 4.108079316139231e-07, 4.132921195103477e-07, 4.687656892792464e-07, 4.725047353161482e-07, 4.922298790385992e-07, 5.246173000527551e-07, 5.484038335941692e-07, 5.802701636518105e-07, 5.76410628531996e-07, 5.615625935570524e-07], \"type\": \"data\", \"visible\": true}, \"name\": \"IvsQ_61529_61530.txt\", \"type\": \"scatter\", \"x\": [0.01060241243624395, 0.01117711620235056, 0.01178297178609897, 0.01242166777176446, 0.01309498427333295, 0.01380479789586897, 0.01455308696581454, 0.01534193704479652, 0.01617354674230972, 0.01705023384347661, 0.01797444176896226, 0.01894874638504886, 0.01997586318285044, 0.02105865484667685, 0.02220013923264097, 0.02340349777974627, 0.02467208437689742, 0.02600943471054714, 0.02741927611903235, 0.0289055379810645, 0.03047236266732809, 0.03212411708571061, 0.03386540485234156, 0.03570107912236273, 0.0376362561161904, 0.03967632937896851, 0.04182698481295549, 0.04409421652474174, 0.04648434353146537, 0.04900402737258845, 0.05166029067631961, 0.05446053673242952, 0.05741257012601086, 0.06052461848969128, 0.06380535543492499, 0.0672639247262751, 0.07090996576606284, 0.07475364046041227, 0.07880566154156893, 0.08307732242542966, 0.08758052868750008, 0.09232783124500601, 0.09733246133764156, 0.1026083674044484, 0.1081702539596065, 0.114033622575487, 0.1202148150871913, 0.1267310591389925, 0.1336005161996216, 0.1408423321802221, 0.148476690796051, 0.1565248698206509, 0.1650093003892793, 0.1739536295168802, 0.1833827860048427, 0.1933230499202352, 0.2038021258411616, 0.2148492200723817, 0.2264951220464052, 0.2387722901369305, 0.2517149421238029, 0.2653591505616236, 0.2797429433178164, 0.2949064095603586, 0.3108918114905779, 0.3273788346937306], \"y\": [0.0005283500476092429, 0.0004626451303150505, 0.0004825067897654595, 0.0004146655285661268, 0.000375338736383569, 0.000263379842495744, 0.000226890178353448, 0.0002126396843704896, 0.0002104859790026057, 0.0001659378567733371, 0.0001712366105673598, 0.000134368568083842, 0.0001167916557487167, 0.0001038637885234698, 0.0001166230636458911, 8.534925316164917e-05, 9.034026830013019e-05, 7.790229802461852e-05, 7.41701698262219e-05, 6.655861433526854e-05, 5.878969019086029e-05, 5.403629879168239e-05, 4.840707630798853e-05, 3.631539041025003e-05, 3.667556853263643e-05, 3.72048416276813e-05, 3.527270589566418e-05, 3.246761762064276e-05, 2.905411744221903e-05, 2.471503611905983e-05, 2.361325619349517e-05, 2.476716834728303e-05, 1.968731706568286e-05, 2.034623628373293e-05, 1.824528065319963e-05, 1.675198970087902e-05, 1.669112627018812e-05, 1.564243368824009e-05, 1.58309670214849e-05, 1.448529923612696e-05, 1.286353746903429e-05, 1.332330339802146e-05, 1.257931044888764e-05, 1.246759153175577e-05, 1.229022663489243e-05, 1.171682299696434e-05, 1.149604513376208e-05, 1.098446459435279e-05, 1.096942675233917e-05, 1.030418123776883e-05, 1.018982625215918e-05, 9.68360861892303e-06, 9.573245474958024e-06, 1.034090213789558e-05, 9.716912169208592e-06, 9.549602210869418e-06, 8.969136890912083e-06, 8.414697925133996e-06, 9.216793365897068e-06, 8.431033530069183e-06, 8.136398909991748e-06, 8.112332392552603e-06, 7.926230154304965e-06, 7.960685664885389e-06, 7.176496489822375e-06, 6.077669265444122e-06]}],\n                        {\"height\": 500, \"margin\": {\"b\": 20, \"l\": 100, \"r\": 20, \"t\": 20}, \"modebar\": {\"orientation\": \"v\"}, \"template\": {\"data\": {\"bar\": [{\"error_x\": {\"color\": \"#2a3f5f\"}, \"error_y\": {\"color\": \"#2a3f5f\"}, \"marker\": {\"line\": {\"color\": \"#E5ECF6\", \"width\": 0.5}}, \"type\": \"bar\"}], \"barpolar\": [{\"marker\": {\"line\": {\"color\": \"#E5ECF6\", \"width\": 0.5}}, \"type\": \"barpolar\"}], \"carpet\": [{\"aaxis\": {\"endlinecolor\": \"#2a3f5f\", \"gridcolor\": \"white\", \"linecolor\": \"white\", \"minorgridcolor\": \"white\", \"startlinecolor\": \"#2a3f5f\"}, \"baxis\": {\"endlinecolor\": \"#2a3f5f\", \"gridcolor\": \"white\", \"linecolor\": \"white\", \"minorgridcolor\": \"white\", \"startlinecolor\": \"#2a3f5f\"}, \"type\": \"carpet\"}], \"choropleth\": [{\"colorbar\": {\"outlinewidth\": 0, \"ticks\": \"\"}, \"type\": \"choropleth\"}], \"contour\": [{\"colorbar\": {\"outlinewidth\": 0, \"ticks\": \"\"}, \"colorscale\": [[0.0, \"#0d0887\"], [0.1111111111111111, \"#46039f\"], [0.2222222222222222, \"#7201a8\"], [0.3333333333333333, \"#9c179e\"], [0.4444444444444444, \"#bd3786\"], [0.5555555555555556, \"#d8576b\"], [0.6666666666666666, \"#ed7953\"], [0.7777777777777778, \"#fb9f3a\"], [0.8888888888888888, \"#fdca26\"], [1.0, \"#f0f921\"]], \"type\": \"contour\"}], \"contourcarpet\": [{\"colorbar\": {\"outlinewidth\": 0, \"ticks\": \"\"}, \"type\": \"contourcarpet\"}], \"heatmap\": [{\"colorbar\": {\"outlinewidth\": 0, \"ticks\": \"\"}, \"colorscale\": [[0.0, \"#0d0887\"], [0.1111111111111111, \"#46039f\"], [0.2222222222222222, \"#7201a8\"], [0.3333333333333333, \"#9c179e\"], [0.4444444444444444, \"#bd3786\"], [0.5555555555555556, \"#d8576b\"], [0.6666666666666666, \"#ed7953\"], [0.7777777777777778, \"#fb9f3a\"], [0.8888888888888888, \"#fdca26\"], [1.0, \"#f0f921\"]], \"type\": \"heatmap\"}], \"heatmapgl\": [{\"colorbar\": {\"outlinewidth\": 0, \"ticks\": \"\"}, \"colorscale\": [[0.0, \"#0d0887\"], [0.1111111111111111, \"#46039f\"], [0.2222222222222222, \"#7201a8\"], [0.3333333333333333, \"#9c179e\"], [0.4444444444444444, \"#bd3786\"], [0.5555555555555556, \"#d8576b\"], [0.6666666666666666, \"#ed7953\"], [0.7777777777777778, \"#fb9f3a\"], [0.8888888888888888, \"#fdca26\"], [1.0, \"#f0f921\"]], \"type\": \"heatmapgl\"}], \"histogram\": [{\"marker\": {\"colorbar\": {\"outlinewidth\": 0, \"ticks\": \"\"}}, \"type\": \"histogram\"}], \"histogram2d\": [{\"colorbar\": {\"outlinewidth\": 0, \"ticks\": \"\"}, \"colorscale\": [[0.0, \"#0d0887\"], [0.1111111111111111, \"#46039f\"], [0.2222222222222222, \"#7201a8\"], [0.3333333333333333, \"#9c179e\"], [0.4444444444444444, \"#bd3786\"], [0.5555555555555556, \"#d8576b\"], [0.6666666666666666, \"#ed7953\"], [0.7777777777777778, \"#fb9f3a\"], [0.8888888888888888, \"#fdca26\"], [1.0, \"#f0f921\"]], \"type\": \"histogram2d\"}], \"histogram2dcontour\": [{\"colorbar\": {\"outlinewidth\": 0, \"ticks\": \"\"}, \"colorscale\": [[0.0, \"#0d0887\"], [0.1111111111111111, \"#46039f\"], [0.2222222222222222, \"#7201a8\"], [0.3333333333333333, \"#9c179e\"], [0.4444444444444444, \"#bd3786\"], [0.5555555555555556, \"#d8576b\"], [0.6666666666666666, \"#ed7953\"], [0.7777777777777778, \"#fb9f3a\"], [0.8888888888888888, \"#fdca26\"], [1.0, \"#f0f921\"]], \"type\": \"histogram2dcontour\"}], \"mesh3d\": [{\"colorbar\": {\"outlinewidth\": 0, \"ticks\": \"\"}, \"type\": \"mesh3d\"}], \"parcoords\": [{\"line\": {\"colorbar\": {\"outlinewidth\": 0, \"ticks\": \"\"}}, \"type\": \"parcoords\"}], \"pie\": [{\"automargin\": true, \"type\": \"pie\"}], \"scatter\": [{\"marker\": {\"colorbar\": {\"outlinewidth\": 0, \"ticks\": \"\"}}, \"type\": \"scatter\"}], \"scatter3d\": [{\"line\": {\"colorbar\": {\"outlinewidth\": 0, \"ticks\": \"\"}}, \"marker\": {\"colorbar\": {\"outlinewidth\": 0, \"ticks\": \"\"}}, \"type\": \"scatter3d\"}], \"scattercarpet\": [{\"marker\": {\"colorbar\": {\"outlinewidth\": 0, \"ticks\": \"\"}}, \"type\": \"scattercarpet\"}], \"scattergeo\": [{\"marker\": {\"colorbar\": {\"outlinewidth\": 0, \"ticks\": \"\"}}, \"type\": \"scattergeo\"}], \"scattergl\": [{\"marker\": {\"colorbar\": {\"outlinewidth\": 0, \"ticks\": \"\"}}, \"type\": \"scattergl\"}], \"scattermapbox\": [{\"marker\": {\"colorbar\": {\"outlinewidth\": 0, \"ticks\": \"\"}}, \"type\": \"scattermapbox\"}], \"scatterpolar\": [{\"marker\": {\"colorbar\": {\"outlinewidth\": 0, \"ticks\": \"\"}}, \"type\": \"scatterpolar\"}], \"scatterpolargl\": [{\"marker\": {\"colorbar\": {\"outlinewidth\": 0, \"ticks\": \"\"}}, \"type\": \"scatterpolargl\"}], \"scatterternary\": [{\"marker\": {\"colorbar\": {\"outlinewidth\": 0, \"ticks\": \"\"}}, \"type\": \"scatterternary\"}], \"surface\": [{\"colorbar\": {\"outlinewidth\": 0, \"ticks\": \"\"}, \"colorscale\": [[0.0, \"#0d0887\"], [0.1111111111111111, \"#46039f\"], [0.2222222222222222, \"#7201a8\"], [0.3333333333333333, \"#9c179e\"], [0.4444444444444444, \"#bd3786\"], [0.5555555555555556, \"#d8576b\"], [0.6666666666666666, \"#ed7953\"], [0.7777777777777778, \"#fb9f3a\"], [0.8888888888888888, \"#fdca26\"], [1.0, \"#f0f921\"]], \"type\": \"surface\"}], \"table\": [{\"cells\": {\"fill\": {\"color\": \"#EBF0F8\"}, \"line\": {\"color\": \"white\"}}, \"header\": {\"fill\": {\"color\": \"#C8D4E3\"}, \"line\": {\"color\": \"white\"}}, \"type\": \"table\"}]}, \"layout\": {\"annotationdefaults\": {\"arrowcolor\": \"#2a3f5f\", \"arrowhead\": 0, \"arrowwidth\": 1}, \"coloraxis\": {\"colorbar\": {\"outlinewidth\": 0, \"ticks\": \"\"}}, \"colorscale\": {\"diverging\": [[0, \"#8e0152\"], [0.1, \"#c51b7d\"], [0.2, \"#de77ae\"], [0.3, \"#f1b6da\"], [0.4, \"#fde0ef\"], [0.5, \"#f7f7f7\"], [0.6, \"#e6f5d0\"], [0.7, \"#b8e186\"], [0.8, \"#7fbc41\"], [0.9, \"#4d9221\"], [1, \"#276419\"]], \"sequential\": [[0.0, \"#0d0887\"], [0.1111111111111111, \"#46039f\"], [0.2222222222222222, \"#7201a8\"], [0.3333333333333333, \"#9c179e\"], [0.4444444444444444, \"#bd3786\"], [0.5555555555555556, \"#d8576b\"], [0.6666666666666666, \"#ed7953\"], [0.7777777777777778, \"#fb9f3a\"], [0.8888888888888888, \"#fdca26\"], [1.0, \"#f0f921\"]], \"sequentialminus\": [[0.0, \"#0d0887\"], [0.1111111111111111, \"#46039f\"], [0.2222222222222222, \"#7201a8\"], [0.3333333333333333, \"#9c179e\"], [0.4444444444444444, \"#bd3786\"], [0.5555555555555556, \"#d8576b\"], [0.6666666666666666, \"#ed7953\"], [0.7777777777777778, \"#fb9f3a\"], [0.8888888888888888, \"#fdca26\"], [1.0, \"#f0f921\"]]}, \"colorway\": [\"#636efa\", \"#EF553B\", \"#00cc96\", \"#ab63fa\", \"#FFA15A\", \"#19d3f3\", \"#FF6692\", \"#B6E880\", \"#FF97FF\", \"#FECB52\"], \"font\": {\"color\": \"#2a3f5f\"}, \"geo\": {\"bgcolor\": \"white\", \"lakecolor\": \"white\", \"landcolor\": \"#E5ECF6\", \"showlakes\": true, \"showland\": true, \"subunitcolor\": \"white\"}, \"hoverlabel\": {\"align\": \"left\"}, \"hovermode\": \"closest\", \"mapbox\": {\"style\": \"light\"}, \"paper_bgcolor\": \"white\", \"plot_bgcolor\": \"#E5ECF6\", \"polar\": {\"angularaxis\": {\"gridcolor\": \"white\", \"linecolor\": \"white\", \"ticks\": \"\"}, \"bgcolor\": \"#E5ECF6\", \"radialaxis\": {\"gridcolor\": \"white\", \"linecolor\": \"white\", \"ticks\": \"\"}}, \"scene\": {\"xaxis\": {\"backgroundcolor\": \"#E5ECF6\", \"gridcolor\": \"white\", \"gridwidth\": 2, \"linecolor\": \"white\", \"showbackground\": true, \"ticks\": \"\", \"zerolinecolor\": \"white\"}, \"yaxis\": {\"backgroundcolor\": \"#E5ECF6\", \"gridcolor\": \"white\", \"gridwidth\": 2, \"linecolor\": \"white\", \"showbackground\": true, \"ticks\": \"\", \"zerolinecolor\": \"white\"}, \"zaxis\": {\"backgroundcolor\": \"#E5ECF6\", \"gridcolor\": \"white\", \"gridwidth\": 2, \"linecolor\": \"white\", \"showbackground\": true, \"ticks\": \"\", \"zerolinecolor\": \"white\"}}, \"shapedefaults\": {\"line\": {\"color\": \"#2a3f5f\"}}, \"ternary\": {\"aaxis\": {\"gridcolor\": \"white\", \"linecolor\": \"white\", \"ticks\": \"\"}, \"baxis\": {\"gridcolor\": \"white\", \"linecolor\": \"white\", \"ticks\": \"\"}, \"bgcolor\": \"#E5ECF6\", \"caxis\": {\"gridcolor\": \"white\", \"linecolor\": \"white\", \"ticks\": \"\"}}, \"title\": {\"x\": 0.05}, \"xaxis\": {\"automargin\": true, \"gridcolor\": \"white\", \"linecolor\": \"white\", \"ticks\": \"\", \"title\": {\"standoff\": 15}, \"zerolinecolor\": \"white\", \"zerolinewidth\": 2}, \"yaxis\": {\"automargin\": true, \"gridcolor\": \"white\", \"linecolor\": \"white\", \"ticks\": \"\", \"title\": {\"standoff\": 15}, \"zerolinecolor\": \"white\", \"zerolinewidth\": 2}}}, \"width\": 1000, \"xaxis\": {\"type\": \"log\"}, \"yaxis\": {\"exponentformat\": \"power\", \"type\": \"log\"}},\n                        {\"responsive\": true}\n                    ).then(function(){\n                            \nvar gd = document.getElementById('0a25099c-34c6-48a3-8196-dc7f4139f8c7');\nvar x = new MutationObserver(function (mutations, observer) {{\n        var display = window.getComputedStyle(gd).display;\n        if (!display || display === 'none') {{\n            console.log([gd, 'removed!']);\n            Plotly.purge(gd);\n            observer.disconnect();\n        }}\n}});\n\n// Listen for the removal of the full notebook cells\nvar notebookContainer = gd.closest('#notebook-container');\nif (notebookContainer) {{\n    x.observe(notebookContainer, {childList: true});\n}}\n\n// Listen for the clearing of the current output cell\nvar outputEl = gd.closest('.output');\nif (outputEl) {{\n    x.observe(outputEl, {childList: true});\n}}\n\n                        })\n                };\n                \n            </script>\n        </div>\n</body>\n</html>"
              }
            ],
            "_view_module": "@jupyter-widgets/output",
            "_model_module_version": "1.0.0",
            "_view_count": null,
            "_view_module_version": "1.0.0",
            "layout": "IPY_MODEL_d4930c4760a149c184eba361287804ba",
            "_model_module": "@jupyter-widgets/output"
          }
        },
        "566b2174c4b84cd0827e7a8361d17125": {
          "model_module": "@jupyter-widgets/controls",
          "model_name": "DescriptionStyleModel",
          "state": {
            "_view_name": "StyleView",
            "_model_name": "DescriptionStyleModel",
            "description_width": "",
            "_view_module": "@jupyter-widgets/base",
            "_model_module_version": "1.5.0",
            "_view_count": null,
            "_view_module_version": "1.2.0",
            "_model_module": "@jupyter-widgets/controls"
          }
        },
        "91d14667409a4d1aa11fd065f720cb39": {
          "model_module": "@jupyter-widgets/base",
          "model_name": "LayoutModel",
          "state": {
            "_view_name": "LayoutView",
            "grid_template_rows": null,
            "right": null,
            "justify_content": null,
            "_view_module": "@jupyter-widgets/base",
            "overflow": null,
            "_model_module_version": "1.2.0",
            "_view_count": null,
            "flex_flow": null,
            "width": "max-content",
            "min_width": null,
            "border": null,
            "align_items": null,
            "bottom": null,
            "_model_module": "@jupyter-widgets/base",
            "top": null,
            "grid_column": null,
            "overflow_y": null,
            "overflow_x": null,
            "grid_auto_flow": null,
            "grid_area": null,
            "grid_template_columns": null,
            "flex": null,
            "_model_name": "LayoutModel",
            "justify_items": null,
            "grid_row": null,
            "max_height": null,
            "align_content": null,
            "visibility": null,
            "align_self": null,
            "height": null,
            "min_height": null,
            "padding": null,
            "grid_auto_rows": null,
            "grid_gap": null,
            "max_width": null,
            "order": null,
            "_view_module_version": "1.2.0",
            "grid_template_areas": null,
            "object_position": null,
            "object_fit": null,
            "grid_auto_columns": null,
            "margin": null,
            "display": null,
            "left": null
          }
        },
        "d4930c4760a149c184eba361287804ba": {
          "model_module": "@jupyter-widgets/base",
          "model_name": "LayoutModel",
          "state": {
            "_view_name": "LayoutView",
            "grid_template_rows": null,
            "right": null,
            "justify_content": null,
            "_view_module": "@jupyter-widgets/base",
            "overflow": null,
            "_model_module_version": "1.2.0",
            "_view_count": null,
            "flex_flow": null,
            "width": null,
            "min_width": null,
            "border": null,
            "align_items": null,
            "bottom": null,
            "_model_module": "@jupyter-widgets/base",
            "top": null,
            "grid_column": null,
            "overflow_y": null,
            "overflow_x": null,
            "grid_auto_flow": null,
            "grid_area": null,
            "grid_template_columns": null,
            "flex": null,
            "_model_name": "LayoutModel",
            "justify_items": null,
            "grid_row": null,
            "max_height": null,
            "align_content": null,
            "visibility": null,
            "align_self": null,
            "height": null,
            "min_height": null,
            "padding": null,
            "grid_auto_rows": null,
            "grid_gap": null,
            "max_width": null,
            "order": null,
            "_view_module_version": "1.2.0",
            "grid_template_areas": null,
            "object_position": null,
            "object_fit": null,
            "grid_auto_columns": null,
            "margin": null,
            "display": null,
            "left": null
          }
        }
      }
    }
  },
  "cells": [
    {
      "cell_type": "markdown",
      "metadata": {
        "id": "view-in-github",
        "colab_type": "text"
      },
      "source": [
        "<a href=\"https://colab.research.google.com/github/maxskoda/NR_autoreduce/blob/master/INTER_WebData_v2.ipynb\" target=\"_parent\"><img src=\"https://colab.research.google.com/assets/colab-badge.svg\" alt=\"Open In Colab\"/></a>"
      ]
    },
    {
      "cell_type": "code",
      "metadata": {
        "colab": {
          "base_uri": "https://localhost:8080/"
        },
        "id": "VzzlYdi7KVsP",
        "outputId": "9ae90c62-e10c-426d-b26d-75d35820de75"
      },
      "source": [
        "! git clone 'https://github.com/maxskoda/NR_autoreduce/'"
      ],
      "execution_count": null,
      "outputs": [
        {
          "output_type": "stream",
          "text": [
            "Cloning into 'NR_autoreduce'...\n",
            "remote: Enumerating objects: 63, done.\u001b[K\n",
            "remote: Counting objects: 100% (63/63), done.\u001b[K\n",
            "remote: Compressing objects: 100% (52/52), done.\u001b[K\n",
            "remote: Total 63 (delta 13), reused 56 (delta 10), pack-reused 0\u001b[K\n",
            "Unpacking objects: 100% (63/63), done.\n"
          ],
          "name": "stdout"
        }
      ]
    },
    {
      "cell_type": "code",
      "metadata": {
        "id": "RWraT0Bw3gWj"
      },
      "source": [
        ""
      ],
      "execution_count": null,
      "outputs": []
    },
    {
      "cell_type": "code",
      "metadata": {
        "colab": {
          "base_uri": "https://localhost:8080/",
          "height": 517,
          "referenced_widgets": [
            "4ac1e1877c144e8ab4785da4210db414",
            "1d88ee0bdebc4097b96ec18e0b914862",
            "88f5d67dac4a41f28fda2b208b70813e",
            "b8f5e3ec15504aabac169a9d29c92220",
            "566b2174c4b84cd0827e7a8361d17125",
            "91d14667409a4d1aa11fd065f720cb39",
            "d4930c4760a149c184eba361287804ba"
          ]
        },
        "id": "zpsKuPd1hftW",
        "outputId": "5441e45c-dfdd-4a66-e84a-cd943b1b259d"
      },
      "source": [
        "#@title INTER data viewer\n",
        "import ipywidgets as widgets\n",
        "import glob\n",
        "import os\n",
        "import ntpath\n",
        "from ipywidgets import Layout\n",
        "# import chart_studio.plotly as py\n",
        "from bs4 import BeautifulSoup\n",
        "import requests\n",
        "import urllib\n",
        "\n",
        "import matplotlib.pyplot as plt\n",
        "import numpy as np\n",
        "from plotly.offline import iplot\n",
        "import plotly.graph_objs as go\n",
        "import plotly.io as pio\n",
        "pio.renderers.default = \"colab\"\n",
        "\n",
        "url = 'http://maximus.great-site.net/ASCII_Files/'\n",
        "ext = 'txt'\n",
        "\n",
        "def listFD(url, ext=''):\n",
        "    page = requests.get(url).text\n",
        "    # print(page)\n",
        "    soup = BeautifulSoup(page, 'html.parser')\n",
        "    file_list = []\n",
        "    for node in soup.find_all('a'):\n",
        "      if node.get('href').endswith(ext):\n",
        "        if node.get('href').endswith(ext) and (url + '/' + node.get('href')) not in file_list:\n",
        "          file_list.append(url + '/' + node.get('href'))\n",
        "\n",
        "    return file_list\n",
        "\n",
        "# for file in listFD(url, ext):\n",
        "#     print(file)\n",
        "\n",
        "def nr_plot(file_list):\n",
        "    choices = file_list['new']\n",
        "    output.clear_output(wait=True)\n",
        "    fig.data = [] # remove all traces\n",
        "    with output:\n",
        "        for f in choices:\n",
        "          X, Y, E = [], [], []\n",
        "          file = urllib.request.urlopen(\"http://maximus.great-site.net/ASCII_Files/\"+f)\n",
        "          for line in file: #NR_autoreduce/ASCII_Files/\"+f, 'r'):\n",
        "            decoded_line = line.decode(\"utf-8\")\n",
        "            values = [float(s) for s in decoded_line.split()]\n",
        "            X.append(values[0])\n",
        "            Y.append(values[1])\n",
        "            E.append(values[2])\n",
        "\n",
        "          fig.add_trace(\n",
        "                      go.Scatter(x=X,\n",
        "                  y=Y,\n",
        "                  error_y=dict(\n",
        "                      type='data', # value of error bar given in data coordinates\n",
        "                      array=E,\n",
        "                      visible=True),\n",
        "                  name=f)\n",
        "                  )\n",
        "        fig.update_xaxes(type=\"log\")\n",
        "        fig.update_yaxes(type=\"log\")\n",
        "        fig.show()\n",
        "\n",
        "\n",
        "# ff = [os.path.basename(x) for x in glob.glob(\"http://maximus.great-site.net/ASCII_Files/*.txt\")]\n",
        "\n",
        "ff = [ntpath.basename(f) for f in listFD(url, ext)]\n",
        "[ntpath.basename(f) for f in ff]\n",
        "\n",
        "selector = widgets.SelectMultiple(\n",
        "options=ff,\n",
        "# value=[ff[0]],\n",
        "rows=29,\n",
        "description='Workspaces',\n",
        "disabled=False,\n",
        "layout=Layout(valign='bottom', width= 'max-content'),\n",
        ")\n",
        "\n",
        "fig = go.Figure()\n",
        "fig.update_layout(\n",
        "    yaxis = {'exponentformat':'power'},\n",
        "    margin=dict(l=100, r=20, t=20, b=20),\n",
        "    modebar= {'orientation': 'v'},\n",
        "    width=1000, height=500)#, 'ticks':'inside'})\n",
        "\n",
        "output = widgets.Output()\n",
        "\n",
        "items = [selector, output]\n",
        "box_layout = Layout(display='flex', flex_flow='row', \n",
        "                    justify_content='space-between', align_items='stretch',\n",
        "                    align_content='flex-end')\n",
        "\n",
        "display(widgets.HBox(items, leyout=box_layout))\n",
        "# display(selector)\n",
        "# display(output)\n",
        "\n",
        "\n",
        "selector.observe(nr_plot, names='value')"
      ],
      "execution_count": 11,
      "outputs": [
        {
          "output_type": "display_data",
          "data": {
            "application/vnd.jupyter.widget-view+json": {
              "model_id": "4ac1e1877c144e8ab4785da4210db414",
              "version_minor": 0,
              "version_major": 2
            },
            "text/plain": [
              "HBox(children=(SelectMultiple(description='Workspaces', layout=Layout(width='max-content'), options=('IvsQ_615…"
            ]
          },
          "metadata": {
            "tags": []
          }
        }
      ]
    }
  ]
}