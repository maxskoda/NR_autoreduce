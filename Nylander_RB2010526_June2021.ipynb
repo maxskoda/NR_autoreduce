{
  "nbformat": 4,
  "nbformat_minor": 0,
  "metadata": {
    "colab": {
      "name": "Nylander_RB2010526_June2021.ipynb",
      "provenance": [],
      "collapsed_sections": [],
      "authorship_tag": "ABX9TyPZOVb0GvCLnwwOfFn332ld",
      "include_colab_link": true
    },
    "kernelspec": {
      "name": "python3",
      "display_name": "Python 3"
    },
    "language_info": {
      "name": "python"
    },
    "widgets": {
      "application/vnd.jupyter.widget-state+json": {
        "553d5c723f024b8f8ebc212b97e19f95": {
          "model_module": "@jupyter-widgets/controls",
          "model_name": "HBoxModel",
          "state": {
            "_view_name": "HBoxView",
            "_dom_classes": [],
            "_model_name": "HBoxModel",
            "_view_module": "@jupyter-widgets/controls",
            "_model_module_version": "1.5.0",
            "_view_count": null,
            "_view_module_version": "1.5.0",
            "box_style": "",
            "layout": "IPY_MODEL_f0e07d9e5b1e4e8fa383e4b2141145b1",
            "_model_module": "@jupyter-widgets/controls",
            "children": [
              "IPY_MODEL_1b1d64e163e545f9a338582429675911",
              "IPY_MODEL_0a8e6d637b37462eb5819a0e79859098"
            ]
          }
        },
        "f0e07d9e5b1e4e8fa383e4b2141145b1": {
          "model_module": "@jupyter-widgets/base",
          "model_name": "LayoutModel",
          "state": {
            "_view_name": "LayoutView",
            "grid_template_rows": null,
            "right": null,
            "justify_content": null,
            "_view_module": "@jupyter-widgets/base",
            "overflow": null,
            "_model_module_version": "1.2.0",
            "_view_count": null,
            "flex_flow": null,
            "width": null,
            "min_width": null,
            "border": null,
            "align_items": null,
            "bottom": null,
            "_model_module": "@jupyter-widgets/base",
            "top": null,
            "grid_column": null,
            "overflow_y": null,
            "overflow_x": null,
            "grid_auto_flow": null,
            "grid_area": null,
            "grid_template_columns": null,
            "flex": null,
            "_model_name": "LayoutModel",
            "justify_items": null,
            "grid_row": null,
            "max_height": null,
            "align_content": null,
            "visibility": null,
            "align_self": null,
            "height": null,
            "min_height": null,
            "padding": null,
            "grid_auto_rows": null,
            "grid_gap": null,
            "max_width": null,
            "order": null,
            "_view_module_version": "1.2.0",
            "grid_template_areas": null,
            "object_position": null,
            "object_fit": null,
            "grid_auto_columns": null,
            "margin": null,
            "display": null,
            "left": null
          }
        },
        "1b1d64e163e545f9a338582429675911": {
          "model_module": "@jupyter-widgets/controls",
          "model_name": "SelectMultipleModel",
          "state": {
            "_options_labels": [
              "IvsQ_34186_34187_34188+34189.txt",
              "IvsQ_34190_34191_34192+34193.txt",
              "IvsQ_34194_34195_34196+34197.txt",
              "IvsQ_34198_34199_34200+34201.txt",
              "IvsQ_34202_34203_34204+34205.txt",
              "IvsQ_34207_34208_34209+34210.txt",
              "IvsQ_34211_34212.txt",
              "IvsQ_34213_34214_34215+34216.txt",
              "IvsQ_34217_34218_34219+34220.txt",
              "IvsQ_34221_34222_34223+34224.txt",
              "IvsQ_34225_34226_34227+34228.txt",
              "IvsQ_34230_34231_34232+34233.txt",
              "IvsQ_34234_34235_34236+34237.txt",
              "IvsQ_34238_34239_34240+34241.txt",
              "IvsQ_34238_34239_34240.txt",
              "IvsQ_34242_34243.txt"
            ],
            "_view_name": "SelectMultipleView",
            "style": "IPY_MODEL_f082fe290ca64736a273d2873bfddf6c",
            "rows": 29,
            "_dom_classes": [],
            "description": "Workspaces",
            "_model_name": "SelectMultipleModel",
            "index": [
              13
            ],
            "_view_module": "@jupyter-widgets/controls",
            "_model_module_version": "1.5.0",
            "_view_count": null,
            "disabled": false,
            "_view_module_version": "1.5.0",
            "description_tooltip": null,
            "_model_module": "@jupyter-widgets/controls",
            "layout": "IPY_MODEL_a9cb8a50048c40eb9bc2c5a2244cde47"
          }
        },
        "0a8e6d637b37462eb5819a0e79859098": {
          "model_module": "@jupyter-widgets/output",
          "model_name": "OutputModel",
          "state": {
            "_view_name": "OutputView",
            "msg_id": "",
            "_dom_classes": [],
            "_model_name": "OutputModel",
            "outputs": [
              {
                "output_type": "display_data",
                "metadata": {
                  "tags": []
                },
                "text/html": "<html>\n<head><meta charset=\"utf-8\" /></head>\n<body>\n    <div>\n            <script src=\"https://cdnjs.cloudflare.com/ajax/libs/mathjax/2.7.5/MathJax.js?config=TeX-AMS-MML_SVG\"></script><script type=\"text/javascript\">if (window.MathJax) {MathJax.Hub.Config({SVG: {font: \"STIX-Web\"}});}</script>\n                <script type=\"text/javascript\">window.PlotlyConfig = {MathJaxConfig: 'local'};</script>\n        <script src=\"https://cdn.plot.ly/plotly-latest.min.js\"></script>    \n            <div id=\"7c69d663-1a8f-4731-b586-72eda0580925\" class=\"plotly-graph-div\" style=\"height:500px; width:1000px;\"></div>\n            <script type=\"text/javascript\">\n                \n                    window.PLOTLYENV=window.PLOTLYENV || {};\n                    \n                if (document.getElementById(\"7c69d663-1a8f-4731-b586-72eda0580925\")) {\n                    Plotly.newPlot(\n                        '7c69d663-1a8f-4731-b586-72eda0580925',\n                        [{\"error_y\": {\"array\": [0.04340425404154799, 0.03518525521695506, 0.03199382201937264, 0.02839198794265474, 0.02485867855043592, 0.02292764960717379, 0.02057281951241973, 0.01873629933397966, 0.01744989720293528, 0.01582474429924946, 0.01396796322844957, 0.01232918835253771, 0.009169913527826685, 0.005704797300139553, 0.003862216127162909, 0.003002317189048133, 0.00238216343195071, 0.001943105973970646, 0.001540789146745994, 0.001317145769334866, 0.001074664373720306, 0.0009205321853353375, 0.0007864999658025958, 0.0006516817673465106, 0.0005632398561847088, 0.0004876968637123415, 0.0004496355226896774, 0.0003810664311418358, 0.000349917293832299, 0.0003087674032790107, 0.0002652793328463105, 0.0002310241816944371, 0.0002037474897218763, 0.0001737621144614702, 0.0001556575527253448, 0.0001419005079782328, 0.0001223724391964783, 0.0001103203260101971, 0.000101054198924124, 9.01068795254363e-05, 7.892436316577688e-05, 7.379685386544369e-05, 6.853974335747734e-05, 6.094880166790375e-05, 5.284277999843689e-05, 5.149017951451899e-05, 4.281818897156182e-05, 3.932905998173134e-05, 3.600585164757682e-05, 3.205003970561886e-05, 3.09430105000627e-05, 2.695429911201495e-05, 2.427054059894113e-05, 2.200714120824324e-05, 1.969718490413029e-05, 1.801934157728244e-05, 1.550638223504623e-05, 1.414397295085615e-05, 1.357947989769867e-05, 1.20224563695819e-05, 1.070135885977079e-05, 9.572873814305423e-06, 8.829233890143586e-06, 7.621494025292583e-06, 6.932755352347367e-06, 6.303771740841785e-06, 5.458090217791522e-06, 4.944217248612583e-06, 4.204677495886607e-06, 3.715020253814771e-06, 3.477353422405712e-06, 3.006036922520409e-06, 2.511152164840369e-06, 2.194884526528221e-06, 2.022635630405257e-06, 1.889250509509051e-06, 1.666146984577158e-06, 1.56858678485792e-06, 1.322510209753362e-06, 1.181313557399803e-06, 1.106327705012853e-06, 1.084599609202735e-06, 9.360647271950515e-07, 8.491983010953196e-07, 9.428084077199948e-07, 8.243731567660946e-07, 8.127511114772483e-07, 7.69563168705351e-07, 7.539773635735057e-07, 7.951293581683328e-07, 7.600447060017951e-07, 8.004252177384489e-07, 8.18776483222742e-07, 8.878517301449423e-07, 9.01532394418785e-07, 9.879826334332357e-07, 1.119703989832878e-06], \"type\": \"data\", \"visible\": true}, \"name\": \"IvsQ_34238_34239_34240+34241.txt\", \"type\": \"scatter\", \"x\": [0.009304101925877984, 0.009637011996887825, 0.009981833923148468, 0.01033899392275264, 0.01070893346430266, 0.01109210981258887, 0.01148899659379311, 0.01190008438091562, 0.01232588130014916, 0.0127669136589498, 0.01322372659658068, 0.01369688475793294, 0.01418697299145654, 0.01469459707206384, 0.01522038444989936, 0.01576498502590121, 0.01632907195511298, 0.01691334247873887, 0.01751851878597063, 0.01814534890665144, 0.01879460763588034, 0.01946709749169977, 0.02016364970705028, 0.02088512525721824, 0.02163241592404677, 0.02240644539822509, 0.02320817042101898, 0.02403858196685347, 0.02489870646820945, 0.02578960708434845, 0.02671238501543352, 0.02766818086367075, 0.02865817604315375, 0.02968359424015383, 0.03074570292566078, 0.03184581492204384, 0.0329852900257695, 0.03416553668818156, 0.03538801375642138, 0.0366542322766399, 0.03796575736173034, 0.03932421012589042, 0.0407312696884049, 0.04218867524912571, 0.04369822823821469, 0.04526179454280625, 0.0468813068133424, 0.0485587668524306, 0.05029624808917742, 0.05209589814205628, 0.0539599414734772, 0.05589068213933968, 0.0578905066369674, 0.05996188685494473, 0.0621073831285015, 0.06432964740422241, 0.06663142651799289, 0.06901556559023318, 0.07148501154261731, 0.07404281674062371, 0.07669214276641997, 0.07943626432674525, 0.08227857330062052, 0.08522258293189003, 0.08827193217177598, 0.0914303901768143, 0.0947018609677309, 0.09809038825501727, 0.10160016043717, 0.1052355157777724, 0.1090009477678169, 0.1129011106798972, 0.1169408253211346, 0.1211250849919501, 0.125459061658047, 0.1299481123432336, 0.1345977857509869, 0.1394138291229429, 0.1444021953427909, 0.1495690502943514, 0.1549207804829335, 0.1604640009293934, 0.166205563346648, 0.1721525646087544, 0.1783123555230203, 0.1846925499159894, 0.1913010340445335, 0.1981459763436809, 0.2052358375232342, 0.212579381025653, 0.2201856838581319, 0.2280641478122597, 0.2362245110851302, 0.2446768603162672, 0.2534316430552436, 0.2624996806754032, 0.2704568773877115], \"y\": [1.029835972079659, 0.9497917765542645, 0.976697604106968, 0.9801025248247155, 0.9322901701277998, 0.9597715808226516, 0.9295662596404576, 0.9482381161821923, 0.9600663957914695, 0.9619881082499625, 0.9190710544196246, 0.8644345019350813, 0.6142389544752958, 0.3148620798431976, 0.181973335559702, 0.130979809871651, 0.09746904704467978, 0.07580650395642502, 0.05604497092609408, 0.04695599911866485, 0.03633371348355722, 0.03039827633492615, 0.02531707474612078, 0.01950922872843672, 0.01643714417405726, 0.0137914872173506, 0.01267035094338452, 0.009926975695921613, 0.008876807388677896, 0.007168681476991646, 0.006353091918916823, 0.005320871404474318, 0.004719431153761959, 0.003840659791409309, 0.003429066131650099, 0.003164253463760647, 0.002627403853565321, 0.002352824562244823, 0.002187948317060338, 0.001926476720230247, 0.001606356493542444, 0.001537294290285436, 0.001453725700437793, 0.001255588090885587, 0.001023261173518677, 0.001011630630464577, 0.000866772183420739, 0.0008056965536845467, 0.000744351426637822, 0.0006659902752836045, 0.0006306490593225872, 0.0005551943985052137, 0.000516280156843129, 0.0004899816441189229, 0.0004486779589553433, 0.0004208363341205418, 0.0003579129339284266, 0.000329584125642171, 0.0003323104623134694, 0.000288453068237603, 0.0002518120975314021, 0.0002283780770361105, 0.000216821212119316, 0.0001819436498038873, 0.000167824401733291, 0.0001539884714270957, 0.0001294884980924226, 0.000117325081964187, 9.171602352522792e-05, 7.844683739087822e-05, 7.577413725078113e-05, 6.026766893892166e-05, 4.305884319389257e-05, 3.284239135880816e-05, 2.72442938679379e-05, 2.255658593316933e-05, 1.302961929978071e-05, 1.214760734408251e-05, 7.138955084540474e-06, 3.936154286645892e-06, 1.574155721822002e-06, 2.851332047635287e-06, 1.277242160570967e-08, -3.57671707473543e-07, 2.878067653533196e-06, 7.179031223890028e-07, 9.420684273885234e-07, 1.105828863769392e-06, 1.017534941362319e-06, 2.62068326385513e-06, 1.178029264111639e-06, 1.559014686779186e-06, 1.167261256135619e-06, 1.032533274725672e-06, 6.771025820921328e-07, 2.327558576269653e-06, -1.087286284901553e-06]}],\n                        {\"height\": 500, \"margin\": {\"b\": 20, \"l\": 100, \"r\": 20, \"t\": 20}, \"modebar\": {\"orientation\": \"v\"}, \"template\": {\"data\": {\"bar\": [{\"error_x\": {\"color\": \"#2a3f5f\"}, \"error_y\": {\"color\": \"#2a3f5f\"}, \"marker\": {\"line\": {\"color\": \"#E5ECF6\", \"width\": 0.5}}, \"type\": \"bar\"}], \"barpolar\": [{\"marker\": {\"line\": {\"color\": \"#E5ECF6\", \"width\": 0.5}}, \"type\": \"barpolar\"}], \"carpet\": [{\"aaxis\": {\"endlinecolor\": \"#2a3f5f\", \"gridcolor\": \"white\", \"linecolor\": \"white\", \"minorgridcolor\": \"white\", \"startlinecolor\": \"#2a3f5f\"}, \"baxis\": {\"endlinecolor\": \"#2a3f5f\", \"gridcolor\": \"white\", \"linecolor\": \"white\", \"minorgridcolor\": \"white\", \"startlinecolor\": \"#2a3f5f\"}, \"type\": \"carpet\"}], \"choropleth\": [{\"colorbar\": {\"outlinewidth\": 0, \"ticks\": \"\"}, \"type\": \"choropleth\"}], \"contour\": [{\"colorbar\": {\"outlinewidth\": 0, \"ticks\": \"\"}, \"colorscale\": [[0.0, \"#0d0887\"], [0.1111111111111111, \"#46039f\"], [0.2222222222222222, \"#7201a8\"], [0.3333333333333333, \"#9c179e\"], [0.4444444444444444, \"#bd3786\"], [0.5555555555555556, \"#d8576b\"], [0.6666666666666666, \"#ed7953\"], [0.7777777777777778, \"#fb9f3a\"], [0.8888888888888888, \"#fdca26\"], [1.0, \"#f0f921\"]], \"type\": \"contour\"}], \"contourcarpet\": [{\"colorbar\": {\"outlinewidth\": 0, \"ticks\": \"\"}, \"type\": \"contourcarpet\"}], \"heatmap\": [{\"colorbar\": {\"outlinewidth\": 0, \"ticks\": \"\"}, \"colorscale\": [[0.0, \"#0d0887\"], [0.1111111111111111, \"#46039f\"], [0.2222222222222222, \"#7201a8\"], [0.3333333333333333, \"#9c179e\"], [0.4444444444444444, \"#bd3786\"], [0.5555555555555556, \"#d8576b\"], [0.6666666666666666, \"#ed7953\"], [0.7777777777777778, \"#fb9f3a\"], [0.8888888888888888, \"#fdca26\"], [1.0, \"#f0f921\"]], \"type\": \"heatmap\"}], \"heatmapgl\": [{\"colorbar\": {\"outlinewidth\": 0, \"ticks\": \"\"}, \"colorscale\": [[0.0, \"#0d0887\"], [0.1111111111111111, \"#46039f\"], [0.2222222222222222, \"#7201a8\"], [0.3333333333333333, \"#9c179e\"], [0.4444444444444444, \"#bd3786\"], [0.5555555555555556, \"#d8576b\"], [0.6666666666666666, \"#ed7953\"], [0.7777777777777778, \"#fb9f3a\"], [0.8888888888888888, \"#fdca26\"], [1.0, \"#f0f921\"]], \"type\": \"heatmapgl\"}], \"histogram\": [{\"marker\": {\"colorbar\": {\"outlinewidth\": 0, \"ticks\": \"\"}}, \"type\": \"histogram\"}], \"histogram2d\": [{\"colorbar\": {\"outlinewidth\": 0, \"ticks\": \"\"}, \"colorscale\": [[0.0, \"#0d0887\"], [0.1111111111111111, \"#46039f\"], [0.2222222222222222, \"#7201a8\"], [0.3333333333333333, \"#9c179e\"], [0.4444444444444444, \"#bd3786\"], [0.5555555555555556, \"#d8576b\"], [0.6666666666666666, \"#ed7953\"], [0.7777777777777778, \"#fb9f3a\"], [0.8888888888888888, \"#fdca26\"], [1.0, \"#f0f921\"]], \"type\": \"histogram2d\"}], \"histogram2dcontour\": [{\"colorbar\": {\"outlinewidth\": 0, \"ticks\": \"\"}, \"colorscale\": [[0.0, \"#0d0887\"], [0.1111111111111111, \"#46039f\"], [0.2222222222222222, \"#7201a8\"], [0.3333333333333333, \"#9c179e\"], [0.4444444444444444, \"#bd3786\"], [0.5555555555555556, \"#d8576b\"], [0.6666666666666666, \"#ed7953\"], [0.7777777777777778, \"#fb9f3a\"], [0.8888888888888888, \"#fdca26\"], [1.0, \"#f0f921\"]], \"type\": \"histogram2dcontour\"}], \"mesh3d\": [{\"colorbar\": {\"outlinewidth\": 0, \"ticks\": \"\"}, \"type\": \"mesh3d\"}], \"parcoords\": [{\"line\": {\"colorbar\": {\"outlinewidth\": 0, \"ticks\": \"\"}}, \"type\": \"parcoords\"}], \"pie\": [{\"automargin\": true, \"type\": \"pie\"}], \"scatter\": [{\"marker\": {\"colorbar\": {\"outlinewidth\": 0, \"ticks\": \"\"}}, \"type\": \"scatter\"}], \"scatter3d\": [{\"line\": {\"colorbar\": {\"outlinewidth\": 0, \"ticks\": \"\"}}, \"marker\": {\"colorbar\": {\"outlinewidth\": 0, \"ticks\": \"\"}}, \"type\": \"scatter3d\"}], \"scattercarpet\": [{\"marker\": {\"colorbar\": {\"outlinewidth\": 0, \"ticks\": \"\"}}, \"type\": \"scattercarpet\"}], \"scattergeo\": [{\"marker\": {\"colorbar\": {\"outlinewidth\": 0, \"ticks\": \"\"}}, \"type\": \"scattergeo\"}], \"scattergl\": [{\"marker\": {\"colorbar\": {\"outlinewidth\": 0, \"ticks\": \"\"}}, \"type\": \"scattergl\"}], \"scattermapbox\": [{\"marker\": {\"colorbar\": {\"outlinewidth\": 0, \"ticks\": \"\"}}, \"type\": \"scattermapbox\"}], \"scatterpolar\": [{\"marker\": {\"colorbar\": {\"outlinewidth\": 0, \"ticks\": \"\"}}, \"type\": \"scatterpolar\"}], \"scatterpolargl\": [{\"marker\": {\"colorbar\": {\"outlinewidth\": 0, \"ticks\": \"\"}}, \"type\": \"scatterpolargl\"}], \"scatterternary\": [{\"marker\": {\"colorbar\": {\"outlinewidth\": 0, \"ticks\": \"\"}}, \"type\": \"scatterternary\"}], \"surface\": [{\"colorbar\": {\"outlinewidth\": 0, \"ticks\": \"\"}, \"colorscale\": [[0.0, \"#0d0887\"], [0.1111111111111111, \"#46039f\"], [0.2222222222222222, \"#7201a8\"], [0.3333333333333333, \"#9c179e\"], [0.4444444444444444, \"#bd3786\"], [0.5555555555555556, \"#d8576b\"], [0.6666666666666666, \"#ed7953\"], [0.7777777777777778, \"#fb9f3a\"], [0.8888888888888888, \"#fdca26\"], [1.0, \"#f0f921\"]], \"type\": \"surface\"}], \"table\": [{\"cells\": {\"fill\": {\"color\": \"#EBF0F8\"}, \"line\": {\"color\": \"white\"}}, \"header\": {\"fill\": {\"color\": \"#C8D4E3\"}, \"line\": {\"color\": \"white\"}}, \"type\": \"table\"}]}, \"layout\": {\"annotationdefaults\": {\"arrowcolor\": \"#2a3f5f\", \"arrowhead\": 0, \"arrowwidth\": 1}, \"coloraxis\": {\"colorbar\": {\"outlinewidth\": 0, \"ticks\": \"\"}}, \"colorscale\": {\"diverging\": [[0, \"#8e0152\"], [0.1, \"#c51b7d\"], [0.2, \"#de77ae\"], [0.3, \"#f1b6da\"], [0.4, \"#fde0ef\"], [0.5, \"#f7f7f7\"], [0.6, \"#e6f5d0\"], [0.7, \"#b8e186\"], [0.8, \"#7fbc41\"], [0.9, \"#4d9221\"], [1, \"#276419\"]], \"sequential\": [[0.0, \"#0d0887\"], [0.1111111111111111, \"#46039f\"], [0.2222222222222222, \"#7201a8\"], [0.3333333333333333, \"#9c179e\"], [0.4444444444444444, \"#bd3786\"], [0.5555555555555556, \"#d8576b\"], [0.6666666666666666, \"#ed7953\"], [0.7777777777777778, \"#fb9f3a\"], [0.8888888888888888, \"#fdca26\"], [1.0, \"#f0f921\"]], \"sequentialminus\": [[0.0, \"#0d0887\"], [0.1111111111111111, \"#46039f\"], [0.2222222222222222, \"#7201a8\"], [0.3333333333333333, \"#9c179e\"], [0.4444444444444444, \"#bd3786\"], [0.5555555555555556, \"#d8576b\"], [0.6666666666666666, \"#ed7953\"], [0.7777777777777778, \"#fb9f3a\"], [0.8888888888888888, \"#fdca26\"], [1.0, \"#f0f921\"]]}, \"colorway\": [\"#636efa\", \"#EF553B\", \"#00cc96\", \"#ab63fa\", \"#FFA15A\", \"#19d3f3\", \"#FF6692\", \"#B6E880\", \"#FF97FF\", \"#FECB52\"], \"font\": {\"color\": \"#2a3f5f\"}, \"geo\": {\"bgcolor\": \"white\", \"lakecolor\": \"white\", \"landcolor\": \"#E5ECF6\", \"showlakes\": true, \"showland\": true, \"subunitcolor\": \"white\"}, \"hoverlabel\": {\"align\": \"left\"}, \"hovermode\": \"closest\", \"mapbox\": {\"style\": \"light\"}, \"paper_bgcolor\": \"white\", \"plot_bgcolor\": \"#E5ECF6\", \"polar\": {\"angularaxis\": {\"gridcolor\": \"white\", \"linecolor\": \"white\", \"ticks\": \"\"}, \"bgcolor\": \"#E5ECF6\", \"radialaxis\": {\"gridcolor\": \"white\", \"linecolor\": \"white\", \"ticks\": \"\"}}, \"scene\": {\"xaxis\": {\"backgroundcolor\": \"#E5ECF6\", \"gridcolor\": \"white\", \"gridwidth\": 2, \"linecolor\": \"white\", \"showbackground\": true, \"ticks\": \"\", \"zerolinecolor\": \"white\"}, \"yaxis\": {\"backgroundcolor\": \"#E5ECF6\", \"gridcolor\": \"white\", \"gridwidth\": 2, \"linecolor\": \"white\", \"showbackground\": true, \"ticks\": \"\", \"zerolinecolor\": \"white\"}, \"zaxis\": {\"backgroundcolor\": \"#E5ECF6\", \"gridcolor\": \"white\", \"gridwidth\": 2, \"linecolor\": \"white\", \"showbackground\": true, \"ticks\": \"\", \"zerolinecolor\": \"white\"}}, \"shapedefaults\": {\"line\": {\"color\": \"#2a3f5f\"}}, \"ternary\": {\"aaxis\": {\"gridcolor\": \"white\", \"linecolor\": \"white\", \"ticks\": \"\"}, \"baxis\": {\"gridcolor\": \"white\", \"linecolor\": \"white\", \"ticks\": \"\"}, \"bgcolor\": \"#E5ECF6\", \"caxis\": {\"gridcolor\": \"white\", \"linecolor\": \"white\", \"ticks\": \"\"}}, \"title\": {\"x\": 0.05}, \"xaxis\": {\"automargin\": true, \"gridcolor\": \"white\", \"linecolor\": \"white\", \"ticks\": \"\", \"title\": {\"standoff\": 15}, \"zerolinecolor\": \"white\", \"zerolinewidth\": 2}, \"yaxis\": {\"automargin\": true, \"gridcolor\": \"white\", \"linecolor\": \"white\", \"ticks\": \"\", \"title\": {\"standoff\": 15}, \"zerolinecolor\": \"white\", \"zerolinewidth\": 2}}}, \"width\": 1000, \"xaxis\": {\"type\": \"log\"}, \"yaxis\": {\"exponentformat\": \"power\", \"type\": \"log\"}},\n                        {\"responsive\": true}\n                    ).then(function(){\n                            \nvar gd = document.getElementById('7c69d663-1a8f-4731-b586-72eda0580925');\nvar x = new MutationObserver(function (mutations, observer) {{\n        var display = window.getComputedStyle(gd).display;\n        if (!display || display === 'none') {{\n            console.log([gd, 'removed!']);\n            Plotly.purge(gd);\n            observer.disconnect();\n        }}\n}});\n\n// Listen for the removal of the full notebook cells\nvar notebookContainer = gd.closest('#notebook-container');\nif (notebookContainer) {{\n    x.observe(notebookContainer, {childList: true});\n}}\n\n// Listen for the clearing of the current output cell\nvar outputEl = gd.closest('.output');\nif (outputEl) {{\n    x.observe(outputEl, {childList: true});\n}}\n\n                        })\n                };\n                \n            </script>\n        </div>\n</body>\n</html>"
              }
            ],
            "_view_module": "@jupyter-widgets/output",
            "_model_module_version": "1.0.0",
            "_view_count": null,
            "_view_module_version": "1.0.0",
            "layout": "IPY_MODEL_8a330883ddda4ee7a6813ef386b492dc",
            "_model_module": "@jupyter-widgets/output"
          }
        },
        "f082fe290ca64736a273d2873bfddf6c": {
          "model_module": "@jupyter-widgets/controls",
          "model_name": "DescriptionStyleModel",
          "state": {
            "_view_name": "StyleView",
            "_model_name": "DescriptionStyleModel",
            "description_width": "",
            "_view_module": "@jupyter-widgets/base",
            "_model_module_version": "1.5.0",
            "_view_count": null,
            "_view_module_version": "1.2.0",
            "_model_module": "@jupyter-widgets/controls"
          }
        },
        "a9cb8a50048c40eb9bc2c5a2244cde47": {
          "model_module": "@jupyter-widgets/base",
          "model_name": "LayoutModel",
          "state": {
            "_view_name": "LayoutView",
            "grid_template_rows": null,
            "right": null,
            "justify_content": null,
            "_view_module": "@jupyter-widgets/base",
            "overflow": null,
            "_model_module_version": "1.2.0",
            "_view_count": null,
            "flex_flow": null,
            "width": null,
            "min_width": null,
            "border": null,
            "align_items": null,
            "bottom": null,
            "_model_module": "@jupyter-widgets/base",
            "top": null,
            "grid_column": null,
            "overflow_y": null,
            "overflow_x": null,
            "grid_auto_flow": null,
            "grid_area": null,
            "grid_template_columns": null,
            "flex": null,
            "_model_name": "LayoutModel",
            "justify_items": null,
            "grid_row": null,
            "max_height": null,
            "align_content": null,
            "visibility": null,
            "align_self": null,
            "height": null,
            "min_height": null,
            "padding": null,
            "grid_auto_rows": null,
            "grid_gap": null,
            "max_width": null,
            "order": null,
            "_view_module_version": "1.2.0",
            "grid_template_areas": null,
            "object_position": null,
            "object_fit": null,
            "grid_auto_columns": null,
            "margin": null,
            "display": null,
            "left": null
          }
        },
        "8a330883ddda4ee7a6813ef386b492dc": {
          "model_module": "@jupyter-widgets/base",
          "model_name": "LayoutModel",
          "state": {
            "_view_name": "LayoutView",
            "grid_template_rows": null,
            "right": null,
            "justify_content": null,
            "_view_module": "@jupyter-widgets/base",
            "overflow": null,
            "_model_module_version": "1.2.0",
            "_view_count": null,
            "flex_flow": null,
            "width": null,
            "min_width": null,
            "border": null,
            "align_items": null,
            "bottom": null,
            "_model_module": "@jupyter-widgets/base",
            "top": null,
            "grid_column": null,
            "overflow_y": null,
            "overflow_x": null,
            "grid_auto_flow": null,
            "grid_area": null,
            "grid_template_columns": null,
            "flex": null,
            "_model_name": "LayoutModel",
            "justify_items": null,
            "grid_row": null,
            "max_height": null,
            "align_content": null,
            "visibility": null,
            "align_self": null,
            "height": null,
            "min_height": null,
            "padding": null,
            "grid_auto_rows": null,
            "grid_gap": null,
            "max_width": null,
            "order": null,
            "_view_module_version": "1.2.0",
            "grid_template_areas": null,
            "object_position": null,
            "object_fit": null,
            "grid_auto_columns": null,
            "margin": null,
            "display": null,
            "left": null
          }
        }
      }
    }
  },
  "cells": [
    {
      "cell_type": "markdown",
      "metadata": {
        "id": "view-in-github",
        "colab_type": "text"
      },
      "source": [
        "<a href=\"https://colab.research.google.com/github/maxskoda/NR_autoreduce/blob/master/Nylander_RB2010526_June2021.ipynb\" target=\"_parent\"><img src=\"https://colab.research.google.com/assets/colab-badge.svg\" alt=\"Open In Colab\"/></a>"
      ]
    },
    {
      "cell_type": "code",
      "metadata": {
        "id": "3g5mzaMJ8XkN"
      },
      "source": [
        "pip install refnx"
      ],
      "execution_count": null,
      "outputs": []
    },
    {
      "cell_type": "code",
      "metadata": {
        "id": "zX10nIVRc7EO"
      },
      "source": [
        "pip install numpy"
      ],
      "execution_count": null,
      "outputs": []
    },
    {
      "cell_type": "code",
      "metadata": {
        "id": "diy1YV6lmaAl",
        "cellView": "form"
      },
      "source": [
        "#@title Imports\n",
        "import glob\n",
        "import os\n",
        "import re\n",
        "from ipywidgets import Layout\n",
        "# import chart_studio.plotly as py\n",
        "import matplotlib.pyplot as plt\n",
        "import numpy as np\n",
        "#import os.path\n",
        "import time as tm\n",
        "import pandas as pd\n",
        "import pickle\n",
        "from __future__ import print_function\n",
        "from ipywidgets import interact, interactive, fixed, interact_manual\n",
        "import ipywidgets as widgets\n",
        "\n",
        "from plotly.offline import iplot\n",
        "import plotly.graph_objs as go\n",
        "import plotly.io as pio\n",
        "pio.renderers.default = \"colab\"\n"
      ],
      "execution_count": 2,
      "outputs": []
    },
    {
      "cell_type": "code",
      "metadata": {
        "colab": {
          "base_uri": "https://localhost:8080/",
          "height": 517,
          "referenced_widgets": [
            "553d5c723f024b8f8ebc212b97e19f95",
            "f0e07d9e5b1e4e8fa383e4b2141145b1",
            "1b1d64e163e545f9a338582429675911",
            "0a8e6d637b37462eb5819a0e79859098",
            "f082fe290ca64736a273d2873bfddf6c",
            "a9cb8a50048c40eb9bc2c5a2244cde47",
            "8a330883ddda4ee7a6813ef386b492dc"
          ]
        },
        "id": "Djr2Byz7Vakh",
        "cellView": "form",
        "outputId": "dd8e76d3-f9cd-42b4-ded4-e9bca687311d"
      },
      "source": [
        "#@title Plot data\n",
        "git_path = \"NR_datareduction\" #@param {type:\"string\"}\n",
        "colab_path = \"/content/NR_datareduction/RB2010562/\" #@param {type:\"string\"}\n",
        "file_extension = \".dat\"\n",
        "filename_pattern = \".*\\\\.txt$\" #@param {type:\"string\"}\n",
        "\n",
        "pth = os.path.join('https://github.com/maxskoda/',git_path)\n",
        "\n",
        "if not os.path.exists(colab_path):\n",
        "  ! git clone $pth  #NR_datareduction/'\n",
        "\n",
        "def nr_plot(file_list):\n",
        "    choices = file_list['new']\n",
        "    output.clear_output(wait=True)\n",
        "    fig.data = [] # remove all traces\n",
        "    with output:\n",
        "        for f in choices:\n",
        "          X, Y, E = [], [], []\n",
        "          for line in open(colab_path+f, 'r'):\n",
        "            if line[0] != '#' and len(line)>1:\n",
        "              values = [float(s) for s in line.split()]\n",
        "              X.append(values[0])\n",
        "              Y.append(values[1])\n",
        "              E.append(values[2])\n",
        "\n",
        "          fig.add_trace(\n",
        "                      go.Scatter(x=X,\n",
        "                  y=Y,\n",
        "                  error_y=dict(\n",
        "                      type='data', # value of error bar given in data coordinates\n",
        "                      array=E,\n",
        "                      visible=True),\n",
        "                  name=f)\n",
        "                  )\n",
        "        fig.update_xaxes(type=\"log\")\n",
        "        fig.update_yaxes(type=\"log\")\n",
        "        fig.show()\n",
        "\n",
        "# if filename_pattern\n",
        "ff = [f for f in os.listdir(colab_path) if re.search(filename_pattern, f)]\n",
        "\n",
        "# ff = [os.path.basename(x) for x in glob.glob(colab_path+\"*IvsQ_[0..9]_[0..9]\"+file_extension)]\n",
        "\n",
        "selector = widgets.SelectMultiple(\n",
        "options=sorted(ff),\n",
        "# value=[ff[0]],\n",
        "rows=29,\n",
        "description='Workspaces',\n",
        "disabled=False,\n",
        "layout=Layout(valign='bottom')\n",
        ")\n",
        "\n",
        "fig = go.Figure()\n",
        "fig.update_layout(\n",
        "    yaxis = {'exponentformat':'power'},\n",
        "    margin=dict(l=100, r=20, t=20, b=20),\n",
        "    modebar= {'orientation': 'v'},\n",
        "    width=1000, height=500)#, 'ticks':'inside'})\n",
        "\n",
        "output = widgets.Output()\n",
        "\n",
        "items = [selector, output]\n",
        "box_layout = Layout(display='flex', flex_flow='row', \n",
        "                    justify_content='space-between', align_items='stretch',\n",
        "                    align_content='flex-end')\n",
        "\n",
        "display(widgets.HBox(items, leyout=box_layout))\n",
        "# display(selector)\n",
        "# display(output)\n",
        "\n",
        "\n",
        "selector.observe(nr_plot, names='value')"
      ],
      "execution_count": 4,
      "outputs": [
        {
          "output_type": "display_data",
          "data": {
            "application/vnd.jupyter.widget-view+json": {
              "model_id": "553d5c723f024b8f8ebc212b97e19f95",
              "version_minor": 0,
              "version_major": 2
            },
            "text/plain": [
              "HBox(children=(SelectMultiple(description='Workspaces', options=('IvsQ_34186_34187_34188+34189.txt', 'IvsQ_341…"
            ]
          },
          "metadata": {
            "tags": []
          }
        }
      ]
    },
    {
      "cell_type": "code",
      "metadata": {
        "id": "2-0clRZ3OCkV"
      },
      "source": [
        "#@title Model parameters \n",
        "path = \"/content/NR_datareduction/RB2010562/\" #@param {type:\"string\"}\n",
        "file_name = \"IvsQ_34238_34239_34240+34241.txt\" #@param {type:\"string\"}\n",
        "\n",
        "\n",
        "import refnx, scipy\n",
        "\n",
        "# the analysis module contains the curvefitting engine\n",
        "from refnx.analysis import CurveFitter, Objective, Parameter, GlobalObjective, process_chain, Transform\n",
        "\n",
        "# the reflect module contains functionality relevant to reflectometry\n",
        "from refnx.reflect import SLD, MixedReflectModel, ReflectModel, Structure, Stack, LipidLeaflet\n",
        "\n",
        "# the ReflectDataset object will contain the data\n",
        "from refnx.dataset import ReflectDataset\n",
        "\n",
        "def remove_negative(file):\n",
        "  with open(file) as f:\n",
        "    x = []\n",
        "    y = []\n",
        "    e = []\n",
        "    dq=[]\n",
        "    for line in f:\n",
        "      try: \n",
        "        xx, yy, ee, dqq = line.lstrip().split()\n",
        "        x.append(xx)\n",
        "        y.append(yy)\n",
        "        e.append(ee)\n",
        "        dq.append(dqq)\n",
        "      except ValueError:\n",
        "        print(\"Some unreadable data...\")\n",
        "  result = (x, y, e)\n",
        "  return result\n",
        "\n",
        "data_d2o = ReflectDataset(remove_negative(path+file_name))\n",
        "data_d2o.name = \"Bilayer 1\""
      ],
      "execution_count": 20,
      "outputs": []
    },
    {
      "cell_type": "code",
      "metadata": {
        "id": "2iBYP22POEuJ"
      },
      "source": [
        "Si = SLD(2.07 + 0j)\n",
        "SiO2 = SLD(3.47 + 0j)\n",
        "\n",
        "# the following represent the solvent contrasts used in the experiment\n",
        "d2o = SLD(6.3 + 0j)\n",
        "h2o = SLD(-0.56 + 0j)\n",
        "hdmix = SLD(2.07 + 0j)\n",
        "\n",
        "# We want the `real` attribute parameter to vary in the analysis, and we want to apply\n",
        "# uniform bounds. The `setp` method of a Parameter is a way of changing many aspects of\n",
        "# Parameter behaviour at once.\n",
        "d2o.real.setp(vary=True, bounds=(5.9, 6.36))\n",
        "d2o.real.name='d2o SLD'\n",
        "\n",
        "# Slab for oxide layer\n",
        "SiO2_slab = SiO2(18, 3)\n",
        "SiO2_slab.thick.setp(vary=True, bounds=(5, 30))\n",
        "SiO2_slab.thick.name = 'SiO2 thickness'\n",
        "SiO2_slab.rough.setp(vary=True, bounds=(3, 10))\n",
        "SiO2_slab.rough.name = name='SiO2 roughness'\n",
        "SiO2_slab.vfsolv.setp(0.0, vary=False, bounds=(0., 1.0))\n",
        "SiO2_slab.vfsolv.name = 'SiO2 solvation'\n",
        "\n",
        "solv_roughness = Parameter(3, 'bilayer/solvent roughness')\n",
        "solv_roughness.setp(vary=True, bounds=(0, 15))# Slab constructed from SLD object.\n"
      ],
      "execution_count": 14,
      "outputs": []
    },
    {
      "cell_type": "code",
      "metadata": {
        "id": "WTxFVHHYOH4P"
      },
      "source": [
        "# Parameter for the area per molecule each DMPC molecule occupies at the surface. We\n",
        "# use the same area per molecule for the inner and outer leaflets.\n",
        "apm = Parameter(56, 'area per molecule', vary=True, bounds=(42, 75))\n",
        "apm_stack = Parameter(56, 'area per molecule in the stack', vary=True, bounds=(42, 85))\n",
        "\n",
        "#### POPC #########\n",
        "# the sum of scattering lengths for the lipid head and tail in Angstrom.\n",
        "b_heads_PC = 7.0e-4\n",
        "b_tails_PC = -2.68e-4\n",
        "\n",
        "# the volume occupied by the head and tail groups in cubic Angstrom.\n",
        "v_heads_PC = 331.0\n",
        "v_tails_PC = 932.5\n",
        "###################\n",
        "\n",
        "#### POPG #########\n",
        "# the sum of scattering lengths for the lipid head and tail in Angstrom.\n",
        "b_heads_PG = 7.14e-4\n",
        "b_tails_PG = -2.68e-4\n",
        "\n",
        "# the volume occupied by the head and tail groups in cubic Angstrom.\n",
        "v_heads_PG = 291\n",
        "v_tails_PG = 932.5\n",
        "###################\n",
        "\n",
        "vfrac_POPC = 0.75\n",
        "# the sum of scattering lengths for the lipid head and tail in Angstrom.\n",
        "b_heads = Parameter(vfrac_POPC*b_heads_PC + (1 - vfrac_POPC)*b_heads_PG, 'b_heads')\n",
        "b_tails = Parameter(vfrac_POPC*b_tails_PC + (1 - vfrac_POPC)*b_tails_PG, 'b_tails')\n",
        "\n",
        "# the volume occupied by the head and tail groups in cubic Angstrom.\n",
        "v_heads = Parameter(vfrac_POPC*v_heads_PC + (1 - vfrac_POPC)*v_heads_PG, 'v_heads')\n",
        "v_tails = Parameter(vfrac_POPC*v_tails_PC + (1 - vfrac_POPC)*v_tails_PG, 'v_tails')\n",
        "\n",
        "# the head and tail group thicknesses.\n",
        "inner_head_thickness = Parameter(9, 'inner_head_thickness', vary=True, bounds=(4, 11))\n",
        "outer_head_thickness = Parameter(9, 'outer_head_thickness', vary=True, bounds=(4, 11))\n",
        "tail_thickness = Parameter(14, 'tail_thickness', vary=True, bounds=(10, 17))\n",
        "\n",
        "inner_head_thickness_stack = Parameter(9, 'inner_head_thickness', vary=True, bounds=(4, 11))\n",
        "outer_head_thickness_stack = Parameter(9, 'outer_head_thickness', vary=True, bounds=(4, 11))\n",
        "tail_thickness_stack = Parameter(14, 'tail_thickness', vary=True, bounds=(10, 17))\n",
        "\n",
        "# finally construct a `LipidLeaflet` object for the inner and outer leaflets.\n",
        "# Note that here the inner and outer leaflets use the same area per molecule,\n",
        "# same tail thickness, etc, but this is not necessary if the inner and outer\n",
        "# leaflets are different.\n",
        "inner_leaflet = LipidLeaflet(apm,\n",
        "                             b_heads, v_heads, inner_head_thickness,\n",
        "                             b_tails, v_tails, tail_thickness,\n",
        "                             3, 3)\n",
        "\n",
        "# we reverse the monolayer for the outer leaflet because the tail groups face upwards\n",
        "outer_leaflet = LipidLeaflet(apm,\n",
        "                             b_heads, v_heads, outer_head_thickness,\n",
        "                             b_tails, v_tails, tail_thickness,\n",
        "                             3, 0, reverse_monolayer=True)\n",
        "\n",
        "inner_leaflet_stack = LipidLeaflet(apm_stack,\n",
        "                             b_heads, v_heads, inner_head_thickness_stack,\n",
        "                             b_tails, v_tails, tail_thickness_stack,\n",
        "                             3, 3)\n",
        "\n",
        "# we reverse the monolayer for the outer leaflet because the tail groups face upwards\n",
        "outer_leaflet_stack = LipidLeaflet(apm_stack,\n",
        "                             b_heads, v_heads, outer_head_thickness_stack,\n",
        "                             b_tails, v_tails, tail_thickness_stack,\n",
        "                             3, 0, reverse_monolayer=True)"
      ],
      "execution_count": 15,
      "outputs": []
    },
    {
      "cell_type": "code",
      "metadata": {
        "id": "2iXF01rNOL_y"
      },
      "source": [
        "# assemble the structures:\n",
        "s_d2o   = Si | SiO2_slab | inner_leaflet | outer_leaflet | d2o(0, solv_roughness)\n",
        "# s_hdmix = air | water_slab | inner_leaflet | outer_leaflet | hdmix(0, solv_roughness)\n",
        "s_h2o   = Si | SiO2_slab | inner_leaflet | outer_leaflet | h2o(0, solv_roughness)"
      ],
      "execution_count": 16,
      "outputs": []
    },
    {
      "cell_type": "code",
      "metadata": {
        "id": "MFOpnwI-RWd_"
      },
      "source": [
        "model_d2o = ReflectModel(s_d2o, bkg=3e-6, dq=3.5)"
      ],
      "execution_count": 18,
      "outputs": []
    },
    {
      "cell_type": "code",
      "metadata": {
        "id": "RLXCvAazOVQM"
      },
      "source": [
        "objective_d2o = Objective(model_d2o, data_d2o)\n",
        "# objective_hdmix = Objective(model_hdmix, data_hdmix)\n",
        "# objective_h2o = Objective(model_h2o, data_h2o)\n",
        "\n",
        "global_objective = GlobalObjective([objective_d2o])#, objective_hdmix, objective_h2o])"
      ],
      "execution_count": 21,
      "outputs": []
    },
    {
      "cell_type": "code",
      "metadata": {
        "colab": {
          "base_uri": "https://localhost:8080/",
          "height": 283
        },
        "id": "NPDx9KNyRjuL",
        "outputId": "a5e58ff7-b01d-46e6-e98d-d160270c373d"
      },
      "source": [
        "global_objective.plot()\n",
        "plt.yscale('log')\n",
        "plt.xscale('log')\n",
        "plt.xlabel('Q')\n",
        "plt.ylabel('Reflectivity')\n",
        "plt.legend();"
      ],
      "execution_count": 22,
      "outputs": [
        {
          "output_type": "display_data",
          "data": {
            "image/png": "[encoded data removed]",
            "text/plain": [
              "<Figure size 432x288 with 1 Axes>"
            ]
          },
          "metadata": {
            "tags": [],
            "needs_background": "light"
          }
        }
      ]
    },
    {
      "cell_type": "code",
      "metadata": {
        "id": "aExv52H6ObHj"
      },
      "source": [
        "fitter = CurveFitter(global_objective)\n",
        "fitter.fit('least_squares')"
      ],
      "execution_count": null,
      "outputs": []
    },
    {
      "cell_type": "code",
      "metadata": {
        "colab": {
          "base_uri": "https://localhost:8080/",
          "height": 283
        },
        "id": "OlvNnRUcR3pr",
        "outputId": "faf9a810-8e22-49c8-c288-cbe9da604a61"
      },
      "source": [
        "global_objective.plot()\n",
        "plt.yscale('log')\n",
        "plt.xscale('log')\n",
        "plt.xlabel('Q')\n",
        "plt.ylabel('Reflectivity')\n",
        "plt.legend();"
      ],
      "execution_count": 28,
      "outputs": [
        {
          "output_type": "display_data",
          "data": {
            "image/png": "[encoded data removed]",
            "text/plain": [
              "<Figure size 432x288 with 1 Axes>"
            ]
          },
          "metadata": {
            "tags": [],
            "needs_background": "light"
          }
        }
      ]
    },
    {
      "cell_type": "code",
      "metadata": {
        "id": "mMr7MV_r-VXF",
        "colab": {
          "base_uri": "https://localhost:8080/"
        },
        "outputId": "bcfbf04d-5e51-4e56-ada5-127268fde432"
      },
      "source": [
        "print(global_objective.varying_parameters())\n",
        "# output_df"
      ],
      "execution_count": 26,
      "outputs": [
        {
          "output_type": "stream",
          "text": [
            "________________________________________________________________________________\n",
            "Parameters:      None      \n",
            "<Parameter:'SiO2 thickness', value=19.7459  +/- 197 , bounds=[5.0, 30.0]>\n",
            "<Parameter:'SiO2 roughness', value=7.42828 +/- 38.6 , bounds=[3.0, 10.0]>\n",
            "<Parameter:'area per molecule', value=68.4291  +/- 150 , bounds=[42.0, 75.0]>\n",
            "<Parameter:'inner_head_thickness', value=5.29746  +/- 113 , bounds=[4.0, 11.0]>\n",
            "<Parameter:'tail_thickness', value=15.2053 +/- 35.2 , bounds=[10.0, 17.0]>\n",
            "<Parameter:'outer_head_thickness', value=4.00361  +/- 25  , bounds=[4.0, 11.0]>\n",
            "<Parameter:   'd2o SLD'   , value=5.97071 +/- 0.00409, bounds=[5.9, 6.36]>\n",
            "<Parameter:'bilayer/solvent roughness', value=8.32027 +/- 30.3 , bounds=[0.0, 15.0]>\n"
          ],
          "name": "stdout"
        }
      ]
    }
  ]
}